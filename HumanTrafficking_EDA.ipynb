{
 "cells": [
  {
   "cell_type": "code",
   "execution_count": 1,
   "metadata": {},
   "outputs": [],
   "source": [
    "#getting and working with data\n",
    "import pandas as pd\n",
    "import numpy as np\n",
    "import scipy.stats as stats\n",
    "\n",
    "#visualizing results\n",
    "%matplotlib inline\n",
    "import seaborn as sns\n",
    "import matplotlib.pyplot as plt\n",
    "from pycountry_convert import country_alpha2_to_country_name, country_name_to_country_alpha3\n",
    "import os\n",
    "\n",
    "#ignore warnings\n",
    "import warnings\n",
    "warnings.filterwarnings('ignore')"
   ]
  },
  {
   "cell_type": "code",
   "execution_count": 20,
   "metadata": {},
   "outputs": [
    {
     "data": {
      "text/html": [
       "<div>\n",
       "<style scoped>\n",
       "    .dataframe tbody tr th:only-of-type {\n",
       "        vertical-align: middle;\n",
       "    }\n",
       "\n",
       "    .dataframe tbody tr th {\n",
       "        vertical-align: top;\n",
       "    }\n",
       "\n",
       "    .dataframe thead th {\n",
       "        text-align: right;\n",
       "    }\n",
       "</style>\n",
       "<table border=\"1\" class=\"dataframe\">\n",
       "  <thead>\n",
       "    <tr style=\"text-align: right;\">\n",
       "      <th></th>\n",
       "      <th>yearOfRegistration</th>\n",
       "      <th>Datasource</th>\n",
       "      <th>gender</th>\n",
       "      <th>ageBroad</th>\n",
       "      <th>majorityStatus</th>\n",
       "      <th>majorityStatusAtExploit</th>\n",
       "      <th>majorityEntry</th>\n",
       "      <th>citizenship</th>\n",
       "      <th>meansOfControlDebtBondage</th>\n",
       "      <th>meansOfControlTakesEarnings</th>\n",
       "      <th>meansOfControlRestrictsFinancialAccess</th>\n",
       "      <th>meansOfControlThreats</th>\n",
       "      <th>meansOfControlPsychologicalAbuse</th>\n",
       "      <th>meansOfControlPhysicalAbuse</th>\n",
       "      <th>meansOfControlSexualAbuse</th>\n",
       "      <th>meansOfControlFalsePromises</th>\n",
       "      <th>meansOfControlPsychoactiveSubstances</th>\n",
       "      <th>meansOfControlRestrictsMovement</th>\n",
       "      <th>meansOfControlRestrictsMedicalCare</th>\n",
       "      <th>meansOfControlExcessiveWorkingHours</th>\n",
       "      <th>meansOfControlUsesChildren</th>\n",
       "      <th>meansOfControlThreatOfLawEnforcement</th>\n",
       "      <th>meansOfControlWithholdsNecessities</th>\n",
       "      <th>meansOfControlWithholdsDocuments</th>\n",
       "      <th>meansOfControlOther</th>\n",
       "      <th>meansOfControlNotSpecified</th>\n",
       "      <th>meansOfControlConcatenated</th>\n",
       "      <th>isForcedLabour</th>\n",
       "      <th>isSexualExploit</th>\n",
       "      <th>isOtherExploit</th>\n",
       "      <th>isSexAndLabour</th>\n",
       "      <th>isForcedMarriage</th>\n",
       "      <th>isForcedMilitary</th>\n",
       "      <th>isOrganRemoval</th>\n",
       "      <th>isSlaveryAndPractices</th>\n",
       "      <th>typeOfExploitConcatenated</th>\n",
       "      <th>typeOfLabourAgriculture</th>\n",
       "      <th>typeOfLabourAquafarming</th>\n",
       "      <th>typeOfLabourBegging</th>\n",
       "      <th>typeOfLabourConstruction</th>\n",
       "      <th>typeOfLabourDomesticWork</th>\n",
       "      <th>typeOfLabourHospitality</th>\n",
       "      <th>typeOfLabourIllicitActivities</th>\n",
       "      <th>typeOfLabourManufacturing</th>\n",
       "      <th>typeOfLabourMiningOrDrilling</th>\n",
       "      <th>typeOfLabourPeddling</th>\n",
       "      <th>typeOfLabourTransportation</th>\n",
       "      <th>typeOfLabourOther</th>\n",
       "      <th>typeOfLabourNotSpecified</th>\n",
       "      <th>typeOfLabourConcatenated</th>\n",
       "      <th>typeOfSexProstitution</th>\n",
       "      <th>typeOfSexPornography</th>\n",
       "      <th>typeOfSexRemoteInteractiveServices</th>\n",
       "      <th>typeOfSexPrivateSexualServices</th>\n",
       "      <th>typeOfSexConcatenated</th>\n",
       "      <th>isAbduction</th>\n",
       "      <th>RecruiterRelationship</th>\n",
       "      <th>CountryOfExploitation</th>\n",
       "      <th>recruiterRelationIntimatePartner</th>\n",
       "      <th>recruiterRelationFriend</th>\n",
       "      <th>recruiterRelationFamily</th>\n",
       "      <th>recruiterRelationOther</th>\n",
       "      <th>recruiterRelationUnknown</th>\n",
       "    </tr>\n",
       "  </thead>\n",
       "  <tbody>\n",
       "    <tr>\n",
       "      <th>0</th>\n",
       "      <td>2002</td>\n",
       "      <td>Case Management</td>\n",
       "      <td>Female</td>\n",
       "      <td>18--20</td>\n",
       "      <td>Adult</td>\n",
       "      <td>NaN</td>\n",
       "      <td>NaN</td>\n",
       "      <td>CO</td>\n",
       "      <td>NaN</td>\n",
       "      <td>NaN</td>\n",
       "      <td>NaN</td>\n",
       "      <td>NaN</td>\n",
       "      <td>NaN</td>\n",
       "      <td>NaN</td>\n",
       "      <td>NaN</td>\n",
       "      <td>NaN</td>\n",
       "      <td>NaN</td>\n",
       "      <td>NaN</td>\n",
       "      <td>NaN</td>\n",
       "      <td>NaN</td>\n",
       "      <td>NaN</td>\n",
       "      <td>NaN</td>\n",
       "      <td>NaN</td>\n",
       "      <td>NaN</td>\n",
       "      <td>NaN</td>\n",
       "      <td>1.0</td>\n",
       "      <td>NaN</td>\n",
       "      <td>0.0</td>\n",
       "      <td>1.0</td>\n",
       "      <td>0.0</td>\n",
       "      <td>0.0</td>\n",
       "      <td>NaN</td>\n",
       "      <td>0.0</td>\n",
       "      <td>0.0</td>\n",
       "      <td>NaN</td>\n",
       "      <td>Sexual exploitation</td>\n",
       "      <td>NaN</td>\n",
       "      <td>NaN</td>\n",
       "      <td>NaN</td>\n",
       "      <td>NaN</td>\n",
       "      <td>NaN</td>\n",
       "      <td>NaN</td>\n",
       "      <td>NaN</td>\n",
       "      <td>NaN</td>\n",
       "      <td>NaN</td>\n",
       "      <td>NaN</td>\n",
       "      <td>NaN</td>\n",
       "      <td>NaN</td>\n",
       "      <td>NaN</td>\n",
       "      <td>NaN</td>\n",
       "      <td>NaN</td>\n",
       "      <td>NaN</td>\n",
       "      <td>NaN</td>\n",
       "      <td>NaN</td>\n",
       "      <td>NaN</td>\n",
       "      <td>NaN</td>\n",
       "      <td>NaN</td>\n",
       "      <td>NaN</td>\n",
       "      <td>0.0</td>\n",
       "      <td>0.0</td>\n",
       "      <td>0.0</td>\n",
       "      <td>0.0</td>\n",
       "      <td>1.0</td>\n",
       "    </tr>\n",
       "    <tr>\n",
       "      <th>1</th>\n",
       "      <td>2002</td>\n",
       "      <td>Case Management</td>\n",
       "      <td>Female</td>\n",
       "      <td>18--20</td>\n",
       "      <td>Adult</td>\n",
       "      <td>NaN</td>\n",
       "      <td>NaN</td>\n",
       "      <td>CO</td>\n",
       "      <td>NaN</td>\n",
       "      <td>NaN</td>\n",
       "      <td>NaN</td>\n",
       "      <td>NaN</td>\n",
       "      <td>NaN</td>\n",
       "      <td>NaN</td>\n",
       "      <td>NaN</td>\n",
       "      <td>NaN</td>\n",
       "      <td>NaN</td>\n",
       "      <td>NaN</td>\n",
       "      <td>NaN</td>\n",
       "      <td>NaN</td>\n",
       "      <td>NaN</td>\n",
       "      <td>NaN</td>\n",
       "      <td>NaN</td>\n",
       "      <td>NaN</td>\n",
       "      <td>NaN</td>\n",
       "      <td>1.0</td>\n",
       "      <td>NaN</td>\n",
       "      <td>0.0</td>\n",
       "      <td>1.0</td>\n",
       "      <td>0.0</td>\n",
       "      <td>0.0</td>\n",
       "      <td>NaN</td>\n",
       "      <td>0.0</td>\n",
       "      <td>0.0</td>\n",
       "      <td>NaN</td>\n",
       "      <td>Sexual exploitation</td>\n",
       "      <td>NaN</td>\n",
       "      <td>NaN</td>\n",
       "      <td>NaN</td>\n",
       "      <td>NaN</td>\n",
       "      <td>NaN</td>\n",
       "      <td>NaN</td>\n",
       "      <td>NaN</td>\n",
       "      <td>NaN</td>\n",
       "      <td>NaN</td>\n",
       "      <td>NaN</td>\n",
       "      <td>NaN</td>\n",
       "      <td>NaN</td>\n",
       "      <td>NaN</td>\n",
       "      <td>NaN</td>\n",
       "      <td>NaN</td>\n",
       "      <td>NaN</td>\n",
       "      <td>NaN</td>\n",
       "      <td>NaN</td>\n",
       "      <td>NaN</td>\n",
       "      <td>NaN</td>\n",
       "      <td>NaN</td>\n",
       "      <td>NaN</td>\n",
       "      <td>0.0</td>\n",
       "      <td>0.0</td>\n",
       "      <td>0.0</td>\n",
       "      <td>0.0</td>\n",
       "      <td>1.0</td>\n",
       "    </tr>\n",
       "    <tr>\n",
       "      <th>2</th>\n",
       "      <td>2002</td>\n",
       "      <td>Case Management</td>\n",
       "      <td>Female</td>\n",
       "      <td>18--20</td>\n",
       "      <td>Adult</td>\n",
       "      <td>NaN</td>\n",
       "      <td>NaN</td>\n",
       "      <td>CO</td>\n",
       "      <td>NaN</td>\n",
       "      <td>NaN</td>\n",
       "      <td>NaN</td>\n",
       "      <td>NaN</td>\n",
       "      <td>NaN</td>\n",
       "      <td>NaN</td>\n",
       "      <td>NaN</td>\n",
       "      <td>NaN</td>\n",
       "      <td>NaN</td>\n",
       "      <td>NaN</td>\n",
       "      <td>NaN</td>\n",
       "      <td>NaN</td>\n",
       "      <td>NaN</td>\n",
       "      <td>NaN</td>\n",
       "      <td>NaN</td>\n",
       "      <td>NaN</td>\n",
       "      <td>NaN</td>\n",
       "      <td>1.0</td>\n",
       "      <td>NaN</td>\n",
       "      <td>0.0</td>\n",
       "      <td>1.0</td>\n",
       "      <td>0.0</td>\n",
       "      <td>0.0</td>\n",
       "      <td>NaN</td>\n",
       "      <td>0.0</td>\n",
       "      <td>0.0</td>\n",
       "      <td>NaN</td>\n",
       "      <td>Sexual exploitation</td>\n",
       "      <td>NaN</td>\n",
       "      <td>NaN</td>\n",
       "      <td>NaN</td>\n",
       "      <td>NaN</td>\n",
       "      <td>NaN</td>\n",
       "      <td>NaN</td>\n",
       "      <td>NaN</td>\n",
       "      <td>NaN</td>\n",
       "      <td>NaN</td>\n",
       "      <td>NaN</td>\n",
       "      <td>NaN</td>\n",
       "      <td>NaN</td>\n",
       "      <td>NaN</td>\n",
       "      <td>NaN</td>\n",
       "      <td>NaN</td>\n",
       "      <td>NaN</td>\n",
       "      <td>NaN</td>\n",
       "      <td>NaN</td>\n",
       "      <td>NaN</td>\n",
       "      <td>NaN</td>\n",
       "      <td>NaN</td>\n",
       "      <td>NaN</td>\n",
       "      <td>0.0</td>\n",
       "      <td>0.0</td>\n",
       "      <td>0.0</td>\n",
       "      <td>0.0</td>\n",
       "      <td>1.0</td>\n",
       "    </tr>\n",
       "    <tr>\n",
       "      <th>3</th>\n",
       "      <td>2002</td>\n",
       "      <td>Case Management</td>\n",
       "      <td>Female</td>\n",
       "      <td>18--20</td>\n",
       "      <td>Adult</td>\n",
       "      <td>NaN</td>\n",
       "      <td>NaN</td>\n",
       "      <td>CO</td>\n",
       "      <td>NaN</td>\n",
       "      <td>NaN</td>\n",
       "      <td>NaN</td>\n",
       "      <td>NaN</td>\n",
       "      <td>NaN</td>\n",
       "      <td>NaN</td>\n",
       "      <td>NaN</td>\n",
       "      <td>NaN</td>\n",
       "      <td>NaN</td>\n",
       "      <td>NaN</td>\n",
       "      <td>NaN</td>\n",
       "      <td>NaN</td>\n",
       "      <td>NaN</td>\n",
       "      <td>NaN</td>\n",
       "      <td>NaN</td>\n",
       "      <td>NaN</td>\n",
       "      <td>NaN</td>\n",
       "      <td>1.0</td>\n",
       "      <td>NaN</td>\n",
       "      <td>0.0</td>\n",
       "      <td>1.0</td>\n",
       "      <td>0.0</td>\n",
       "      <td>0.0</td>\n",
       "      <td>NaN</td>\n",
       "      <td>0.0</td>\n",
       "      <td>0.0</td>\n",
       "      <td>NaN</td>\n",
       "      <td>Sexual exploitation</td>\n",
       "      <td>NaN</td>\n",
       "      <td>NaN</td>\n",
       "      <td>NaN</td>\n",
       "      <td>NaN</td>\n",
       "      <td>NaN</td>\n",
       "      <td>NaN</td>\n",
       "      <td>NaN</td>\n",
       "      <td>NaN</td>\n",
       "      <td>NaN</td>\n",
       "      <td>NaN</td>\n",
       "      <td>NaN</td>\n",
       "      <td>NaN</td>\n",
       "      <td>NaN</td>\n",
       "      <td>NaN</td>\n",
       "      <td>NaN</td>\n",
       "      <td>NaN</td>\n",
       "      <td>NaN</td>\n",
       "      <td>NaN</td>\n",
       "      <td>NaN</td>\n",
       "      <td>NaN</td>\n",
       "      <td>NaN</td>\n",
       "      <td>NaN</td>\n",
       "      <td>0.0</td>\n",
       "      <td>0.0</td>\n",
       "      <td>0.0</td>\n",
       "      <td>0.0</td>\n",
       "      <td>1.0</td>\n",
       "    </tr>\n",
       "    <tr>\n",
       "      <th>4</th>\n",
       "      <td>2002</td>\n",
       "      <td>Case Management</td>\n",
       "      <td>Female</td>\n",
       "      <td>18--20</td>\n",
       "      <td>Adult</td>\n",
       "      <td>NaN</td>\n",
       "      <td>NaN</td>\n",
       "      <td>CO</td>\n",
       "      <td>NaN</td>\n",
       "      <td>NaN</td>\n",
       "      <td>NaN</td>\n",
       "      <td>NaN</td>\n",
       "      <td>NaN</td>\n",
       "      <td>NaN</td>\n",
       "      <td>NaN</td>\n",
       "      <td>NaN</td>\n",
       "      <td>NaN</td>\n",
       "      <td>NaN</td>\n",
       "      <td>NaN</td>\n",
       "      <td>NaN</td>\n",
       "      <td>NaN</td>\n",
       "      <td>NaN</td>\n",
       "      <td>NaN</td>\n",
       "      <td>NaN</td>\n",
       "      <td>NaN</td>\n",
       "      <td>1.0</td>\n",
       "      <td>NaN</td>\n",
       "      <td>0.0</td>\n",
       "      <td>1.0</td>\n",
       "      <td>0.0</td>\n",
       "      <td>0.0</td>\n",
       "      <td>NaN</td>\n",
       "      <td>0.0</td>\n",
       "      <td>0.0</td>\n",
       "      <td>NaN</td>\n",
       "      <td>Sexual exploitation</td>\n",
       "      <td>NaN</td>\n",
       "      <td>NaN</td>\n",
       "      <td>NaN</td>\n",
       "      <td>NaN</td>\n",
       "      <td>NaN</td>\n",
       "      <td>NaN</td>\n",
       "      <td>NaN</td>\n",
       "      <td>NaN</td>\n",
       "      <td>NaN</td>\n",
       "      <td>NaN</td>\n",
       "      <td>NaN</td>\n",
       "      <td>NaN</td>\n",
       "      <td>NaN</td>\n",
       "      <td>NaN</td>\n",
       "      <td>NaN</td>\n",
       "      <td>NaN</td>\n",
       "      <td>NaN</td>\n",
       "      <td>NaN</td>\n",
       "      <td>NaN</td>\n",
       "      <td>NaN</td>\n",
       "      <td>NaN</td>\n",
       "      <td>NaN</td>\n",
       "      <td>0.0</td>\n",
       "      <td>0.0</td>\n",
       "      <td>0.0</td>\n",
       "      <td>0.0</td>\n",
       "      <td>1.0</td>\n",
       "    </tr>\n",
       "  </tbody>\n",
       "</table>\n",
       "</div>"
      ],
      "text/plain": [
       "   yearOfRegistration       Datasource  gender ageBroad majorityStatus  \\\n",
       "0                2002  Case Management  Female   18--20          Adult   \n",
       "1                2002  Case Management  Female   18--20          Adult   \n",
       "2                2002  Case Management  Female   18--20          Adult   \n",
       "3                2002  Case Management  Female   18--20          Adult   \n",
       "4                2002  Case Management  Female   18--20          Adult   \n",
       "\n",
       "  majorityStatusAtExploit majorityEntry citizenship  \\\n",
       "0                     NaN           NaN          CO   \n",
       "1                     NaN           NaN          CO   \n",
       "2                     NaN           NaN          CO   \n",
       "3                     NaN           NaN          CO   \n",
       "4                     NaN           NaN          CO   \n",
       "\n",
       "   meansOfControlDebtBondage  meansOfControlTakesEarnings  \\\n",
       "0                        NaN                          NaN   \n",
       "1                        NaN                          NaN   \n",
       "2                        NaN                          NaN   \n",
       "3                        NaN                          NaN   \n",
       "4                        NaN                          NaN   \n",
       "\n",
       "   meansOfControlRestrictsFinancialAccess  meansOfControlThreats  \\\n",
       "0                                     NaN                    NaN   \n",
       "1                                     NaN                    NaN   \n",
       "2                                     NaN                    NaN   \n",
       "3                                     NaN                    NaN   \n",
       "4                                     NaN                    NaN   \n",
       "\n",
       "   meansOfControlPsychologicalAbuse  meansOfControlPhysicalAbuse  \\\n",
       "0                               NaN                          NaN   \n",
       "1                               NaN                          NaN   \n",
       "2                               NaN                          NaN   \n",
       "3                               NaN                          NaN   \n",
       "4                               NaN                          NaN   \n",
       "\n",
       "   meansOfControlSexualAbuse  meansOfControlFalsePromises  \\\n",
       "0                        NaN                          NaN   \n",
       "1                        NaN                          NaN   \n",
       "2                        NaN                          NaN   \n",
       "3                        NaN                          NaN   \n",
       "4                        NaN                          NaN   \n",
       "\n",
       "   meansOfControlPsychoactiveSubstances  meansOfControlRestrictsMovement  \\\n",
       "0                                   NaN                              NaN   \n",
       "1                                   NaN                              NaN   \n",
       "2                                   NaN                              NaN   \n",
       "3                                   NaN                              NaN   \n",
       "4                                   NaN                              NaN   \n",
       "\n",
       "   meansOfControlRestrictsMedicalCare  meansOfControlExcessiveWorkingHours  \\\n",
       "0                                 NaN                                  NaN   \n",
       "1                                 NaN                                  NaN   \n",
       "2                                 NaN                                  NaN   \n",
       "3                                 NaN                                  NaN   \n",
       "4                                 NaN                                  NaN   \n",
       "\n",
       "   meansOfControlUsesChildren  meansOfControlThreatOfLawEnforcement  \\\n",
       "0                         NaN                                   NaN   \n",
       "1                         NaN                                   NaN   \n",
       "2                         NaN                                   NaN   \n",
       "3                         NaN                                   NaN   \n",
       "4                         NaN                                   NaN   \n",
       "\n",
       "   meansOfControlWithholdsNecessities  meansOfControlWithholdsDocuments  \\\n",
       "0                                 NaN                               NaN   \n",
       "1                                 NaN                               NaN   \n",
       "2                                 NaN                               NaN   \n",
       "3                                 NaN                               NaN   \n",
       "4                                 NaN                               NaN   \n",
       "\n",
       "   meansOfControlOther  meansOfControlNotSpecified meansOfControlConcatenated  \\\n",
       "0                  NaN                         1.0                        NaN   \n",
       "1                  NaN                         1.0                        NaN   \n",
       "2                  NaN                         1.0                        NaN   \n",
       "3                  NaN                         1.0                        NaN   \n",
       "4                  NaN                         1.0                        NaN   \n",
       "\n",
       "   isForcedLabour  isSexualExploit  isOtherExploit  isSexAndLabour  \\\n",
       "0             0.0              1.0             0.0             0.0   \n",
       "1             0.0              1.0             0.0             0.0   \n",
       "2             0.0              1.0             0.0             0.0   \n",
       "3             0.0              1.0             0.0             0.0   \n",
       "4             0.0              1.0             0.0             0.0   \n",
       "\n",
       "   isForcedMarriage  isForcedMilitary  isOrganRemoval  isSlaveryAndPractices  \\\n",
       "0               NaN               0.0             0.0                    NaN   \n",
       "1               NaN               0.0             0.0                    NaN   \n",
       "2               NaN               0.0             0.0                    NaN   \n",
       "3               NaN               0.0             0.0                    NaN   \n",
       "4               NaN               0.0             0.0                    NaN   \n",
       "\n",
       "  typeOfExploitConcatenated  typeOfLabourAgriculture  typeOfLabourAquafarming  \\\n",
       "0       Sexual exploitation                      NaN                      NaN   \n",
       "1       Sexual exploitation                      NaN                      NaN   \n",
       "2       Sexual exploitation                      NaN                      NaN   \n",
       "3       Sexual exploitation                      NaN                      NaN   \n",
       "4       Sexual exploitation                      NaN                      NaN   \n",
       "\n",
       "   typeOfLabourBegging  typeOfLabourConstruction  typeOfLabourDomesticWork  \\\n",
       "0                  NaN                       NaN                       NaN   \n",
       "1                  NaN                       NaN                       NaN   \n",
       "2                  NaN                       NaN                       NaN   \n",
       "3                  NaN                       NaN                       NaN   \n",
       "4                  NaN                       NaN                       NaN   \n",
       "\n",
       "   typeOfLabourHospitality  typeOfLabourIllicitActivities  \\\n",
       "0                      NaN                            NaN   \n",
       "1                      NaN                            NaN   \n",
       "2                      NaN                            NaN   \n",
       "3                      NaN                            NaN   \n",
       "4                      NaN                            NaN   \n",
       "\n",
       "   typeOfLabourManufacturing  typeOfLabourMiningOrDrilling  \\\n",
       "0                        NaN                           NaN   \n",
       "1                        NaN                           NaN   \n",
       "2                        NaN                           NaN   \n",
       "3                        NaN                           NaN   \n",
       "4                        NaN                           NaN   \n",
       "\n",
       "   typeOfLabourPeddling  typeOfLabourTransportation  typeOfLabourOther  \\\n",
       "0                   NaN                         NaN                NaN   \n",
       "1                   NaN                         NaN                NaN   \n",
       "2                   NaN                         NaN                NaN   \n",
       "3                   NaN                         NaN                NaN   \n",
       "4                   NaN                         NaN                NaN   \n",
       "\n",
       "   typeOfLabourNotSpecified typeOfLabourConcatenated  typeOfSexProstitution  \\\n",
       "0                       NaN                      NaN                    NaN   \n",
       "1                       NaN                      NaN                    NaN   \n",
       "2                       NaN                      NaN                    NaN   \n",
       "3                       NaN                      NaN                    NaN   \n",
       "4                       NaN                      NaN                    NaN   \n",
       "\n",
       "   typeOfSexPornography  typeOfSexRemoteInteractiveServices  \\\n",
       "0                   NaN                                 NaN   \n",
       "1                   NaN                                 NaN   \n",
       "2                   NaN                                 NaN   \n",
       "3                   NaN                                 NaN   \n",
       "4                   NaN                                 NaN   \n",
       "\n",
       "   typeOfSexPrivateSexualServices typeOfSexConcatenated  isAbduction  \\\n",
       "0                             NaN                   NaN          NaN   \n",
       "1                             NaN                   NaN          NaN   \n",
       "2                             NaN                   NaN          NaN   \n",
       "3                             NaN                   NaN          NaN   \n",
       "4                             NaN                   NaN          NaN   \n",
       "\n",
       "  RecruiterRelationship CountryOfExploitation  \\\n",
       "0                   NaN                   NaN   \n",
       "1                   NaN                   NaN   \n",
       "2                   NaN                   NaN   \n",
       "3                   NaN                   NaN   \n",
       "4                   NaN                   NaN   \n",
       "\n",
       "   recruiterRelationIntimatePartner  recruiterRelationFriend  \\\n",
       "0                               0.0                      0.0   \n",
       "1                               0.0                      0.0   \n",
       "2                               0.0                      0.0   \n",
       "3                               0.0                      0.0   \n",
       "4                               0.0                      0.0   \n",
       "\n",
       "   recruiterRelationFamily  recruiterRelationOther  recruiterRelationUnknown  \n",
       "0                      0.0                     0.0                       1.0  \n",
       "1                      0.0                     0.0                       1.0  \n",
       "2                      0.0                     0.0                       1.0  \n",
       "3                      0.0                     0.0                       1.0  \n",
       "4                      0.0                     0.0                       1.0  "
      ]
     },
     "execution_count": 20,
     "metadata": {},
     "output_type": "execute_result"
    }
   ],
   "source": [
    "pd.set_option('display.max_columns', None)\n",
    "ht = pd.read_csv(\"The Global Dataset 14 Apr 2020.csv\", na_values='-99',low_memory=False)\n",
    "df = ht.drop(['By using this data you agree to the Terms of Use: https://www.ctdatacollaborative.org/terms-use'], axis=1)\n",
    "df = pd.DataFrame(df)\n",
    "df.head()"
   ]
  },
  {
   "cell_type": "code",
   "execution_count": 3,
   "metadata": {},
   "outputs": [
    {
     "name": "stdout",
     "output_type": "stream",
     "text": [
      "(48801, 63)\n"
     ]
    },
    {
     "data": {
      "text/plain": [
       "Index(['yearOfRegistration', 'Datasource', 'gender', 'ageBroad',\n",
       "       'majorityStatus', 'majorityStatusAtExploit', 'majorityEntry',\n",
       "       'citizenship', 'meansOfControlDebtBondage',\n",
       "       'meansOfControlTakesEarnings', 'meansOfControlRestrictsFinancialAccess',\n",
       "       'meansOfControlThreats', 'meansOfControlPsychologicalAbuse',\n",
       "       'meansOfControlPhysicalAbuse', 'meansOfControlSexualAbuse',\n",
       "       'meansOfControlFalsePromises', 'meansOfControlPsychoactiveSubstances',\n",
       "       'meansOfControlRestrictsMovement', 'meansOfControlRestrictsMedicalCare',\n",
       "       'meansOfControlExcessiveWorkingHours', 'meansOfControlUsesChildren',\n",
       "       'meansOfControlThreatOfLawEnforcement',\n",
       "       'meansOfControlWithholdsNecessities',\n",
       "       'meansOfControlWithholdsDocuments', 'meansOfControlOther',\n",
       "       'meansOfControlNotSpecified', 'meansOfControlConcatenated',\n",
       "       'isForcedLabour', 'isSexualExploit', 'isOtherExploit', 'isSexAndLabour',\n",
       "       'isForcedMarriage', 'isForcedMilitary', 'isOrganRemoval',\n",
       "       'isSlaveryAndPractices', 'typeOfExploitConcatenated',\n",
       "       'typeOfLabourAgriculture', 'typeOfLabourAquafarming',\n",
       "       'typeOfLabourBegging', 'typeOfLabourConstruction',\n",
       "       'typeOfLabourDomesticWork', 'typeOfLabourHospitality',\n",
       "       'typeOfLabourIllicitActivities', 'typeOfLabourManufacturing',\n",
       "       'typeOfLabourMiningOrDrilling', 'typeOfLabourPeddling',\n",
       "       'typeOfLabourTransportation', 'typeOfLabourOther',\n",
       "       'typeOfLabourNotSpecified', 'typeOfLabourConcatenated',\n",
       "       'typeOfSexProstitution', 'typeOfSexPornography',\n",
       "       'typeOfSexRemoteInteractiveServices', 'typeOfSexPrivateSexualServices',\n",
       "       'typeOfSexConcatenated', 'isAbduction', 'RecruiterRelationship',\n",
       "       'CountryOfExploitation', 'recruiterRelationIntimatePartner',\n",
       "       'recruiterRelationFriend', 'recruiterRelationFamily',\n",
       "       'recruiterRelationOther', 'recruiterRelationUnknown'],\n",
       "      dtype='object')"
      ]
     },
     "execution_count": 3,
     "metadata": {},
     "output_type": "execute_result"
    }
   ],
   "source": [
    "print(df.shape)\n",
    "df.columns"
   ]
  },
  {
   "cell_type": "code",
   "execution_count": 4,
   "metadata": {},
   "outputs": [
    {
     "name": "stdout",
     "output_type": "stream",
     "text": [
      "<class 'pandas.core.frame.DataFrame'>\n",
      "RangeIndex: 48801 entries, 0 to 48800\n",
      "Data columns (total 63 columns):\n",
      " #   Column                                  Non-Null Count  Dtype  \n",
      "---  ------                                  --------------  -----  \n",
      " 0   yearOfRegistration                      48801 non-null  int64  \n",
      " 1   Datasource                              48801 non-null  object \n",
      " 2   gender                                  48801 non-null  object \n",
      " 3   ageBroad                                36439 non-null  object \n",
      " 4   majorityStatus                          36439 non-null  object \n",
      " 5   majorityStatusAtExploit                 9290 non-null   object \n",
      " 6   majorityEntry                           6491 non-null   object \n",
      " 7   citizenship                             48523 non-null  object \n",
      " 8   meansOfControlDebtBondage               2496 non-null   float64\n",
      " 9   meansOfControlTakesEarnings             3997 non-null   float64\n",
      " 10  meansOfControlRestrictsFinancialAccess  253 non-null    float64\n",
      " 11  meansOfControlThreats                   5164 non-null   float64\n",
      " 12  meansOfControlPsychologicalAbuse        6056 non-null   float64\n",
      " 13  meansOfControlPhysicalAbuse             4849 non-null   float64\n",
      " 14  meansOfControlSexualAbuse               2821 non-null   float64\n",
      " 15  meansOfControlFalsePromises             3840 non-null   float64\n",
      " 16  meansOfControlPsychoactiveSubstances    3509 non-null   float64\n",
      " 17  meansOfControlRestrictsMovement         5620 non-null   float64\n",
      " 18  meansOfControlRestrictsMedicalCare      2499 non-null   float64\n",
      " 19  meansOfControlExcessiveWorkingHours     3317 non-null   float64\n",
      " 20  meansOfControlUsesChildren              151 non-null    float64\n",
      " 21  meansOfControlThreatOfLawEnforcement    2008 non-null   float64\n",
      " 22  meansOfControlWithholdsNecessities      2584 non-null   float64\n",
      " 23  meansOfControlWithholdsDocuments        3274 non-null   float64\n",
      " 24  meansOfControlOther                     3100 non-null   float64\n",
      " 25  meansOfControlNotSpecified              36857 non-null  float64\n",
      " 26  meansOfControlConcatenated              16520 non-null  object \n",
      " 27  isForcedLabour                          26102 non-null  float64\n",
      " 28  isSexualExploit                         23861 non-null  float64\n",
      " 29  isOtherExploit                          30938 non-null  float64\n",
      " 30  isSexAndLabour                          23456 non-null  float64\n",
      " 31  isForcedMarriage                        11026 non-null  float64\n",
      " 32  isForcedMilitary                        11450 non-null  float64\n",
      " 33  isOrganRemoval                          11450 non-null  float64\n",
      " 34  isSlaveryAndPractices                   1588 non-null   float64\n",
      " 35  typeOfExploitConcatenated               32627 non-null  object \n",
      " 36  typeOfLabourAgriculture                 20472 non-null  float64\n",
      " 37  typeOfLabourAquafarming                 20433 non-null  float64\n",
      " 38  typeOfLabourBegging                     20420 non-null  float64\n",
      " 39  typeOfLabourConstruction                20800 non-null  float64\n",
      " 40  typeOfLabourDomesticWork                22551 non-null  float64\n",
      " 41  typeOfLabourHospitality                 21681 non-null  float64\n",
      " 42  typeOfLabourIllicitActivities           20342 non-null  float64\n",
      " 43  typeOfLabourManufacturing               20545 non-null  float64\n",
      " 44  typeOfLabourMiningOrDrilling            20420 non-null  float64\n",
      " 45  typeOfLabourPeddling                    20342 non-null  float64\n",
      " 46  typeOfLabourTransportation              20420 non-null  float64\n",
      " 47  typeOfLabourOther                       21684 non-null  float64\n",
      " 48  typeOfLabourNotSpecified                21622 non-null  float64\n",
      " 49  typeOfLabourConcatenated                6249 non-null   object \n",
      " 50  typeOfSexProstitution                   18458 non-null  float64\n",
      " 51  typeOfSexPornography                    6444 non-null   float64\n",
      " 52  typeOfSexRemoteInteractiveServices      6444 non-null   float64\n",
      " 53  typeOfSexPrivateSexualServices          5215 non-null   float64\n",
      " 54  typeOfSexConcatenated                   4589 non-null   object \n",
      " 55  isAbduction                             16371 non-null  float64\n",
      " 56  RecruiterRelationship                   18120 non-null  object \n",
      " 57  CountryOfExploitation                   38626 non-null  object \n",
      " 58  recruiterRelationIntimatePartner        39994 non-null  float64\n",
      " 59  recruiterRelationFriend                 39994 non-null  float64\n",
      " 60  recruiterRelationFamily                 39994 non-null  float64\n",
      " 61  recruiterRelationOther                  39994 non-null  float64\n",
      " 62  recruiterRelationUnknown                48724 non-null  float64\n",
      "dtypes: float64(49), int64(1), object(13)\n",
      "memory usage: 23.5+ MB\n"
     ]
    }
   ],
   "source": [
    "df.info(verbose=1)"
   ]
  },
  {
   "cell_type": "code",
   "execution_count": 5,
   "metadata": {},
   "outputs": [],
   "source": [
    "# I received this code for 'pycountry_convert' from Kaggle user Viktor Polevoi, url: https://www.kaggle.com/viktorpolevoi/global-human-trafficking-eda\n",
    "\n",
    "def get_alpha3(col):\n",
    "    try: iso_3 =  country_name_to_country_alpha3(col)\n",
    "    except: iso_3 = 'Unknown'\n",
    "    return iso_3\n",
    "\n",
    "def get_name(col):\n",
    "    try: name =  country_alpha2_to_country_name(col)\n",
    "    except: name = 'Unknown'\n",
    "    return name"
   ]
  },
  {
   "cell_type": "code",
   "execution_count": 84,
   "metadata": {},
   "outputs": [],
   "source": [
    "#correct\n",
    "df['country'] = df['citizenship'].apply(lambda x: get_name(x))\n",
    "df['exploitCountry'] = df['CountryOfExploitation'].apply(lambda x: get_name(x))\n",
    "df['alpha_3'] = df['country'].apply(lambda x: get_alpha3(x))\n",
    "df['exploitAlpha_3'] = df['exploitCountry'].apply(lambda x: get_alpha3(x))\n",
    "df_map = pd.DataFrame(df.groupby(['country', 'alpha_3'])['alpha_3'].agg(victims='count')).reset_index()\n",
    "df_map_exploit = pd.DataFrame(df.groupby(['exploitCountry', 'exploitAlpha_3'])['exploitAlpha_3'].agg(Victims='count')).reset_index()"
   ]
  },
  {
   "cell_type": "code",
   "execution_count": 86,
   "metadata": {},
   "outputs": [
    {
     "data": {
      "application/vnd.plotly.v1+json": {
       "config": {
        "plotlyServerURL": "https://plot.ly"
       },
       "data": [
        {
         "coloraxis": "coloraxis",
         "geo": "geo",
         "hovertemplate": "<b>%{hovertext}</b><br><br>alpha_3=%{location}<br>victims=%{z}<extra></extra>",
         "hovertext": [
          "Afghanistan",
          "Albania",
          "Bangladesh",
          "Belarus",
          "Bolivia, Plurinational State of",
          "Bulgaria",
          "Burkina Faso",
          "Cambodia",
          "China",
          "Colombia",
          "Congo, The Democratic Republic of the",
          "Côte d'Ivoire",
          "Eritrea",
          "Ghana",
          "Guinea",
          "Guinea-Bissau",
          "Haiti",
          "Indonesia",
          "Kazakhstan",
          "Kenya",
          "Korea, Republic of",
          "Kyrgyzstan",
          "Lao People's Democratic Republic",
          "Madagascar",
          "Mali",
          "Mexico",
          "Moldova, Republic of",
          "Myanmar",
          "Nepal",
          "Niger",
          "Nigeria",
          "Philippines",
          "Romania",
          "Senegal",
          "Sierra Leone",
          "Sri Lanka",
          "Tajikistan",
          "Thailand",
          "Turkmenistan",
          "Uganda",
          "Ukraine",
          "United States",
          "Unknown",
          "Uzbekistan",
          "Viet Nam"
         ],
         "locations": [
          "AFG",
          "ALB",
          "BGD",
          "BLR",
          "BOL",
          "BGR",
          "BFA",
          "KHM",
          "CHN",
          "COL",
          "COD",
          "CIV",
          "ERI",
          "GHA",
          "GIN",
          "GNB",
          "HTI",
          "IDN",
          "KAZ",
          "KEN",
          "KOR",
          "KGZ",
          "LAO",
          "MDG",
          "MLI",
          "MEX",
          "MDA",
          "MMR",
          "NPL",
          "NER",
          "NGA",
          "PHL",
          "ROU",
          "SEN",
          "SLE",
          "LKA",
          "TJK",
          "THA",
          "TKM",
          "UGA",
          "UKR",
          "USA",
          "Unknown",
          "UZB",
          "VNM"
         ],
         "name": "",
         "type": "choropleth",
         "z": [
          97,
          22,
          11,
          1463,
          18,
          342,
          33,
          1979,
          23,
          124,
          53,
          31,
          13,
          544,
          15,
          145,
          339,
          1971,
          54,
          32,
          12,
          437,
          126,
          94,
          45,
          19,
          5901,
          1250,
          27,
          31,
          108,
          11365,
          655,
          70,
          81,
          85,
          43,
          55,
          26,
          98,
          7761,
          3636,
          9136,
          261,
          170
         ]
        }
       ],
       "layout": {
        "coloraxis": {
         "colorbar": {
          "title": {
           "text": "victims"
          }
         },
         "colorscale": [
          [
           0,
           "#fde725"
          ],
          [
           0.1111111111111111,
           "#b5de2b"
          ],
          [
           0.2222222222222222,
           "#6ece58"
          ],
          [
           0.3333333333333333,
           "#35b779"
          ],
          [
           0.4444444444444444,
           "#1f9e89"
          ],
          [
           0.5555555555555556,
           "#26828e"
          ],
          [
           0.6666666666666666,
           "#31688e"
          ],
          [
           0.7777777777777778,
           "#3e4989"
          ],
          [
           0.8888888888888888,
           "#482878"
          ],
          [
           1,
           "#440154"
          ]
         ]
        },
        "geo": {
         "center": {},
         "domain": {
          "x": [
           0,
           1
          ],
          "y": [
           0,
           1
          ]
         }
        },
        "legend": {
         "tracegroupgap": 0
        },
        "margin": {
         "t": 60
        },
        "template": {
         "data": {
          "bar": [
           {
            "error_x": {
             "color": "#2a3f5f"
            },
            "error_y": {
             "color": "#2a3f5f"
            },
            "marker": {
             "line": {
              "color": "#E5ECF6",
              "width": 0.5
             }
            },
            "type": "bar"
           }
          ],
          "barpolar": [
           {
            "marker": {
             "line": {
              "color": "#E5ECF6",
              "width": 0.5
             }
            },
            "type": "barpolar"
           }
          ],
          "carpet": [
           {
            "aaxis": {
             "endlinecolor": "#2a3f5f",
             "gridcolor": "white",
             "linecolor": "white",
             "minorgridcolor": "white",
             "startlinecolor": "#2a3f5f"
            },
            "baxis": {
             "endlinecolor": "#2a3f5f",
             "gridcolor": "white",
             "linecolor": "white",
             "minorgridcolor": "white",
             "startlinecolor": "#2a3f5f"
            },
            "type": "carpet"
           }
          ],
          "choropleth": [
           {
            "colorbar": {
             "outlinewidth": 0,
             "ticks": ""
            },
            "type": "choropleth"
           }
          ],
          "contour": [
           {
            "colorbar": {
             "outlinewidth": 0,
             "ticks": ""
            },
            "colorscale": [
             [
              0,
              "#0d0887"
             ],
             [
              0.1111111111111111,
              "#46039f"
             ],
             [
              0.2222222222222222,
              "#7201a8"
             ],
             [
              0.3333333333333333,
              "#9c179e"
             ],
             [
              0.4444444444444444,
              "#bd3786"
             ],
             [
              0.5555555555555556,
              "#d8576b"
             ],
             [
              0.6666666666666666,
              "#ed7953"
             ],
             [
              0.7777777777777778,
              "#fb9f3a"
             ],
             [
              0.8888888888888888,
              "#fdca26"
             ],
             [
              1,
              "#f0f921"
             ]
            ],
            "type": "contour"
           }
          ],
          "contourcarpet": [
           {
            "colorbar": {
             "outlinewidth": 0,
             "ticks": ""
            },
            "type": "contourcarpet"
           }
          ],
          "heatmap": [
           {
            "colorbar": {
             "outlinewidth": 0,
             "ticks": ""
            },
            "colorscale": [
             [
              0,
              "#0d0887"
             ],
             [
              0.1111111111111111,
              "#46039f"
             ],
             [
              0.2222222222222222,
              "#7201a8"
             ],
             [
              0.3333333333333333,
              "#9c179e"
             ],
             [
              0.4444444444444444,
              "#bd3786"
             ],
             [
              0.5555555555555556,
              "#d8576b"
             ],
             [
              0.6666666666666666,
              "#ed7953"
             ],
             [
              0.7777777777777778,
              "#fb9f3a"
             ],
             [
              0.8888888888888888,
              "#fdca26"
             ],
             [
              1,
              "#f0f921"
             ]
            ],
            "type": "heatmap"
           }
          ],
          "heatmapgl": [
           {
            "colorbar": {
             "outlinewidth": 0,
             "ticks": ""
            },
            "colorscale": [
             [
              0,
              "#0d0887"
             ],
             [
              0.1111111111111111,
              "#46039f"
             ],
             [
              0.2222222222222222,
              "#7201a8"
             ],
             [
              0.3333333333333333,
              "#9c179e"
             ],
             [
              0.4444444444444444,
              "#bd3786"
             ],
             [
              0.5555555555555556,
              "#d8576b"
             ],
             [
              0.6666666666666666,
              "#ed7953"
             ],
             [
              0.7777777777777778,
              "#fb9f3a"
             ],
             [
              0.8888888888888888,
              "#fdca26"
             ],
             [
              1,
              "#f0f921"
             ]
            ],
            "type": "heatmapgl"
           }
          ],
          "histogram": [
           {
            "marker": {
             "colorbar": {
              "outlinewidth": 0,
              "ticks": ""
             }
            },
            "type": "histogram"
           }
          ],
          "histogram2d": [
           {
            "colorbar": {
             "outlinewidth": 0,
             "ticks": ""
            },
            "colorscale": [
             [
              0,
              "#0d0887"
             ],
             [
              0.1111111111111111,
              "#46039f"
             ],
             [
              0.2222222222222222,
              "#7201a8"
             ],
             [
              0.3333333333333333,
              "#9c179e"
             ],
             [
              0.4444444444444444,
              "#bd3786"
             ],
             [
              0.5555555555555556,
              "#d8576b"
             ],
             [
              0.6666666666666666,
              "#ed7953"
             ],
             [
              0.7777777777777778,
              "#fb9f3a"
             ],
             [
              0.8888888888888888,
              "#fdca26"
             ],
             [
              1,
              "#f0f921"
             ]
            ],
            "type": "histogram2d"
           }
          ],
          "histogram2dcontour": [
           {
            "colorbar": {
             "outlinewidth": 0,
             "ticks": ""
            },
            "colorscale": [
             [
              0,
              "#0d0887"
             ],
             [
              0.1111111111111111,
              "#46039f"
             ],
             [
              0.2222222222222222,
              "#7201a8"
             ],
             [
              0.3333333333333333,
              "#9c179e"
             ],
             [
              0.4444444444444444,
              "#bd3786"
             ],
             [
              0.5555555555555556,
              "#d8576b"
             ],
             [
              0.6666666666666666,
              "#ed7953"
             ],
             [
              0.7777777777777778,
              "#fb9f3a"
             ],
             [
              0.8888888888888888,
              "#fdca26"
             ],
             [
              1,
              "#f0f921"
             ]
            ],
            "type": "histogram2dcontour"
           }
          ],
          "mesh3d": [
           {
            "colorbar": {
             "outlinewidth": 0,
             "ticks": ""
            },
            "type": "mesh3d"
           }
          ],
          "parcoords": [
           {
            "line": {
             "colorbar": {
              "outlinewidth": 0,
              "ticks": ""
             }
            },
            "type": "parcoords"
           }
          ],
          "pie": [
           {
            "automargin": true,
            "type": "pie"
           }
          ],
          "scatter": [
           {
            "marker": {
             "colorbar": {
              "outlinewidth": 0,
              "ticks": ""
             }
            },
            "type": "scatter"
           }
          ],
          "scatter3d": [
           {
            "line": {
             "colorbar": {
              "outlinewidth": 0,
              "ticks": ""
             }
            },
            "marker": {
             "colorbar": {
              "outlinewidth": 0,
              "ticks": ""
             }
            },
            "type": "scatter3d"
           }
          ],
          "scattercarpet": [
           {
            "marker": {
             "colorbar": {
              "outlinewidth": 0,
              "ticks": ""
             }
            },
            "type": "scattercarpet"
           }
          ],
          "scattergeo": [
           {
            "marker": {
             "colorbar": {
              "outlinewidth": 0,
              "ticks": ""
             }
            },
            "type": "scattergeo"
           }
          ],
          "scattergl": [
           {
            "marker": {
             "colorbar": {
              "outlinewidth": 0,
              "ticks": ""
             }
            },
            "type": "scattergl"
           }
          ],
          "scattermapbox": [
           {
            "marker": {
             "colorbar": {
              "outlinewidth": 0,
              "ticks": ""
             }
            },
            "type": "scattermapbox"
           }
          ],
          "scatterpolar": [
           {
            "marker": {
             "colorbar": {
              "outlinewidth": 0,
              "ticks": ""
             }
            },
            "type": "scatterpolar"
           }
          ],
          "scatterpolargl": [
           {
            "marker": {
             "colorbar": {
              "outlinewidth": 0,
              "ticks": ""
             }
            },
            "type": "scatterpolargl"
           }
          ],
          "scatterternary": [
           {
            "marker": {
             "colorbar": {
              "outlinewidth": 0,
              "ticks": ""
             }
            },
            "type": "scatterternary"
           }
          ],
          "surface": [
           {
            "colorbar": {
             "outlinewidth": 0,
             "ticks": ""
            },
            "colorscale": [
             [
              0,
              "#0d0887"
             ],
             [
              0.1111111111111111,
              "#46039f"
             ],
             [
              0.2222222222222222,
              "#7201a8"
             ],
             [
              0.3333333333333333,
              "#9c179e"
             ],
             [
              0.4444444444444444,
              "#bd3786"
             ],
             [
              0.5555555555555556,
              "#d8576b"
             ],
             [
              0.6666666666666666,
              "#ed7953"
             ],
             [
              0.7777777777777778,
              "#fb9f3a"
             ],
             [
              0.8888888888888888,
              "#fdca26"
             ],
             [
              1,
              "#f0f921"
             ]
            ],
            "type": "surface"
           }
          ],
          "table": [
           {
            "cells": {
             "fill": {
              "color": "#EBF0F8"
             },
             "line": {
              "color": "white"
             }
            },
            "header": {
             "fill": {
              "color": "#C8D4E3"
             },
             "line": {
              "color": "white"
             }
            },
            "type": "table"
           }
          ]
         },
         "layout": {
          "annotationdefaults": {
           "arrowcolor": "#2a3f5f",
           "arrowhead": 0,
           "arrowwidth": 1
          },
          "autotypenumbers": "strict",
          "coloraxis": {
           "colorbar": {
            "outlinewidth": 0,
            "ticks": ""
           }
          },
          "colorscale": {
           "diverging": [
            [
             0,
             "#8e0152"
            ],
            [
             0.1,
             "#c51b7d"
            ],
            [
             0.2,
             "#de77ae"
            ],
            [
             0.3,
             "#f1b6da"
            ],
            [
             0.4,
             "#fde0ef"
            ],
            [
             0.5,
             "#f7f7f7"
            ],
            [
             0.6,
             "#e6f5d0"
            ],
            [
             0.7,
             "#b8e186"
            ],
            [
             0.8,
             "#7fbc41"
            ],
            [
             0.9,
             "#4d9221"
            ],
            [
             1,
             "#276419"
            ]
           ],
           "sequential": [
            [
             0,
             "#0d0887"
            ],
            [
             0.1111111111111111,
             "#46039f"
            ],
            [
             0.2222222222222222,
             "#7201a8"
            ],
            [
             0.3333333333333333,
             "#9c179e"
            ],
            [
             0.4444444444444444,
             "#bd3786"
            ],
            [
             0.5555555555555556,
             "#d8576b"
            ],
            [
             0.6666666666666666,
             "#ed7953"
            ],
            [
             0.7777777777777778,
             "#fb9f3a"
            ],
            [
             0.8888888888888888,
             "#fdca26"
            ],
            [
             1,
             "#f0f921"
            ]
           ],
           "sequentialminus": [
            [
             0,
             "#0d0887"
            ],
            [
             0.1111111111111111,
             "#46039f"
            ],
            [
             0.2222222222222222,
             "#7201a8"
            ],
            [
             0.3333333333333333,
             "#9c179e"
            ],
            [
             0.4444444444444444,
             "#bd3786"
            ],
            [
             0.5555555555555556,
             "#d8576b"
            ],
            [
             0.6666666666666666,
             "#ed7953"
            ],
            [
             0.7777777777777778,
             "#fb9f3a"
            ],
            [
             0.8888888888888888,
             "#fdca26"
            ],
            [
             1,
             "#f0f921"
            ]
           ]
          },
          "colorway": [
           "#636efa",
           "#EF553B",
           "#00cc96",
           "#ab63fa",
           "#FFA15A",
           "#19d3f3",
           "#FF6692",
           "#B6E880",
           "#FF97FF",
           "#FECB52"
          ],
          "font": {
           "color": "#2a3f5f"
          },
          "geo": {
           "bgcolor": "white",
           "lakecolor": "white",
           "landcolor": "#E5ECF6",
           "showlakes": true,
           "showland": true,
           "subunitcolor": "white"
          },
          "hoverlabel": {
           "align": "left"
          },
          "hovermode": "closest",
          "mapbox": {
           "style": "light"
          },
          "paper_bgcolor": "white",
          "plot_bgcolor": "#E5ECF6",
          "polar": {
           "angularaxis": {
            "gridcolor": "white",
            "linecolor": "white",
            "ticks": ""
           },
           "bgcolor": "#E5ECF6",
           "radialaxis": {
            "gridcolor": "white",
            "linecolor": "white",
            "ticks": ""
           }
          },
          "scene": {
           "xaxis": {
            "backgroundcolor": "#E5ECF6",
            "gridcolor": "white",
            "gridwidth": 2,
            "linecolor": "white",
            "showbackground": true,
            "ticks": "",
            "zerolinecolor": "white"
           },
           "yaxis": {
            "backgroundcolor": "#E5ECF6",
            "gridcolor": "white",
            "gridwidth": 2,
            "linecolor": "white",
            "showbackground": true,
            "ticks": "",
            "zerolinecolor": "white"
           },
           "zaxis": {
            "backgroundcolor": "#E5ECF6",
            "gridcolor": "white",
            "gridwidth": 2,
            "linecolor": "white",
            "showbackground": true,
            "ticks": "",
            "zerolinecolor": "white"
           }
          },
          "shapedefaults": {
           "line": {
            "color": "#2a3f5f"
           }
          },
          "ternary": {
           "aaxis": {
            "gridcolor": "white",
            "linecolor": "white",
            "ticks": ""
           },
           "baxis": {
            "gridcolor": "white",
            "linecolor": "white",
            "ticks": ""
           },
           "bgcolor": "#E5ECF6",
           "caxis": {
            "gridcolor": "white",
            "linecolor": "white",
            "ticks": ""
           }
          },
          "title": {
           "x": 0.05
          },
          "xaxis": {
           "automargin": true,
           "gridcolor": "white",
           "linecolor": "white",
           "ticks": "",
           "title": {
            "standoff": 15
           },
           "zerolinecolor": "white",
           "zerolinewidth": 2
          },
          "yaxis": {
           "automargin": true,
           "gridcolor": "white",
           "linecolor": "white",
           "ticks": "",
           "title": {
            "standoff": 15
           },
           "zerolinecolor": "white",
           "zerolinewidth": 2
          }
         }
        },
        "title": {
         "text": "Human Trafficking Total by Citizenship (2002-2019)"
        }
       }
      },
      "text/html": [
       "<div>                            <div id=\"fa353754-1e07-4585-ad09-7713baaf3912\" class=\"plotly-graph-div\" style=\"height:525px; width:100%;\"></div>            <script type=\"text/javascript\">                require([\"plotly\"], function(Plotly) {                    window.PLOTLYENV=window.PLOTLYENV || {};                                    if (document.getElementById(\"fa353754-1e07-4585-ad09-7713baaf3912\")) {                    Plotly.newPlot(                        \"fa353754-1e07-4585-ad09-7713baaf3912\",                        [{\"coloraxis\": \"coloraxis\", \"geo\": \"geo\", \"hovertemplate\": \"<b>%{hovertext}</b><br><br>alpha_3=%{location}<br>victims=%{z}<extra></extra>\", \"hovertext\": [\"Afghanistan\", \"Albania\", \"Bangladesh\", \"Belarus\", \"Bolivia, Plurinational State of\", \"Bulgaria\", \"Burkina Faso\", \"Cambodia\", \"China\", \"Colombia\", \"Congo, The Democratic Republic of the\", \"C\\u00f4te d'Ivoire\", \"Eritrea\", \"Ghana\", \"Guinea\", \"Guinea-Bissau\", \"Haiti\", \"Indonesia\", \"Kazakhstan\", \"Kenya\", \"Korea, Republic of\", \"Kyrgyzstan\", \"Lao People's Democratic Republic\", \"Madagascar\", \"Mali\", \"Mexico\", \"Moldova, Republic of\", \"Myanmar\", \"Nepal\", \"Niger\", \"Nigeria\", \"Philippines\", \"Romania\", \"Senegal\", \"Sierra Leone\", \"Sri Lanka\", \"Tajikistan\", \"Thailand\", \"Turkmenistan\", \"Uganda\", \"Ukraine\", \"United States\", \"Unknown\", \"Uzbekistan\", \"Viet Nam\"], \"locations\": [\"AFG\", \"ALB\", \"BGD\", \"BLR\", \"BOL\", \"BGR\", \"BFA\", \"KHM\", \"CHN\", \"COL\", \"COD\", \"CIV\", \"ERI\", \"GHA\", \"GIN\", \"GNB\", \"HTI\", \"IDN\", \"KAZ\", \"KEN\", \"KOR\", \"KGZ\", \"LAO\", \"MDG\", \"MLI\", \"MEX\", \"MDA\", \"MMR\", \"NPL\", \"NER\", \"NGA\", \"PHL\", \"ROU\", \"SEN\", \"SLE\", \"LKA\", \"TJK\", \"THA\", \"TKM\", \"UGA\", \"UKR\", \"USA\", \"Unknown\", \"UZB\", \"VNM\"], \"name\": \"\", \"type\": \"choropleth\", \"z\": [97, 22, 11, 1463, 18, 342, 33, 1979, 23, 124, 53, 31, 13, 544, 15, 145, 339, 1971, 54, 32, 12, 437, 126, 94, 45, 19, 5901, 1250, 27, 31, 108, 11365, 655, 70, 81, 85, 43, 55, 26, 98, 7761, 3636, 9136, 261, 170]}],                        {\"coloraxis\": {\"colorbar\": {\"title\": {\"text\": \"victims\"}}, \"colorscale\": [[0.0, \"#fde725\"], [0.1111111111111111, \"#b5de2b\"], [0.2222222222222222, \"#6ece58\"], [0.3333333333333333, \"#35b779\"], [0.4444444444444444, \"#1f9e89\"], [0.5555555555555556, \"#26828e\"], [0.6666666666666666, \"#31688e\"], [0.7777777777777778, \"#3e4989\"], [0.8888888888888888, \"#482878\"], [1.0, \"#440154\"]]}, \"geo\": {\"center\": {}, \"domain\": {\"x\": [0.0, 1.0], \"y\": [0.0, 1.0]}}, \"legend\": {\"tracegroupgap\": 0}, \"margin\": {\"t\": 60}, \"template\": {\"data\": {\"bar\": [{\"error_x\": {\"color\": \"#2a3f5f\"}, \"error_y\": {\"color\": \"#2a3f5f\"}, \"marker\": {\"line\": {\"color\": \"#E5ECF6\", \"width\": 0.5}}, \"type\": \"bar\"}], \"barpolar\": [{\"marker\": {\"line\": {\"color\": \"#E5ECF6\", \"width\": 0.5}}, \"type\": \"barpolar\"}], \"carpet\": [{\"aaxis\": {\"endlinecolor\": \"#2a3f5f\", \"gridcolor\": \"white\", \"linecolor\": \"white\", \"minorgridcolor\": \"white\", \"startlinecolor\": \"#2a3f5f\"}, \"baxis\": {\"endlinecolor\": \"#2a3f5f\", \"gridcolor\": \"white\", \"linecolor\": \"white\", \"minorgridcolor\": \"white\", \"startlinecolor\": \"#2a3f5f\"}, \"type\": \"carpet\"}], \"choropleth\": [{\"colorbar\": {\"outlinewidth\": 0, \"ticks\": \"\"}, \"type\": \"choropleth\"}], \"contour\": [{\"colorbar\": {\"outlinewidth\": 0, \"ticks\": \"\"}, \"colorscale\": [[0.0, \"#0d0887\"], [0.1111111111111111, \"#46039f\"], [0.2222222222222222, \"#7201a8\"], [0.3333333333333333, \"#9c179e\"], [0.4444444444444444, \"#bd3786\"], [0.5555555555555556, \"#d8576b\"], [0.6666666666666666, \"#ed7953\"], [0.7777777777777778, \"#fb9f3a\"], [0.8888888888888888, \"#fdca26\"], [1.0, \"#f0f921\"]], \"type\": \"contour\"}], \"contourcarpet\": [{\"colorbar\": {\"outlinewidth\": 0, \"ticks\": \"\"}, \"type\": \"contourcarpet\"}], \"heatmap\": [{\"colorbar\": {\"outlinewidth\": 0, \"ticks\": \"\"}, \"colorscale\": [[0.0, \"#0d0887\"], [0.1111111111111111, \"#46039f\"], [0.2222222222222222, \"#7201a8\"], [0.3333333333333333, \"#9c179e\"], [0.4444444444444444, \"#bd3786\"], [0.5555555555555556, \"#d8576b\"], [0.6666666666666666, \"#ed7953\"], [0.7777777777777778, \"#fb9f3a\"], [0.8888888888888888, \"#fdca26\"], [1.0, \"#f0f921\"]], \"type\": \"heatmap\"}], \"heatmapgl\": [{\"colorbar\": {\"outlinewidth\": 0, \"ticks\": \"\"}, \"colorscale\": [[0.0, \"#0d0887\"], [0.1111111111111111, \"#46039f\"], [0.2222222222222222, \"#7201a8\"], [0.3333333333333333, \"#9c179e\"], [0.4444444444444444, \"#bd3786\"], [0.5555555555555556, \"#d8576b\"], [0.6666666666666666, \"#ed7953\"], [0.7777777777777778, \"#fb9f3a\"], [0.8888888888888888, \"#fdca26\"], [1.0, \"#f0f921\"]], \"type\": \"heatmapgl\"}], \"histogram\": [{\"marker\": {\"colorbar\": {\"outlinewidth\": 0, \"ticks\": \"\"}}, \"type\": \"histogram\"}], \"histogram2d\": [{\"colorbar\": {\"outlinewidth\": 0, \"ticks\": \"\"}, \"colorscale\": [[0.0, \"#0d0887\"], [0.1111111111111111, \"#46039f\"], [0.2222222222222222, \"#7201a8\"], [0.3333333333333333, \"#9c179e\"], [0.4444444444444444, \"#bd3786\"], [0.5555555555555556, \"#d8576b\"], [0.6666666666666666, \"#ed7953\"], [0.7777777777777778, \"#fb9f3a\"], [0.8888888888888888, \"#fdca26\"], [1.0, \"#f0f921\"]], \"type\": \"histogram2d\"}], \"histogram2dcontour\": [{\"colorbar\": {\"outlinewidth\": 0, \"ticks\": \"\"}, \"colorscale\": [[0.0, \"#0d0887\"], [0.1111111111111111, \"#46039f\"], [0.2222222222222222, \"#7201a8\"], [0.3333333333333333, \"#9c179e\"], [0.4444444444444444, \"#bd3786\"], [0.5555555555555556, \"#d8576b\"], [0.6666666666666666, \"#ed7953\"], [0.7777777777777778, \"#fb9f3a\"], [0.8888888888888888, \"#fdca26\"], [1.0, \"#f0f921\"]], \"type\": \"histogram2dcontour\"}], \"mesh3d\": [{\"colorbar\": {\"outlinewidth\": 0, \"ticks\": \"\"}, \"type\": \"mesh3d\"}], \"parcoords\": [{\"line\": {\"colorbar\": {\"outlinewidth\": 0, \"ticks\": \"\"}}, \"type\": \"parcoords\"}], \"pie\": [{\"automargin\": true, \"type\": \"pie\"}], \"scatter\": [{\"marker\": {\"colorbar\": {\"outlinewidth\": 0, \"ticks\": \"\"}}, \"type\": \"scatter\"}], \"scatter3d\": [{\"line\": {\"colorbar\": {\"outlinewidth\": 0, \"ticks\": \"\"}}, \"marker\": {\"colorbar\": {\"outlinewidth\": 0, \"ticks\": \"\"}}, \"type\": \"scatter3d\"}], \"scattercarpet\": [{\"marker\": {\"colorbar\": {\"outlinewidth\": 0, \"ticks\": \"\"}}, \"type\": \"scattercarpet\"}], \"scattergeo\": [{\"marker\": {\"colorbar\": {\"outlinewidth\": 0, \"ticks\": \"\"}}, \"type\": \"scattergeo\"}], \"scattergl\": [{\"marker\": {\"colorbar\": {\"outlinewidth\": 0, \"ticks\": \"\"}}, \"type\": \"scattergl\"}], \"scattermapbox\": [{\"marker\": {\"colorbar\": {\"outlinewidth\": 0, \"ticks\": \"\"}}, \"type\": \"scattermapbox\"}], \"scatterpolar\": [{\"marker\": {\"colorbar\": {\"outlinewidth\": 0, \"ticks\": \"\"}}, \"type\": \"scatterpolar\"}], \"scatterpolargl\": [{\"marker\": {\"colorbar\": {\"outlinewidth\": 0, \"ticks\": \"\"}}, \"type\": \"scatterpolargl\"}], \"scatterternary\": [{\"marker\": {\"colorbar\": {\"outlinewidth\": 0, \"ticks\": \"\"}}, \"type\": \"scatterternary\"}], \"surface\": [{\"colorbar\": {\"outlinewidth\": 0, \"ticks\": \"\"}, \"colorscale\": [[0.0, \"#0d0887\"], [0.1111111111111111, \"#46039f\"], [0.2222222222222222, \"#7201a8\"], [0.3333333333333333, \"#9c179e\"], [0.4444444444444444, \"#bd3786\"], [0.5555555555555556, \"#d8576b\"], [0.6666666666666666, \"#ed7953\"], [0.7777777777777778, \"#fb9f3a\"], [0.8888888888888888, \"#fdca26\"], [1.0, \"#f0f921\"]], \"type\": \"surface\"}], \"table\": [{\"cells\": {\"fill\": {\"color\": \"#EBF0F8\"}, \"line\": {\"color\": \"white\"}}, \"header\": {\"fill\": {\"color\": \"#C8D4E3\"}, \"line\": {\"color\": \"white\"}}, \"type\": \"table\"}]}, \"layout\": {\"annotationdefaults\": {\"arrowcolor\": \"#2a3f5f\", \"arrowhead\": 0, \"arrowwidth\": 1}, \"autotypenumbers\": \"strict\", \"coloraxis\": {\"colorbar\": {\"outlinewidth\": 0, \"ticks\": \"\"}}, \"colorscale\": {\"diverging\": [[0, \"#8e0152\"], [0.1, \"#c51b7d\"], [0.2, \"#de77ae\"], [0.3, \"#f1b6da\"], [0.4, \"#fde0ef\"], [0.5, \"#f7f7f7\"], [0.6, \"#e6f5d0\"], [0.7, \"#b8e186\"], [0.8, \"#7fbc41\"], [0.9, \"#4d9221\"], [1, \"#276419\"]], \"sequential\": [[0.0, \"#0d0887\"], [0.1111111111111111, \"#46039f\"], [0.2222222222222222, \"#7201a8\"], [0.3333333333333333, \"#9c179e\"], [0.4444444444444444, \"#bd3786\"], [0.5555555555555556, \"#d8576b\"], [0.6666666666666666, \"#ed7953\"], [0.7777777777777778, \"#fb9f3a\"], [0.8888888888888888, \"#fdca26\"], [1.0, \"#f0f921\"]], \"sequentialminus\": [[0.0, \"#0d0887\"], [0.1111111111111111, \"#46039f\"], [0.2222222222222222, \"#7201a8\"], [0.3333333333333333, \"#9c179e\"], [0.4444444444444444, \"#bd3786\"], [0.5555555555555556, \"#d8576b\"], [0.6666666666666666, \"#ed7953\"], [0.7777777777777778, \"#fb9f3a\"], [0.8888888888888888, \"#fdca26\"], [1.0, \"#f0f921\"]]}, \"colorway\": [\"#636efa\", \"#EF553B\", \"#00cc96\", \"#ab63fa\", \"#FFA15A\", \"#19d3f3\", \"#FF6692\", \"#B6E880\", \"#FF97FF\", \"#FECB52\"], \"font\": {\"color\": \"#2a3f5f\"}, \"geo\": {\"bgcolor\": \"white\", \"lakecolor\": \"white\", \"landcolor\": \"#E5ECF6\", \"showlakes\": true, \"showland\": true, \"subunitcolor\": \"white\"}, \"hoverlabel\": {\"align\": \"left\"}, \"hovermode\": \"closest\", \"mapbox\": {\"style\": \"light\"}, \"paper_bgcolor\": \"white\", \"plot_bgcolor\": \"#E5ECF6\", \"polar\": {\"angularaxis\": {\"gridcolor\": \"white\", \"linecolor\": \"white\", \"ticks\": \"\"}, \"bgcolor\": \"#E5ECF6\", \"radialaxis\": {\"gridcolor\": \"white\", \"linecolor\": \"white\", \"ticks\": \"\"}}, \"scene\": {\"xaxis\": {\"backgroundcolor\": \"#E5ECF6\", \"gridcolor\": \"white\", \"gridwidth\": 2, \"linecolor\": \"white\", \"showbackground\": true, \"ticks\": \"\", \"zerolinecolor\": \"white\"}, \"yaxis\": {\"backgroundcolor\": \"#E5ECF6\", \"gridcolor\": \"white\", \"gridwidth\": 2, \"linecolor\": \"white\", \"showbackground\": true, \"ticks\": \"\", \"zerolinecolor\": \"white\"}, \"zaxis\": {\"backgroundcolor\": \"#E5ECF6\", \"gridcolor\": \"white\", \"gridwidth\": 2, \"linecolor\": \"white\", \"showbackground\": true, \"ticks\": \"\", \"zerolinecolor\": \"white\"}}, \"shapedefaults\": {\"line\": {\"color\": \"#2a3f5f\"}}, \"ternary\": {\"aaxis\": {\"gridcolor\": \"white\", \"linecolor\": \"white\", \"ticks\": \"\"}, \"baxis\": {\"gridcolor\": \"white\", \"linecolor\": \"white\", \"ticks\": \"\"}, \"bgcolor\": \"#E5ECF6\", \"caxis\": {\"gridcolor\": \"white\", \"linecolor\": \"white\", \"ticks\": \"\"}}, \"title\": {\"x\": 0.05}, \"xaxis\": {\"automargin\": true, \"gridcolor\": \"white\", \"linecolor\": \"white\", \"ticks\": \"\", \"title\": {\"standoff\": 15}, \"zerolinecolor\": \"white\", \"zerolinewidth\": 2}, \"yaxis\": {\"automargin\": true, \"gridcolor\": \"white\", \"linecolor\": \"white\", \"ticks\": \"\", \"title\": {\"standoff\": 15}, \"zerolinecolor\": \"white\", \"zerolinewidth\": 2}}}, \"title\": {\"text\": \"Human Trafficking Total by Citizenship (2002-2019)\"}},                        {\"responsive\": true}                    ).then(function(){\n",
       "                            \n",
       "var gd = document.getElementById('fa353754-1e07-4585-ad09-7713baaf3912');\n",
       "var x = new MutationObserver(function (mutations, observer) {{\n",
       "        var display = window.getComputedStyle(gd).display;\n",
       "        if (!display || display === 'none') {{\n",
       "            console.log([gd, 'removed!']);\n",
       "            Plotly.purge(gd);\n",
       "            observer.disconnect();\n",
       "        }}\n",
       "}});\n",
       "\n",
       "// Listen for the removal of the full notebook cells\n",
       "var notebookContainer = gd.closest('#notebook-container');\n",
       "if (notebookContainer) {{\n",
       "    x.observe(notebookContainer, {childList: true});\n",
       "}}\n",
       "\n",
       "// Listen for the clearing of the current output cell\n",
       "var outputEl = gd.closest('.output');\n",
       "if (outputEl) {{\n",
       "    x.observe(outputEl, {childList: true});\n",
       "}}\n",
       "\n",
       "                        })                };                });            </script>        </div>"
      ]
     },
     "metadata": {},
     "output_type": "display_data"
    }
   ],
   "source": [
    "#correct\n",
    "fig = px.choropleth(df_map,locations=\"alpha_3\",\n",
    "                    color=\"victims\",\n",
    "                    hover_name=\"country\",\n",
    "                    color_continuous_scale='Viridis_r')\n",
    "fig.update_layout(title_text=\"Human Trafficking Total by Citizenship (2002-2019)\")\n",
    "fig.show()"
   ]
  },
  {
   "cell_type": "code",
   "execution_count": 87,
   "metadata": {},
   "outputs": [
    {
     "data": {
      "application/vnd.plotly.v1+json": {
       "config": {
        "plotlyServerURL": "https://plot.ly"
       },
       "data": [
        {
         "coloraxis": "coloraxis",
         "geo": "geo",
         "hovertemplate": "<b>%{hovertext}</b><br><br>exploitAlpha_3=%{location}<br>Victims=%{z}<extra></extra>",
         "hovertext": [
          "Afghanistan",
          "Albania",
          "Argentina",
          "Austria",
          "Bahrain",
          "Bangladesh",
          "Belarus",
          "Bosnia and Herzegovina",
          "Bulgaria",
          "Cambodia",
          "China",
          "Cyprus",
          "Czechia",
          "Denmark",
          "Ecuador",
          "Egypt",
          "Ghana",
          "Haiti",
          "Hong Kong",
          "India",
          "Indonesia",
          "Italy",
          "Japan",
          "Jordan",
          "Kazakhstan",
          "Kuwait",
          "Lebanon",
          "Libya",
          "Madagascar",
          "Malaysia",
          "Mauritius",
          "Moldova, Republic of",
          "North Macedonia",
          "Oman",
          "Philippines",
          "Poland",
          "Qatar",
          "Romania",
          "Russian Federation",
          "Saudi Arabia",
          "Senegal",
          "Serbia",
          "Sierra Leone",
          "Singapore",
          "South Africa",
          "Syrian Arab Republic",
          "Taiwan, Province of China",
          "Tajikistan",
          "Thailand",
          "Trinidad and Tobago",
          "Turkey",
          "Turkmenistan",
          "Uganda",
          "Ukraine",
          "United Arab Emirates",
          "United States",
          "Unknown",
          "Uzbekistan",
          "Viet Nam"
         ],
         "locations": [
          "AFG",
          "ALB",
          "ARG",
          "AUT",
          "BHR",
          "BGD",
          "BLR",
          "BIH",
          "BGR",
          "KHM",
          "CHN",
          "CYP",
          "CZE",
          "DNK",
          "ECU",
          "EGY",
          "GHA",
          "HTI",
          "HKG",
          "IND",
          "IDN",
          "ITA",
          "JPN",
          "JOR",
          "KAZ",
          "KWT",
          "LBN",
          "LBY",
          "MDG",
          "MYS",
          "MUS",
          "MDA",
          "MKD",
          "OMN",
          "PHL",
          "POL",
          "QAT",
          "ROU",
          "RUS",
          "SAU",
          "SEN",
          "SRB",
          "SLE",
          "SGP",
          "ZAF",
          "SYR",
          "TWN",
          "TJK",
          "THA",
          "TTO",
          "TUR",
          "TKM",
          "UGA",
          "UKR",
          "ARE",
          "USA",
          "Unknown",
          "UZB",
          "VNM"
         ],
         "name": "",
         "type": "choropleth",
         "z": [
          83,
          22,
          18,
          24,
          22,
          26,
          400,
          127,
          356,
          1000,
          79,
          11,
          38,
          17,
          13,
          13,
          544,
          339,
          31,
          46,
          1777,
          24,
          111,
          108,
          222,
          209,
          73,
          11,
          94,
          930,
          20,
          4504,
          194,
          94,
          1988,
          326,
          239,
          259,
          2738,
          278,
          370,
          248,
          81,
          37,
          36,
          41,
          33,
          54,
          391,
          85,
          197,
          26,
          151,
          5399,
          504,
          12512,
          11019,
          193,
          16
         ]
        }
       ],
       "layout": {
        "coloraxis": {
         "colorbar": {
          "title": {
           "text": "Victims"
          }
         },
         "colorscale": [
          [
           0,
           "#fde725"
          ],
          [
           0.1111111111111111,
           "#b5de2b"
          ],
          [
           0.2222222222222222,
           "#6ece58"
          ],
          [
           0.3333333333333333,
           "#35b779"
          ],
          [
           0.4444444444444444,
           "#1f9e89"
          ],
          [
           0.5555555555555556,
           "#26828e"
          ],
          [
           0.6666666666666666,
           "#31688e"
          ],
          [
           0.7777777777777778,
           "#3e4989"
          ],
          [
           0.8888888888888888,
           "#482878"
          ],
          [
           1,
           "#440154"
          ]
         ]
        },
        "geo": {
         "center": {},
         "domain": {
          "x": [
           0,
           1
          ],
          "y": [
           0,
           1
          ]
         }
        },
        "legend": {
         "tracegroupgap": 0
        },
        "margin": {
         "t": 60
        },
        "template": {
         "data": {
          "bar": [
           {
            "error_x": {
             "color": "#2a3f5f"
            },
            "error_y": {
             "color": "#2a3f5f"
            },
            "marker": {
             "line": {
              "color": "#E5ECF6",
              "width": 0.5
             }
            },
            "type": "bar"
           }
          ],
          "barpolar": [
           {
            "marker": {
             "line": {
              "color": "#E5ECF6",
              "width": 0.5
             }
            },
            "type": "barpolar"
           }
          ],
          "carpet": [
           {
            "aaxis": {
             "endlinecolor": "#2a3f5f",
             "gridcolor": "white",
             "linecolor": "white",
             "minorgridcolor": "white",
             "startlinecolor": "#2a3f5f"
            },
            "baxis": {
             "endlinecolor": "#2a3f5f",
             "gridcolor": "white",
             "linecolor": "white",
             "minorgridcolor": "white",
             "startlinecolor": "#2a3f5f"
            },
            "type": "carpet"
           }
          ],
          "choropleth": [
           {
            "colorbar": {
             "outlinewidth": 0,
             "ticks": ""
            },
            "type": "choropleth"
           }
          ],
          "contour": [
           {
            "colorbar": {
             "outlinewidth": 0,
             "ticks": ""
            },
            "colorscale": [
             [
              0,
              "#0d0887"
             ],
             [
              0.1111111111111111,
              "#46039f"
             ],
             [
              0.2222222222222222,
              "#7201a8"
             ],
             [
              0.3333333333333333,
              "#9c179e"
             ],
             [
              0.4444444444444444,
              "#bd3786"
             ],
             [
              0.5555555555555556,
              "#d8576b"
             ],
             [
              0.6666666666666666,
              "#ed7953"
             ],
             [
              0.7777777777777778,
              "#fb9f3a"
             ],
             [
              0.8888888888888888,
              "#fdca26"
             ],
             [
              1,
              "#f0f921"
             ]
            ],
            "type": "contour"
           }
          ],
          "contourcarpet": [
           {
            "colorbar": {
             "outlinewidth": 0,
             "ticks": ""
            },
            "type": "contourcarpet"
           }
          ],
          "heatmap": [
           {
            "colorbar": {
             "outlinewidth": 0,
             "ticks": ""
            },
            "colorscale": [
             [
              0,
              "#0d0887"
             ],
             [
              0.1111111111111111,
              "#46039f"
             ],
             [
              0.2222222222222222,
              "#7201a8"
             ],
             [
              0.3333333333333333,
              "#9c179e"
             ],
             [
              0.4444444444444444,
              "#bd3786"
             ],
             [
              0.5555555555555556,
              "#d8576b"
             ],
             [
              0.6666666666666666,
              "#ed7953"
             ],
             [
              0.7777777777777778,
              "#fb9f3a"
             ],
             [
              0.8888888888888888,
              "#fdca26"
             ],
             [
              1,
              "#f0f921"
             ]
            ],
            "type": "heatmap"
           }
          ],
          "heatmapgl": [
           {
            "colorbar": {
             "outlinewidth": 0,
             "ticks": ""
            },
            "colorscale": [
             [
              0,
              "#0d0887"
             ],
             [
              0.1111111111111111,
              "#46039f"
             ],
             [
              0.2222222222222222,
              "#7201a8"
             ],
             [
              0.3333333333333333,
              "#9c179e"
             ],
             [
              0.4444444444444444,
              "#bd3786"
             ],
             [
              0.5555555555555556,
              "#d8576b"
             ],
             [
              0.6666666666666666,
              "#ed7953"
             ],
             [
              0.7777777777777778,
              "#fb9f3a"
             ],
             [
              0.8888888888888888,
              "#fdca26"
             ],
             [
              1,
              "#f0f921"
             ]
            ],
            "type": "heatmapgl"
           }
          ],
          "histogram": [
           {
            "marker": {
             "colorbar": {
              "outlinewidth": 0,
              "ticks": ""
             }
            },
            "type": "histogram"
           }
          ],
          "histogram2d": [
           {
            "colorbar": {
             "outlinewidth": 0,
             "ticks": ""
            },
            "colorscale": [
             [
              0,
              "#0d0887"
             ],
             [
              0.1111111111111111,
              "#46039f"
             ],
             [
              0.2222222222222222,
              "#7201a8"
             ],
             [
              0.3333333333333333,
              "#9c179e"
             ],
             [
              0.4444444444444444,
              "#bd3786"
             ],
             [
              0.5555555555555556,
              "#d8576b"
             ],
             [
              0.6666666666666666,
              "#ed7953"
             ],
             [
              0.7777777777777778,
              "#fb9f3a"
             ],
             [
              0.8888888888888888,
              "#fdca26"
             ],
             [
              1,
              "#f0f921"
             ]
            ],
            "type": "histogram2d"
           }
          ],
          "histogram2dcontour": [
           {
            "colorbar": {
             "outlinewidth": 0,
             "ticks": ""
            },
            "colorscale": [
             [
              0,
              "#0d0887"
             ],
             [
              0.1111111111111111,
              "#46039f"
             ],
             [
              0.2222222222222222,
              "#7201a8"
             ],
             [
              0.3333333333333333,
              "#9c179e"
             ],
             [
              0.4444444444444444,
              "#bd3786"
             ],
             [
              0.5555555555555556,
              "#d8576b"
             ],
             [
              0.6666666666666666,
              "#ed7953"
             ],
             [
              0.7777777777777778,
              "#fb9f3a"
             ],
             [
              0.8888888888888888,
              "#fdca26"
             ],
             [
              1,
              "#f0f921"
             ]
            ],
            "type": "histogram2dcontour"
           }
          ],
          "mesh3d": [
           {
            "colorbar": {
             "outlinewidth": 0,
             "ticks": ""
            },
            "type": "mesh3d"
           }
          ],
          "parcoords": [
           {
            "line": {
             "colorbar": {
              "outlinewidth": 0,
              "ticks": ""
             }
            },
            "type": "parcoords"
           }
          ],
          "pie": [
           {
            "automargin": true,
            "type": "pie"
           }
          ],
          "scatter": [
           {
            "marker": {
             "colorbar": {
              "outlinewidth": 0,
              "ticks": ""
             }
            },
            "type": "scatter"
           }
          ],
          "scatter3d": [
           {
            "line": {
             "colorbar": {
              "outlinewidth": 0,
              "ticks": ""
             }
            },
            "marker": {
             "colorbar": {
              "outlinewidth": 0,
              "ticks": ""
             }
            },
            "type": "scatter3d"
           }
          ],
          "scattercarpet": [
           {
            "marker": {
             "colorbar": {
              "outlinewidth": 0,
              "ticks": ""
             }
            },
            "type": "scattercarpet"
           }
          ],
          "scattergeo": [
           {
            "marker": {
             "colorbar": {
              "outlinewidth": 0,
              "ticks": ""
             }
            },
            "type": "scattergeo"
           }
          ],
          "scattergl": [
           {
            "marker": {
             "colorbar": {
              "outlinewidth": 0,
              "ticks": ""
             }
            },
            "type": "scattergl"
           }
          ],
          "scattermapbox": [
           {
            "marker": {
             "colorbar": {
              "outlinewidth": 0,
              "ticks": ""
             }
            },
            "type": "scattermapbox"
           }
          ],
          "scatterpolar": [
           {
            "marker": {
             "colorbar": {
              "outlinewidth": 0,
              "ticks": ""
             }
            },
            "type": "scatterpolar"
           }
          ],
          "scatterpolargl": [
           {
            "marker": {
             "colorbar": {
              "outlinewidth": 0,
              "ticks": ""
             }
            },
            "type": "scatterpolargl"
           }
          ],
          "scatterternary": [
           {
            "marker": {
             "colorbar": {
              "outlinewidth": 0,
              "ticks": ""
             }
            },
            "type": "scatterternary"
           }
          ],
          "surface": [
           {
            "colorbar": {
             "outlinewidth": 0,
             "ticks": ""
            },
            "colorscale": [
             [
              0,
              "#0d0887"
             ],
             [
              0.1111111111111111,
              "#46039f"
             ],
             [
              0.2222222222222222,
              "#7201a8"
             ],
             [
              0.3333333333333333,
              "#9c179e"
             ],
             [
              0.4444444444444444,
              "#bd3786"
             ],
             [
              0.5555555555555556,
              "#d8576b"
             ],
             [
              0.6666666666666666,
              "#ed7953"
             ],
             [
              0.7777777777777778,
              "#fb9f3a"
             ],
             [
              0.8888888888888888,
              "#fdca26"
             ],
             [
              1,
              "#f0f921"
             ]
            ],
            "type": "surface"
           }
          ],
          "table": [
           {
            "cells": {
             "fill": {
              "color": "#EBF0F8"
             },
             "line": {
              "color": "white"
             }
            },
            "header": {
             "fill": {
              "color": "#C8D4E3"
             },
             "line": {
              "color": "white"
             }
            },
            "type": "table"
           }
          ]
         },
         "layout": {
          "annotationdefaults": {
           "arrowcolor": "#2a3f5f",
           "arrowhead": 0,
           "arrowwidth": 1
          },
          "autotypenumbers": "strict",
          "coloraxis": {
           "colorbar": {
            "outlinewidth": 0,
            "ticks": ""
           }
          },
          "colorscale": {
           "diverging": [
            [
             0,
             "#8e0152"
            ],
            [
             0.1,
             "#c51b7d"
            ],
            [
             0.2,
             "#de77ae"
            ],
            [
             0.3,
             "#f1b6da"
            ],
            [
             0.4,
             "#fde0ef"
            ],
            [
             0.5,
             "#f7f7f7"
            ],
            [
             0.6,
             "#e6f5d0"
            ],
            [
             0.7,
             "#b8e186"
            ],
            [
             0.8,
             "#7fbc41"
            ],
            [
             0.9,
             "#4d9221"
            ],
            [
             1,
             "#276419"
            ]
           ],
           "sequential": [
            [
             0,
             "#0d0887"
            ],
            [
             0.1111111111111111,
             "#46039f"
            ],
            [
             0.2222222222222222,
             "#7201a8"
            ],
            [
             0.3333333333333333,
             "#9c179e"
            ],
            [
             0.4444444444444444,
             "#bd3786"
            ],
            [
             0.5555555555555556,
             "#d8576b"
            ],
            [
             0.6666666666666666,
             "#ed7953"
            ],
            [
             0.7777777777777778,
             "#fb9f3a"
            ],
            [
             0.8888888888888888,
             "#fdca26"
            ],
            [
             1,
             "#f0f921"
            ]
           ],
           "sequentialminus": [
            [
             0,
             "#0d0887"
            ],
            [
             0.1111111111111111,
             "#46039f"
            ],
            [
             0.2222222222222222,
             "#7201a8"
            ],
            [
             0.3333333333333333,
             "#9c179e"
            ],
            [
             0.4444444444444444,
             "#bd3786"
            ],
            [
             0.5555555555555556,
             "#d8576b"
            ],
            [
             0.6666666666666666,
             "#ed7953"
            ],
            [
             0.7777777777777778,
             "#fb9f3a"
            ],
            [
             0.8888888888888888,
             "#fdca26"
            ],
            [
             1,
             "#f0f921"
            ]
           ]
          },
          "colorway": [
           "#636efa",
           "#EF553B",
           "#00cc96",
           "#ab63fa",
           "#FFA15A",
           "#19d3f3",
           "#FF6692",
           "#B6E880",
           "#FF97FF",
           "#FECB52"
          ],
          "font": {
           "color": "#2a3f5f"
          },
          "geo": {
           "bgcolor": "white",
           "lakecolor": "white",
           "landcolor": "#E5ECF6",
           "showlakes": true,
           "showland": true,
           "subunitcolor": "white"
          },
          "hoverlabel": {
           "align": "left"
          },
          "hovermode": "closest",
          "mapbox": {
           "style": "light"
          },
          "paper_bgcolor": "white",
          "plot_bgcolor": "#E5ECF6",
          "polar": {
           "angularaxis": {
            "gridcolor": "white",
            "linecolor": "white",
            "ticks": ""
           },
           "bgcolor": "#E5ECF6",
           "radialaxis": {
            "gridcolor": "white",
            "linecolor": "white",
            "ticks": ""
           }
          },
          "scene": {
           "xaxis": {
            "backgroundcolor": "#E5ECF6",
            "gridcolor": "white",
            "gridwidth": 2,
            "linecolor": "white",
            "showbackground": true,
            "ticks": "",
            "zerolinecolor": "white"
           },
           "yaxis": {
            "backgroundcolor": "#E5ECF6",
            "gridcolor": "white",
            "gridwidth": 2,
            "linecolor": "white",
            "showbackground": true,
            "ticks": "",
            "zerolinecolor": "white"
           },
           "zaxis": {
            "backgroundcolor": "#E5ECF6",
            "gridcolor": "white",
            "gridwidth": 2,
            "linecolor": "white",
            "showbackground": true,
            "ticks": "",
            "zerolinecolor": "white"
           }
          },
          "shapedefaults": {
           "line": {
            "color": "#2a3f5f"
           }
          },
          "ternary": {
           "aaxis": {
            "gridcolor": "white",
            "linecolor": "white",
            "ticks": ""
           },
           "baxis": {
            "gridcolor": "white",
            "linecolor": "white",
            "ticks": ""
           },
           "bgcolor": "#E5ECF6",
           "caxis": {
            "gridcolor": "white",
            "linecolor": "white",
            "ticks": ""
           }
          },
          "title": {
           "x": 0.05
          },
          "xaxis": {
           "automargin": true,
           "gridcolor": "white",
           "linecolor": "white",
           "ticks": "",
           "title": {
            "standoff": 15
           },
           "zerolinecolor": "white",
           "zerolinewidth": 2
          },
          "yaxis": {
           "automargin": true,
           "gridcolor": "white",
           "linecolor": "white",
           "ticks": "",
           "title": {
            "standoff": 15
           },
           "zerolinecolor": "white",
           "zerolinewidth": 2
          }
         }
        },
        "title": {
         "text": "Human Trafficking Total by Country Exploit (2002-2019)"
        }
       }
      },
      "text/html": [
       "<div>                            <div id=\"5afa728b-8eb4-4be8-b5db-3da9a8edc82b\" class=\"plotly-graph-div\" style=\"height:525px; width:100%;\"></div>            <script type=\"text/javascript\">                require([\"plotly\"], function(Plotly) {                    window.PLOTLYENV=window.PLOTLYENV || {};                                    if (document.getElementById(\"5afa728b-8eb4-4be8-b5db-3da9a8edc82b\")) {                    Plotly.newPlot(                        \"5afa728b-8eb4-4be8-b5db-3da9a8edc82b\",                        [{\"coloraxis\": \"coloraxis\", \"geo\": \"geo\", \"hovertemplate\": \"<b>%{hovertext}</b><br><br>exploitAlpha_3=%{location}<br>Victims=%{z}<extra></extra>\", \"hovertext\": [\"Afghanistan\", \"Albania\", \"Argentina\", \"Austria\", \"Bahrain\", \"Bangladesh\", \"Belarus\", \"Bosnia and Herzegovina\", \"Bulgaria\", \"Cambodia\", \"China\", \"Cyprus\", \"Czechia\", \"Denmark\", \"Ecuador\", \"Egypt\", \"Ghana\", \"Haiti\", \"Hong Kong\", \"India\", \"Indonesia\", \"Italy\", \"Japan\", \"Jordan\", \"Kazakhstan\", \"Kuwait\", \"Lebanon\", \"Libya\", \"Madagascar\", \"Malaysia\", \"Mauritius\", \"Moldova, Republic of\", \"North Macedonia\", \"Oman\", \"Philippines\", \"Poland\", \"Qatar\", \"Romania\", \"Russian Federation\", \"Saudi Arabia\", \"Senegal\", \"Serbia\", \"Sierra Leone\", \"Singapore\", \"South Africa\", \"Syrian Arab Republic\", \"Taiwan, Province of China\", \"Tajikistan\", \"Thailand\", \"Trinidad and Tobago\", \"Turkey\", \"Turkmenistan\", \"Uganda\", \"Ukraine\", \"United Arab Emirates\", \"United States\", \"Unknown\", \"Uzbekistan\", \"Viet Nam\"], \"locations\": [\"AFG\", \"ALB\", \"ARG\", \"AUT\", \"BHR\", \"BGD\", \"BLR\", \"BIH\", \"BGR\", \"KHM\", \"CHN\", \"CYP\", \"CZE\", \"DNK\", \"ECU\", \"EGY\", \"GHA\", \"HTI\", \"HKG\", \"IND\", \"IDN\", \"ITA\", \"JPN\", \"JOR\", \"KAZ\", \"KWT\", \"LBN\", \"LBY\", \"MDG\", \"MYS\", \"MUS\", \"MDA\", \"MKD\", \"OMN\", \"PHL\", \"POL\", \"QAT\", \"ROU\", \"RUS\", \"SAU\", \"SEN\", \"SRB\", \"SLE\", \"SGP\", \"ZAF\", \"SYR\", \"TWN\", \"TJK\", \"THA\", \"TTO\", \"TUR\", \"TKM\", \"UGA\", \"UKR\", \"ARE\", \"USA\", \"Unknown\", \"UZB\", \"VNM\"], \"name\": \"\", \"type\": \"choropleth\", \"z\": [83, 22, 18, 24, 22, 26, 400, 127, 356, 1000, 79, 11, 38, 17, 13, 13, 544, 339, 31, 46, 1777, 24, 111, 108, 222, 209, 73, 11, 94, 930, 20, 4504, 194, 94, 1988, 326, 239, 259, 2738, 278, 370, 248, 81, 37, 36, 41, 33, 54, 391, 85, 197, 26, 151, 5399, 504, 12512, 11019, 193, 16]}],                        {\"coloraxis\": {\"colorbar\": {\"title\": {\"text\": \"Victims\"}}, \"colorscale\": [[0.0, \"#fde725\"], [0.1111111111111111, \"#b5de2b\"], [0.2222222222222222, \"#6ece58\"], [0.3333333333333333, \"#35b779\"], [0.4444444444444444, \"#1f9e89\"], [0.5555555555555556, \"#26828e\"], [0.6666666666666666, \"#31688e\"], [0.7777777777777778, \"#3e4989\"], [0.8888888888888888, \"#482878\"], [1.0, \"#440154\"]]}, \"geo\": {\"center\": {}, \"domain\": {\"x\": [0.0, 1.0], \"y\": [0.0, 1.0]}}, \"legend\": {\"tracegroupgap\": 0}, \"margin\": {\"t\": 60}, \"template\": {\"data\": {\"bar\": [{\"error_x\": {\"color\": \"#2a3f5f\"}, \"error_y\": {\"color\": \"#2a3f5f\"}, \"marker\": {\"line\": {\"color\": \"#E5ECF6\", \"width\": 0.5}}, \"type\": \"bar\"}], \"barpolar\": [{\"marker\": {\"line\": {\"color\": \"#E5ECF6\", \"width\": 0.5}}, \"type\": \"barpolar\"}], \"carpet\": [{\"aaxis\": {\"endlinecolor\": \"#2a3f5f\", \"gridcolor\": \"white\", \"linecolor\": \"white\", \"minorgridcolor\": \"white\", \"startlinecolor\": \"#2a3f5f\"}, \"baxis\": {\"endlinecolor\": \"#2a3f5f\", \"gridcolor\": \"white\", \"linecolor\": \"white\", \"minorgridcolor\": \"white\", \"startlinecolor\": \"#2a3f5f\"}, \"type\": \"carpet\"}], \"choropleth\": [{\"colorbar\": {\"outlinewidth\": 0, \"ticks\": \"\"}, \"type\": \"choropleth\"}], \"contour\": [{\"colorbar\": {\"outlinewidth\": 0, \"ticks\": \"\"}, \"colorscale\": [[0.0, \"#0d0887\"], [0.1111111111111111, \"#46039f\"], [0.2222222222222222, \"#7201a8\"], [0.3333333333333333, \"#9c179e\"], [0.4444444444444444, \"#bd3786\"], [0.5555555555555556, \"#d8576b\"], [0.6666666666666666, \"#ed7953\"], [0.7777777777777778, \"#fb9f3a\"], [0.8888888888888888, \"#fdca26\"], [1.0, \"#f0f921\"]], \"type\": \"contour\"}], \"contourcarpet\": [{\"colorbar\": {\"outlinewidth\": 0, \"ticks\": \"\"}, \"type\": \"contourcarpet\"}], \"heatmap\": [{\"colorbar\": {\"outlinewidth\": 0, \"ticks\": \"\"}, \"colorscale\": [[0.0, \"#0d0887\"], [0.1111111111111111, \"#46039f\"], [0.2222222222222222, \"#7201a8\"], [0.3333333333333333, \"#9c179e\"], [0.4444444444444444, \"#bd3786\"], [0.5555555555555556, \"#d8576b\"], [0.6666666666666666, \"#ed7953\"], [0.7777777777777778, \"#fb9f3a\"], [0.8888888888888888, \"#fdca26\"], [1.0, \"#f0f921\"]], \"type\": \"heatmap\"}], \"heatmapgl\": [{\"colorbar\": {\"outlinewidth\": 0, \"ticks\": \"\"}, \"colorscale\": [[0.0, \"#0d0887\"], [0.1111111111111111, \"#46039f\"], [0.2222222222222222, \"#7201a8\"], [0.3333333333333333, \"#9c179e\"], [0.4444444444444444, \"#bd3786\"], [0.5555555555555556, \"#d8576b\"], [0.6666666666666666, \"#ed7953\"], [0.7777777777777778, \"#fb9f3a\"], [0.8888888888888888, \"#fdca26\"], [1.0, \"#f0f921\"]], \"type\": \"heatmapgl\"}], \"histogram\": [{\"marker\": {\"colorbar\": {\"outlinewidth\": 0, \"ticks\": \"\"}}, \"type\": \"histogram\"}], \"histogram2d\": [{\"colorbar\": {\"outlinewidth\": 0, \"ticks\": \"\"}, \"colorscale\": [[0.0, \"#0d0887\"], [0.1111111111111111, \"#46039f\"], [0.2222222222222222, \"#7201a8\"], [0.3333333333333333, \"#9c179e\"], [0.4444444444444444, \"#bd3786\"], [0.5555555555555556, \"#d8576b\"], [0.6666666666666666, \"#ed7953\"], [0.7777777777777778, \"#fb9f3a\"], [0.8888888888888888, \"#fdca26\"], [1.0, \"#f0f921\"]], \"type\": \"histogram2d\"}], \"histogram2dcontour\": [{\"colorbar\": {\"outlinewidth\": 0, \"ticks\": \"\"}, \"colorscale\": [[0.0, \"#0d0887\"], [0.1111111111111111, \"#46039f\"], [0.2222222222222222, \"#7201a8\"], [0.3333333333333333, \"#9c179e\"], [0.4444444444444444, \"#bd3786\"], [0.5555555555555556, \"#d8576b\"], [0.6666666666666666, \"#ed7953\"], [0.7777777777777778, \"#fb9f3a\"], [0.8888888888888888, \"#fdca26\"], [1.0, \"#f0f921\"]], \"type\": \"histogram2dcontour\"}], \"mesh3d\": [{\"colorbar\": {\"outlinewidth\": 0, \"ticks\": \"\"}, \"type\": \"mesh3d\"}], \"parcoords\": [{\"line\": {\"colorbar\": {\"outlinewidth\": 0, \"ticks\": \"\"}}, \"type\": \"parcoords\"}], \"pie\": [{\"automargin\": true, \"type\": \"pie\"}], \"scatter\": [{\"marker\": {\"colorbar\": {\"outlinewidth\": 0, \"ticks\": \"\"}}, \"type\": \"scatter\"}], \"scatter3d\": [{\"line\": {\"colorbar\": {\"outlinewidth\": 0, \"ticks\": \"\"}}, \"marker\": {\"colorbar\": {\"outlinewidth\": 0, \"ticks\": \"\"}}, \"type\": \"scatter3d\"}], \"scattercarpet\": [{\"marker\": {\"colorbar\": {\"outlinewidth\": 0, \"ticks\": \"\"}}, \"type\": \"scattercarpet\"}], \"scattergeo\": [{\"marker\": {\"colorbar\": {\"outlinewidth\": 0, \"ticks\": \"\"}}, \"type\": \"scattergeo\"}], \"scattergl\": [{\"marker\": {\"colorbar\": {\"outlinewidth\": 0, \"ticks\": \"\"}}, \"type\": \"scattergl\"}], \"scattermapbox\": [{\"marker\": {\"colorbar\": {\"outlinewidth\": 0, \"ticks\": \"\"}}, \"type\": \"scattermapbox\"}], \"scatterpolar\": [{\"marker\": {\"colorbar\": {\"outlinewidth\": 0, \"ticks\": \"\"}}, \"type\": \"scatterpolar\"}], \"scatterpolargl\": [{\"marker\": {\"colorbar\": {\"outlinewidth\": 0, \"ticks\": \"\"}}, \"type\": \"scatterpolargl\"}], \"scatterternary\": [{\"marker\": {\"colorbar\": {\"outlinewidth\": 0, \"ticks\": \"\"}}, \"type\": \"scatterternary\"}], \"surface\": [{\"colorbar\": {\"outlinewidth\": 0, \"ticks\": \"\"}, \"colorscale\": [[0.0, \"#0d0887\"], [0.1111111111111111, \"#46039f\"], [0.2222222222222222, \"#7201a8\"], [0.3333333333333333, \"#9c179e\"], [0.4444444444444444, \"#bd3786\"], [0.5555555555555556, \"#d8576b\"], [0.6666666666666666, \"#ed7953\"], [0.7777777777777778, \"#fb9f3a\"], [0.8888888888888888, \"#fdca26\"], [1.0, \"#f0f921\"]], \"type\": \"surface\"}], \"table\": [{\"cells\": {\"fill\": {\"color\": \"#EBF0F8\"}, \"line\": {\"color\": \"white\"}}, \"header\": {\"fill\": {\"color\": \"#C8D4E3\"}, \"line\": {\"color\": \"white\"}}, \"type\": \"table\"}]}, \"layout\": {\"annotationdefaults\": {\"arrowcolor\": \"#2a3f5f\", \"arrowhead\": 0, \"arrowwidth\": 1}, \"autotypenumbers\": \"strict\", \"coloraxis\": {\"colorbar\": {\"outlinewidth\": 0, \"ticks\": \"\"}}, \"colorscale\": {\"diverging\": [[0, \"#8e0152\"], [0.1, \"#c51b7d\"], [0.2, \"#de77ae\"], [0.3, \"#f1b6da\"], [0.4, \"#fde0ef\"], [0.5, \"#f7f7f7\"], [0.6, \"#e6f5d0\"], [0.7, \"#b8e186\"], [0.8, \"#7fbc41\"], [0.9, \"#4d9221\"], [1, \"#276419\"]], \"sequential\": [[0.0, \"#0d0887\"], [0.1111111111111111, \"#46039f\"], [0.2222222222222222, \"#7201a8\"], [0.3333333333333333, \"#9c179e\"], [0.4444444444444444, \"#bd3786\"], [0.5555555555555556, \"#d8576b\"], [0.6666666666666666, \"#ed7953\"], [0.7777777777777778, \"#fb9f3a\"], [0.8888888888888888, \"#fdca26\"], [1.0, \"#f0f921\"]], \"sequentialminus\": [[0.0, \"#0d0887\"], [0.1111111111111111, \"#46039f\"], [0.2222222222222222, \"#7201a8\"], [0.3333333333333333, \"#9c179e\"], [0.4444444444444444, \"#bd3786\"], [0.5555555555555556, \"#d8576b\"], [0.6666666666666666, \"#ed7953\"], [0.7777777777777778, \"#fb9f3a\"], [0.8888888888888888, \"#fdca26\"], [1.0, \"#f0f921\"]]}, \"colorway\": [\"#636efa\", \"#EF553B\", \"#00cc96\", \"#ab63fa\", \"#FFA15A\", \"#19d3f3\", \"#FF6692\", \"#B6E880\", \"#FF97FF\", \"#FECB52\"], \"font\": {\"color\": \"#2a3f5f\"}, \"geo\": {\"bgcolor\": \"white\", \"lakecolor\": \"white\", \"landcolor\": \"#E5ECF6\", \"showlakes\": true, \"showland\": true, \"subunitcolor\": \"white\"}, \"hoverlabel\": {\"align\": \"left\"}, \"hovermode\": \"closest\", \"mapbox\": {\"style\": \"light\"}, \"paper_bgcolor\": \"white\", \"plot_bgcolor\": \"#E5ECF6\", \"polar\": {\"angularaxis\": {\"gridcolor\": \"white\", \"linecolor\": \"white\", \"ticks\": \"\"}, \"bgcolor\": \"#E5ECF6\", \"radialaxis\": {\"gridcolor\": \"white\", \"linecolor\": \"white\", \"ticks\": \"\"}}, \"scene\": {\"xaxis\": {\"backgroundcolor\": \"#E5ECF6\", \"gridcolor\": \"white\", \"gridwidth\": 2, \"linecolor\": \"white\", \"showbackground\": true, \"ticks\": \"\", \"zerolinecolor\": \"white\"}, \"yaxis\": {\"backgroundcolor\": \"#E5ECF6\", \"gridcolor\": \"white\", \"gridwidth\": 2, \"linecolor\": \"white\", \"showbackground\": true, \"ticks\": \"\", \"zerolinecolor\": \"white\"}, \"zaxis\": {\"backgroundcolor\": \"#E5ECF6\", \"gridcolor\": \"white\", \"gridwidth\": 2, \"linecolor\": \"white\", \"showbackground\": true, \"ticks\": \"\", \"zerolinecolor\": \"white\"}}, \"shapedefaults\": {\"line\": {\"color\": \"#2a3f5f\"}}, \"ternary\": {\"aaxis\": {\"gridcolor\": \"white\", \"linecolor\": \"white\", \"ticks\": \"\"}, \"baxis\": {\"gridcolor\": \"white\", \"linecolor\": \"white\", \"ticks\": \"\"}, \"bgcolor\": \"#E5ECF6\", \"caxis\": {\"gridcolor\": \"white\", \"linecolor\": \"white\", \"ticks\": \"\"}}, \"title\": {\"x\": 0.05}, \"xaxis\": {\"automargin\": true, \"gridcolor\": \"white\", \"linecolor\": \"white\", \"ticks\": \"\", \"title\": {\"standoff\": 15}, \"zerolinecolor\": \"white\", \"zerolinewidth\": 2}, \"yaxis\": {\"automargin\": true, \"gridcolor\": \"white\", \"linecolor\": \"white\", \"ticks\": \"\", \"title\": {\"standoff\": 15}, \"zerolinecolor\": \"white\", \"zerolinewidth\": 2}}}, \"title\": {\"text\": \"Human Trafficking Total by Country Exploit (2002-2019)\"}},                        {\"responsive\": true}                    ).then(function(){\n",
       "                            \n",
       "var gd = document.getElementById('5afa728b-8eb4-4be8-b5db-3da9a8edc82b');\n",
       "var x = new MutationObserver(function (mutations, observer) {{\n",
       "        var display = window.getComputedStyle(gd).display;\n",
       "        if (!display || display === 'none') {{\n",
       "            console.log([gd, 'removed!']);\n",
       "            Plotly.purge(gd);\n",
       "            observer.disconnect();\n",
       "        }}\n",
       "}});\n",
       "\n",
       "// Listen for the removal of the full notebook cells\n",
       "var notebookContainer = gd.closest('#notebook-container');\n",
       "if (notebookContainer) {{\n",
       "    x.observe(notebookContainer, {childList: true});\n",
       "}}\n",
       "\n",
       "// Listen for the clearing of the current output cell\n",
       "var outputEl = gd.closest('.output');\n",
       "if (outputEl) {{\n",
       "    x.observe(outputEl, {childList: true});\n",
       "}}\n",
       "\n",
       "                        })                };                });            </script>        </div>"
      ]
     },
     "metadata": {},
     "output_type": "display_data"
    }
   ],
   "source": [
    "#correct\n",
    "fig = px.choropleth(df_map_exploit,locations=\"exploitAlpha_3\",\n",
    "                    color=\"Victims\",\n",
    "                    hover_name=\"exploitCountry\",\n",
    "                    color_continuous_scale='Viridis_r')\n",
    "fig.update_layout(title_text=\"Human Trafficking Total by Country Exploit (2002-2019)\")\n",
    "fig.show()"
   ]
  },
  {
   "cell_type": "code",
   "execution_count": 108,
   "metadata": {},
   "outputs": [
    {
     "data": {
      "image/png": "[encoded data removed]",
      "text/plain": [
       "<Figure size 625x375 with 1 Axes>"
      ]
     },
     "metadata": {},
     "output_type": "display_data"
    }
   ],
   "source": [
    "#correct\n",
    "plt.figure(figsize=(5,3), dpi=125)\n",
    "plt.style.use('ggplot')\n",
    "df.groupby('yearOfRegistration')['yearOfRegistration'].sum().plot()\n",
    "plt.title('Number of Registrations/Year',fontdict={'fontname':'Calibri','fontsize':20})\n",
    "plt.xticks(df.yearOfRegistration.unique(), rotation=45)\n",
    "plt.xlabel('')\n",
    "plt.show()"
   ]
  },
  {
   "cell_type": "code",
   "execution_count": 10,
   "metadata": {},
   "outputs": [
    {
     "data": {
      "text/html": [
       "<style  type=\"text/css\" >\n",
       "#T_a1643574_b078_11eb_b349_f8b156bc4af9row0_col0,#T_a1643574_b078_11eb_b349_f8b156bc4af9row0_col1,#T_a1643574_b078_11eb_b349_f8b156bc4af9row0_col2,#T_a1643574_b078_11eb_b349_f8b156bc4af9row0_col3,#T_a1643574_b078_11eb_b349_f8b156bc4af9row0_col4,#T_a1643574_b078_11eb_b349_f8b156bc4af9row0_col5,#T_a1643574_b078_11eb_b349_f8b156bc4af9row0_col6,#T_a1643574_b078_11eb_b349_f8b156bc4af9row0_col7,#T_a1643574_b078_11eb_b349_f8b156bc4af9row0_col8,#T_a1643574_b078_11eb_b349_f8b156bc4af9row0_col9,#T_a1643574_b078_11eb_b349_f8b156bc4af9row0_col10,#T_a1643574_b078_11eb_b349_f8b156bc4af9row0_col14,#T_a1643574_b078_11eb_b349_f8b156bc4af9row0_col15,#T_a1643574_b078_11eb_b349_f8b156bc4af9row0_col16,#T_a1643574_b078_11eb_b349_f8b156bc4af9row0_col17,#T_a1643574_b078_11eb_b349_f8b156bc4af9row1_col0,#T_a1643574_b078_11eb_b349_f8b156bc4af9row1_col1,#T_a1643574_b078_11eb_b349_f8b156bc4af9row1_col2,#T_a1643574_b078_11eb_b349_f8b156bc4af9row1_col4,#T_a1643574_b078_11eb_b349_f8b156bc4af9row1_col5,#T_a1643574_b078_11eb_b349_f8b156bc4af9row1_col6,#T_a1643574_b078_11eb_b349_f8b156bc4af9row1_col7,#T_a1643574_b078_11eb_b349_f8b156bc4af9row1_col8,#T_a1643574_b078_11eb_b349_f8b156bc4af9row1_col9,#T_a1643574_b078_11eb_b349_f8b156bc4af9row1_col10,#T_a1643574_b078_11eb_b349_f8b156bc4af9row1_col11,#T_a1643574_b078_11eb_b349_f8b156bc4af9row1_col12,#T_a1643574_b078_11eb_b349_f8b156bc4af9row1_col13,#T_a1643574_b078_11eb_b349_f8b156bc4af9row1_col14,#T_a1643574_b078_11eb_b349_f8b156bc4af9row1_col15,#T_a1643574_b078_11eb_b349_f8b156bc4af9row1_col16,#T_a1643574_b078_11eb_b349_f8b156bc4af9row1_col17,#T_a1643574_b078_11eb_b349_f8b156bc4af9row2_col0,#T_a1643574_b078_11eb_b349_f8b156bc4af9row2_col1,#T_a1643574_b078_11eb_b349_f8b156bc4af9row2_col2,#T_a1643574_b078_11eb_b349_f8b156bc4af9row2_col3,#T_a1643574_b078_11eb_b349_f8b156bc4af9row2_col4,#T_a1643574_b078_11eb_b349_f8b156bc4af9row2_col5,#T_a1643574_b078_11eb_b349_f8b156bc4af9row2_col6,#T_a1643574_b078_11eb_b349_f8b156bc4af9row2_col7,#T_a1643574_b078_11eb_b349_f8b156bc4af9row2_col8,#T_a1643574_b078_11eb_b349_f8b156bc4af9row2_col9,#T_a1643574_b078_11eb_b349_f8b156bc4af9row2_col10,#T_a1643574_b078_11eb_b349_f8b156bc4af9row2_col11,#T_a1643574_b078_11eb_b349_f8b156bc4af9row2_col12,#T_a1643574_b078_11eb_b349_f8b156bc4af9row2_col14,#T_a1643574_b078_11eb_b349_f8b156bc4af9row2_col15,#T_a1643574_b078_11eb_b349_f8b156bc4af9row2_col16,#T_a1643574_b078_11eb_b349_f8b156bc4af9row2_col17,#T_a1643574_b078_11eb_b349_f8b156bc4af9row3_col0,#T_a1643574_b078_11eb_b349_f8b156bc4af9row3_col1,#T_a1643574_b078_11eb_b349_f8b156bc4af9row3_col7,#T_a1643574_b078_11eb_b349_f8b156bc4af9row3_col17,#T_a1643574_b078_11eb_b349_f8b156bc4af9row4_col0,#T_a1643574_b078_11eb_b349_f8b156bc4af9row4_col1,#T_a1643574_b078_11eb_b349_f8b156bc4af9row4_col2,#T_a1643574_b078_11eb_b349_f8b156bc4af9row4_col3,#T_a1643574_b078_11eb_b349_f8b156bc4af9row4_col4,#T_a1643574_b078_11eb_b349_f8b156bc4af9row4_col5,#T_a1643574_b078_11eb_b349_f8b156bc4af9row4_col6,#T_a1643574_b078_11eb_b349_f8b156bc4af9row4_col7,#T_a1643574_b078_11eb_b349_f8b156bc4af9row4_col8,#T_a1643574_b078_11eb_b349_f8b156bc4af9row4_col9,#T_a1643574_b078_11eb_b349_f8b156bc4af9row4_col11,#T_a1643574_b078_11eb_b349_f8b156bc4af9row4_col12,#T_a1643574_b078_11eb_b349_f8b156bc4af9row4_col13,#T_a1643574_b078_11eb_b349_f8b156bc4af9row4_col14,#T_a1643574_b078_11eb_b349_f8b156bc4af9row4_col15,#T_a1643574_b078_11eb_b349_f8b156bc4af9row4_col16,#T_a1643574_b078_11eb_b349_f8b156bc4af9row4_col17,#T_a1643574_b078_11eb_b349_f8b156bc4af9row5_col0,#T_a1643574_b078_11eb_b349_f8b156bc4af9row5_col1,#T_a1643574_b078_11eb_b349_f8b156bc4af9row5_col2,#T_a1643574_b078_11eb_b349_f8b156bc4af9row5_col4,#T_a1643574_b078_11eb_b349_f8b156bc4af9row5_col6,#T_a1643574_b078_11eb_b349_f8b156bc4af9row5_col7,#T_a1643574_b078_11eb_b349_f8b156bc4af9row5_col8,#T_a1643574_b078_11eb_b349_f8b156bc4af9row5_col9,#T_a1643574_b078_11eb_b349_f8b156bc4af9row5_col10,#T_a1643574_b078_11eb_b349_f8b156bc4af9row5_col11,#T_a1643574_b078_11eb_b349_f8b156bc4af9row5_col12,#T_a1643574_b078_11eb_b349_f8b156bc4af9row5_col13,#T_a1643574_b078_11eb_b349_f8b156bc4af9row5_col14,#T_a1643574_b078_11eb_b349_f8b156bc4af9row5_col15,#T_a1643574_b078_11eb_b349_f8b156bc4af9row5_col16,#T_a1643574_b078_11eb_b349_f8b156bc4af9row5_col17,#T_a1643574_b078_11eb_b349_f8b156bc4af9row6_col0,#T_a1643574_b078_11eb_b349_f8b156bc4af9row6_col1,#T_a1643574_b078_11eb_b349_f8b156bc4af9row6_col2,#T_a1643574_b078_11eb_b349_f8b156bc4af9row6_col3,#T_a1643574_b078_11eb_b349_f8b156bc4af9row6_col4,#T_a1643574_b078_11eb_b349_f8b156bc4af9row6_col5,#T_a1643574_b078_11eb_b349_f8b156bc4af9row6_col6,#T_a1643574_b078_11eb_b349_f8b156bc4af9row6_col7,#T_a1643574_b078_11eb_b349_f8b156bc4af9row6_col9,#T_a1643574_b078_11eb_b349_f8b156bc4af9row6_col10,#T_a1643574_b078_11eb_b349_f8b156bc4af9row6_col11,#T_a1643574_b078_11eb_b349_f8b156bc4af9row6_col12,#T_a1643574_b078_11eb_b349_f8b156bc4af9row6_col13,#T_a1643574_b078_11eb_b349_f8b156bc4af9row6_col14,#T_a1643574_b078_11eb_b349_f8b156bc4af9row6_col15,#T_a1643574_b078_11eb_b349_f8b156bc4af9row6_col16,#T_a1643574_b078_11eb_b349_f8b156bc4af9row6_col17,#T_a1643574_b078_11eb_b349_f8b156bc4af9row7_col0,#T_a1643574_b078_11eb_b349_f8b156bc4af9row7_col1,#T_a1643574_b078_11eb_b349_f8b156bc4af9row7_col2,#T_a1643574_b078_11eb_b349_f8b156bc4af9row7_col3,#T_a1643574_b078_11eb_b349_f8b156bc4af9row7_col4,#T_a1643574_b078_11eb_b349_f8b156bc4af9row7_col5,#T_a1643574_b078_11eb_b349_f8b156bc4af9row7_col6,#T_a1643574_b078_11eb_b349_f8b156bc4af9row7_col7,#T_a1643574_b078_11eb_b349_f8b156bc4af9row7_col9,#T_a1643574_b078_11eb_b349_f8b156bc4af9row7_col10,#T_a1643574_b078_11eb_b349_f8b156bc4af9row7_col11,#T_a1643574_b078_11eb_b349_f8b156bc4af9row7_col12,#T_a1643574_b078_11eb_b349_f8b156bc4af9row7_col17,#T_a1643574_b078_11eb_b349_f8b156bc4af9row8_col0,#T_a1643574_b078_11eb_b349_f8b156bc4af9row8_col1,#T_a1643574_b078_11eb_b349_f8b156bc4af9row8_col2,#T_a1643574_b078_11eb_b349_f8b156bc4af9row8_col3,#T_a1643574_b078_11eb_b349_f8b156bc4af9row8_col4,#T_a1643574_b078_11eb_b349_f8b156bc4af9row8_col5,#T_a1643574_b078_11eb_b349_f8b156bc4af9row8_col6,#T_a1643574_b078_11eb_b349_f8b156bc4af9row8_col7,#T_a1643574_b078_11eb_b349_f8b156bc4af9row8_col8,#T_a1643574_b078_11eb_b349_f8b156bc4af9row8_col9,#T_a1643574_b078_11eb_b349_f8b156bc4af9row8_col10,#T_a1643574_b078_11eb_b349_f8b156bc4af9row8_col11,#T_a1643574_b078_11eb_b349_f8b156bc4af9row8_col12,#T_a1643574_b078_11eb_b349_f8b156bc4af9row8_col13,#T_a1643574_b078_11eb_b349_f8b156bc4af9row8_col14,#T_a1643574_b078_11eb_b349_f8b156bc4af9row8_col16,#T_a1643574_b078_11eb_b349_f8b156bc4af9row8_col17,#T_a1643574_b078_11eb_b349_f8b156bc4af9row9_col2,#T_a1643574_b078_11eb_b349_f8b156bc4af9row9_col3,#T_a1643574_b078_11eb_b349_f8b156bc4af9row9_col4,#T_a1643574_b078_11eb_b349_f8b156bc4af9row9_col5,#T_a1643574_b078_11eb_b349_f8b156bc4af9row9_col6,#T_a1643574_b078_11eb_b349_f8b156bc4af9row9_col7,#T_a1643574_b078_11eb_b349_f8b156bc4af9row9_col9,#T_a1643574_b078_11eb_b349_f8b156bc4af9row9_col10,#T_a1643574_b078_11eb_b349_f8b156bc4af9row9_col11,#T_a1643574_b078_11eb_b349_f8b156bc4af9row9_col12,#T_a1643574_b078_11eb_b349_f8b156bc4af9row9_col13,#T_a1643574_b078_11eb_b349_f8b156bc4af9row9_col14,#T_a1643574_b078_11eb_b349_f8b156bc4af9row9_col15,#T_a1643574_b078_11eb_b349_f8b156bc4af9row9_col16,#T_a1643574_b078_11eb_b349_f8b156bc4af9row9_col17,#T_a1643574_b078_11eb_b349_f8b156bc4af9row10_col0,#T_a1643574_b078_11eb_b349_f8b156bc4af9row10_col1,#T_a1643574_b078_11eb_b349_f8b156bc4af9row10_col2,#T_a1643574_b078_11eb_b349_f8b156bc4af9row10_col3,#T_a1643574_b078_11eb_b349_f8b156bc4af9row10_col4,#T_a1643574_b078_11eb_b349_f8b156bc4af9row10_col6,#T_a1643574_b078_11eb_b349_f8b156bc4af9row10_col7,#T_a1643574_b078_11eb_b349_f8b156bc4af9row10_col8,#T_a1643574_b078_11eb_b349_f8b156bc4af9row10_col9,#T_a1643574_b078_11eb_b349_f8b156bc4af9row10_col10,#T_a1643574_b078_11eb_b349_f8b156bc4af9row10_col11,#T_a1643574_b078_11eb_b349_f8b156bc4af9row10_col12,#T_a1643574_b078_11eb_b349_f8b156bc4af9row10_col13,#T_a1643574_b078_11eb_b349_f8b156bc4af9row10_col14,#T_a1643574_b078_11eb_b349_f8b156bc4af9row10_col15,#T_a1643574_b078_11eb_b349_f8b156bc4af9row10_col16,#T_a1643574_b078_11eb_b349_f8b156bc4af9row10_col17,#T_a1643574_b078_11eb_b349_f8b156bc4af9row11_col0,#T_a1643574_b078_11eb_b349_f8b156bc4af9row11_col1,#T_a1643574_b078_11eb_b349_f8b156bc4af9row11_col2,#T_a1643574_b078_11eb_b349_f8b156bc4af9row11_col3,#T_a1643574_b078_11eb_b349_f8b156bc4af9row11_col4,#T_a1643574_b078_11eb_b349_f8b156bc4af9row11_col6,#T_a1643574_b078_11eb_b349_f8b156bc4af9row11_col7,#T_a1643574_b078_11eb_b349_f8b156bc4af9row11_col8,#T_a1643574_b078_11eb_b349_f8b156bc4af9row11_col9,#T_a1643574_b078_11eb_b349_f8b156bc4af9row11_col10,#T_a1643574_b078_11eb_b349_f8b156bc4af9row11_col11,#T_a1643574_b078_11eb_b349_f8b156bc4af9row11_col12,#T_a1643574_b078_11eb_b349_f8b156bc4af9row11_col13,#T_a1643574_b078_11eb_b349_f8b156bc4af9row11_col14,#T_a1643574_b078_11eb_b349_f8b156bc4af9row11_col15,#T_a1643574_b078_11eb_b349_f8b156bc4af9row11_col16,#T_a1643574_b078_11eb_b349_f8b156bc4af9row11_col17,#T_a1643574_b078_11eb_b349_f8b156bc4af9row12_col0,#T_a1643574_b078_11eb_b349_f8b156bc4af9row12_col1,#T_a1643574_b078_11eb_b349_f8b156bc4af9row12_col2,#T_a1643574_b078_11eb_b349_f8b156bc4af9row12_col3,#T_a1643574_b078_11eb_b349_f8b156bc4af9row12_col4,#T_a1643574_b078_11eb_b349_f8b156bc4af9row12_col5,#T_a1643574_b078_11eb_b349_f8b156bc4af9row12_col6,#T_a1643574_b078_11eb_b349_f8b156bc4af9row12_col7,#T_a1643574_b078_11eb_b349_f8b156bc4af9row12_col8,#T_a1643574_b078_11eb_b349_f8b156bc4af9row12_col9,#T_a1643574_b078_11eb_b349_f8b156bc4af9row12_col10,#T_a1643574_b078_11eb_b349_f8b156bc4af9row12_col11,#T_a1643574_b078_11eb_b349_f8b156bc4af9row12_col13,#T_a1643574_b078_11eb_b349_f8b156bc4af9row12_col14,#T_a1643574_b078_11eb_b349_f8b156bc4af9row12_col15,#T_a1643574_b078_11eb_b349_f8b156bc4af9row12_col16,#T_a1643574_b078_11eb_b349_f8b156bc4af9row12_col17,#T_a1643574_b078_11eb_b349_f8b156bc4af9row13_col0,#T_a1643574_b078_11eb_b349_f8b156bc4af9row13_col1,#T_a1643574_b078_11eb_b349_f8b156bc4af9row13_col2,#T_a1643574_b078_11eb_b349_f8b156bc4af9row13_col5,#T_a1643574_b078_11eb_b349_f8b156bc4af9row13_col6,#T_a1643574_b078_11eb_b349_f8b156bc4af9row13_col7,#T_a1643574_b078_11eb_b349_f8b156bc4af9row13_col8,#T_a1643574_b078_11eb_b349_f8b156bc4af9row13_col9,#T_a1643574_b078_11eb_b349_f8b156bc4af9row13_col10,#T_a1643574_b078_11eb_b349_f8b156bc4af9row13_col11,#T_a1643574_b078_11eb_b349_f8b156bc4af9row13_col12,#T_a1643574_b078_11eb_b349_f8b156bc4af9row13_col13,#T_a1643574_b078_11eb_b349_f8b156bc4af9row13_col14,#T_a1643574_b078_11eb_b349_f8b156bc4af9row13_col15,#T_a1643574_b078_11eb_b349_f8b156bc4af9row13_col16,#T_a1643574_b078_11eb_b349_f8b156bc4af9row13_col17,#T_a1643574_b078_11eb_b349_f8b156bc4af9row14_col0,#T_a1643574_b078_11eb_b349_f8b156bc4af9row14_col1,#T_a1643574_b078_11eb_b349_f8b156bc4af9row14_col2,#T_a1643574_b078_11eb_b349_f8b156bc4af9row14_col3,#T_a1643574_b078_11eb_b349_f8b156bc4af9row14_col4,#T_a1643574_b078_11eb_b349_f8b156bc4af9row14_col5,#T_a1643574_b078_11eb_b349_f8b156bc4af9row14_col7,#T_a1643574_b078_11eb_b349_f8b156bc4af9row14_col8,#T_a1643574_b078_11eb_b349_f8b156bc4af9row14_col9,#T_a1643574_b078_11eb_b349_f8b156bc4af9row14_col10,#T_a1643574_b078_11eb_b349_f8b156bc4af9row14_col11,#T_a1643574_b078_11eb_b349_f8b156bc4af9row14_col12,#T_a1643574_b078_11eb_b349_f8b156bc4af9row14_col13,#T_a1643574_b078_11eb_b349_f8b156bc4af9row14_col14,#T_a1643574_b078_11eb_b349_f8b156bc4af9row14_col15,#T_a1643574_b078_11eb_b349_f8b156bc4af9row14_col16,#T_a1643574_b078_11eb_b349_f8b156bc4af9row14_col17,#T_a1643574_b078_11eb_b349_f8b156bc4af9row15_col0,#T_a1643574_b078_11eb_b349_f8b156bc4af9row15_col1,#T_a1643574_b078_11eb_b349_f8b156bc4af9row15_col2,#T_a1643574_b078_11eb_b349_f8b156bc4af9row15_col3,#T_a1643574_b078_11eb_b349_f8b156bc4af9row15_col4,#T_a1643574_b078_11eb_b349_f8b156bc4af9row15_col6,#T_a1643574_b078_11eb_b349_f8b156bc4af9row15_col7,#T_a1643574_b078_11eb_b349_f8b156bc4af9row15_col9,#T_a1643574_b078_11eb_b349_f8b156bc4af9row15_col10,#T_a1643574_b078_11eb_b349_f8b156bc4af9row15_col11,#T_a1643574_b078_11eb_b349_f8b156bc4af9row15_col12,#T_a1643574_b078_11eb_b349_f8b156bc4af9row15_col13,#T_a1643574_b078_11eb_b349_f8b156bc4af9row15_col14,#T_a1643574_b078_11eb_b349_f8b156bc4af9row15_col15,#T_a1643574_b078_11eb_b349_f8b156bc4af9row15_col16,#T_a1643574_b078_11eb_b349_f8b156bc4af9row15_col17,#T_a1643574_b078_11eb_b349_f8b156bc4af9row16_col0,#T_a1643574_b078_11eb_b349_f8b156bc4af9row16_col1,#T_a1643574_b078_11eb_b349_f8b156bc4af9row16_col2,#T_a1643574_b078_11eb_b349_f8b156bc4af9row16_col3,#T_a1643574_b078_11eb_b349_f8b156bc4af9row16_col4,#T_a1643574_b078_11eb_b349_f8b156bc4af9row16_col5,#T_a1643574_b078_11eb_b349_f8b156bc4af9row16_col6,#T_a1643574_b078_11eb_b349_f8b156bc4af9row16_col7,#T_a1643574_b078_11eb_b349_f8b156bc4af9row16_col8,#T_a1643574_b078_11eb_b349_f8b156bc4af9row16_col9,#T_a1643574_b078_11eb_b349_f8b156bc4af9row16_col12,#T_a1643574_b078_11eb_b349_f8b156bc4af9row16_col13,#T_a1643574_b078_11eb_b349_f8b156bc4af9row16_col14,#T_a1643574_b078_11eb_b349_f8b156bc4af9row16_col15,#T_a1643574_b078_11eb_b349_f8b156bc4af9row16_col16,#T_a1643574_b078_11eb_b349_f8b156bc4af9row16_col17,#T_a1643574_b078_11eb_b349_f8b156bc4af9row17_col0,#T_a1643574_b078_11eb_b349_f8b156bc4af9row17_col1,#T_a1643574_b078_11eb_b349_f8b156bc4af9row17_col2,#T_a1643574_b078_11eb_b349_f8b156bc4af9row17_col6,#T_a1643574_b078_11eb_b349_f8b156bc4af9row17_col7,#T_a1643574_b078_11eb_b349_f8b156bc4af9row17_col8,#T_a1643574_b078_11eb_b349_f8b156bc4af9row17_col9,#T_a1643574_b078_11eb_b349_f8b156bc4af9row17_col10,#T_a1643574_b078_11eb_b349_f8b156bc4af9row17_col11,#T_a1643574_b078_11eb_b349_f8b156bc4af9row17_col14,#T_a1643574_b078_11eb_b349_f8b156bc4af9row17_col16,#T_a1643574_b078_11eb_b349_f8b156bc4af9row17_col17,#T_a1643574_b078_11eb_b349_f8b156bc4af9row18_col0,#T_a1643574_b078_11eb_b349_f8b156bc4af9row18_col1,#T_a1643574_b078_11eb_b349_f8b156bc4af9row18_col2,#T_a1643574_b078_11eb_b349_f8b156bc4af9row18_col3,#T_a1643574_b078_11eb_b349_f8b156bc4af9row18_col4,#T_a1643574_b078_11eb_b349_f8b156bc4af9row18_col5,#T_a1643574_b078_11eb_b349_f8b156bc4af9row18_col6,#T_a1643574_b078_11eb_b349_f8b156bc4af9row18_col7,#T_a1643574_b078_11eb_b349_f8b156bc4af9row18_col10,#T_a1643574_b078_11eb_b349_f8b156bc4af9row18_col11,#T_a1643574_b078_11eb_b349_f8b156bc4af9row18_col12,#T_a1643574_b078_11eb_b349_f8b156bc4af9row18_col13,#T_a1643574_b078_11eb_b349_f8b156bc4af9row18_col14,#T_a1643574_b078_11eb_b349_f8b156bc4af9row18_col15,#T_a1643574_b078_11eb_b349_f8b156bc4af9row18_col16,#T_a1643574_b078_11eb_b349_f8b156bc4af9row18_col17,#T_a1643574_b078_11eb_b349_f8b156bc4af9row19_col0,#T_a1643574_b078_11eb_b349_f8b156bc4af9row19_col1,#T_a1643574_b078_11eb_b349_f8b156bc4af9row19_col2,#T_a1643574_b078_11eb_b349_f8b156bc4af9row19_col3,#T_a1643574_b078_11eb_b349_f8b156bc4af9row19_col4,#T_a1643574_b078_11eb_b349_f8b156bc4af9row19_col5,#T_a1643574_b078_11eb_b349_f8b156bc4af9row19_col6,#T_a1643574_b078_11eb_b349_f8b156bc4af9row19_col7,#T_a1643574_b078_11eb_b349_f8b156bc4af9row19_col8,#T_a1643574_b078_11eb_b349_f8b156bc4af9row19_col9,#T_a1643574_b078_11eb_b349_f8b156bc4af9row19_col10,#T_a1643574_b078_11eb_b349_f8b156bc4af9row19_col11,#T_a1643574_b078_11eb_b349_f8b156bc4af9row19_col12,#T_a1643574_b078_11eb_b349_f8b156bc4af9row19_col13,#T_a1643574_b078_11eb_b349_f8b156bc4af9row19_col14,#T_a1643574_b078_11eb_b349_f8b156bc4af9row19_col16,#T_a1643574_b078_11eb_b349_f8b156bc4af9row19_col17,#T_a1643574_b078_11eb_b349_f8b156bc4af9row20_col0,#T_a1643574_b078_11eb_b349_f8b156bc4af9row20_col1,#T_a1643574_b078_11eb_b349_f8b156bc4af9row20_col2,#T_a1643574_b078_11eb_b349_f8b156bc4af9row20_col3,#T_a1643574_b078_11eb_b349_f8b156bc4af9row20_col4,#T_a1643574_b078_11eb_b349_f8b156bc4af9row20_col5,#T_a1643574_b078_11eb_b349_f8b156bc4af9row20_col6,#T_a1643574_b078_11eb_b349_f8b156bc4af9row20_col7,#T_a1643574_b078_11eb_b349_f8b156bc4af9row20_col8,#T_a1643574_b078_11eb_b349_f8b156bc4af9row20_col9,#T_a1643574_b078_11eb_b349_f8b156bc4af9row20_col10,#T_a1643574_b078_11eb_b349_f8b156bc4af9row20_col11,#T_a1643574_b078_11eb_b349_f8b156bc4af9row20_col12,#T_a1643574_b078_11eb_b349_f8b156bc4af9row20_col13,#T_a1643574_b078_11eb_b349_f8b156bc4af9row20_col14,#T_a1643574_b078_11eb_b349_f8b156bc4af9row20_col15,#T_a1643574_b078_11eb_b349_f8b156bc4af9row20_col16,#T_a1643574_b078_11eb_b349_f8b156bc4af9row20_col17,#T_a1643574_b078_11eb_b349_f8b156bc4af9row21_col0,#T_a1643574_b078_11eb_b349_f8b156bc4af9row21_col1,#T_a1643574_b078_11eb_b349_f8b156bc4af9row21_col2,#T_a1643574_b078_11eb_b349_f8b156bc4af9row21_col3,#T_a1643574_b078_11eb_b349_f8b156bc4af9row21_col4,#T_a1643574_b078_11eb_b349_f8b156bc4af9row21_col5,#T_a1643574_b078_11eb_b349_f8b156bc4af9row21_col7,#T_a1643574_b078_11eb_b349_f8b156bc4af9row21_col10,#T_a1643574_b078_11eb_b349_f8b156bc4af9row21_col11,#T_a1643574_b078_11eb_b349_f8b156bc4af9row21_col14,#T_a1643574_b078_11eb_b349_f8b156bc4af9row21_col15,#T_a1643574_b078_11eb_b349_f8b156bc4af9row21_col16,#T_a1643574_b078_11eb_b349_f8b156bc4af9row21_col17,#T_a1643574_b078_11eb_b349_f8b156bc4af9row22_col0,#T_a1643574_b078_11eb_b349_f8b156bc4af9row22_col1,#T_a1643574_b078_11eb_b349_f8b156bc4af9row22_col2,#T_a1643574_b078_11eb_b349_f8b156bc4af9row22_col3,#T_a1643574_b078_11eb_b349_f8b156bc4af9row22_col4,#T_a1643574_b078_11eb_b349_f8b156bc4af9row22_col5,#T_a1643574_b078_11eb_b349_f8b156bc4af9row22_col6,#T_a1643574_b078_11eb_b349_f8b156bc4af9row22_col7,#T_a1643574_b078_11eb_b349_f8b156bc4af9row22_col9,#T_a1643574_b078_11eb_b349_f8b156bc4af9row22_col10,#T_a1643574_b078_11eb_b349_f8b156bc4af9row22_col11,#T_a1643574_b078_11eb_b349_f8b156bc4af9row22_col12,#T_a1643574_b078_11eb_b349_f8b156bc4af9row22_col13,#T_a1643574_b078_11eb_b349_f8b156bc4af9row22_col14,#T_a1643574_b078_11eb_b349_f8b156bc4af9row22_col15,#T_a1643574_b078_11eb_b349_f8b156bc4af9row22_col16,#T_a1643574_b078_11eb_b349_f8b156bc4af9row22_col17,#T_a1643574_b078_11eb_b349_f8b156bc4af9row23_col0,#T_a1643574_b078_11eb_b349_f8b156bc4af9row23_col1,#T_a1643574_b078_11eb_b349_f8b156bc4af9row23_col2,#T_a1643574_b078_11eb_b349_f8b156bc4af9row23_col3,#T_a1643574_b078_11eb_b349_f8b156bc4af9row23_col4,#T_a1643574_b078_11eb_b349_f8b156bc4af9row23_col5,#T_a1643574_b078_11eb_b349_f8b156bc4af9row23_col6,#T_a1643574_b078_11eb_b349_f8b156bc4af9row23_col7,#T_a1643574_b078_11eb_b349_f8b156bc4af9row23_col8,#T_a1643574_b078_11eb_b349_f8b156bc4af9row23_col9,#T_a1643574_b078_11eb_b349_f8b156bc4af9row23_col10,#T_a1643574_b078_11eb_b349_f8b156bc4af9row23_col11,#T_a1643574_b078_11eb_b349_f8b156bc4af9row23_col12,#T_a1643574_b078_11eb_b349_f8b156bc4af9row23_col13,#T_a1643574_b078_11eb_b349_f8b156bc4af9row23_col14,#T_a1643574_b078_11eb_b349_f8b156bc4af9row23_col15,#T_a1643574_b078_11eb_b349_f8b156bc4af9row23_col17,#T_a1643574_b078_11eb_b349_f8b156bc4af9row24_col0,#T_a1643574_b078_11eb_b349_f8b156bc4af9row24_col1,#T_a1643574_b078_11eb_b349_f8b156bc4af9row24_col2,#T_a1643574_b078_11eb_b349_f8b156bc4af9row24_col3,#T_a1643574_b078_11eb_b349_f8b156bc4af9row24_col4,#T_a1643574_b078_11eb_b349_f8b156bc4af9row24_col6,#T_a1643574_b078_11eb_b349_f8b156bc4af9row24_col7,#T_a1643574_b078_11eb_b349_f8b156bc4af9row24_col9,#T_a1643574_b078_11eb_b349_f8b156bc4af9row24_col10,#T_a1643574_b078_11eb_b349_f8b156bc4af9row24_col11,#T_a1643574_b078_11eb_b349_f8b156bc4af9row24_col12,#T_a1643574_b078_11eb_b349_f8b156bc4af9row24_col13,#T_a1643574_b078_11eb_b349_f8b156bc4af9row24_col14,#T_a1643574_b078_11eb_b349_f8b156bc4af9row24_col15,#T_a1643574_b078_11eb_b349_f8b156bc4af9row24_col16,#T_a1643574_b078_11eb_b349_f8b156bc4af9row24_col17,#T_a1643574_b078_11eb_b349_f8b156bc4af9row25_col0,#T_a1643574_b078_11eb_b349_f8b156bc4af9row25_col1,#T_a1643574_b078_11eb_b349_f8b156bc4af9row25_col2,#T_a1643574_b078_11eb_b349_f8b156bc4af9row25_col3,#T_a1643574_b078_11eb_b349_f8b156bc4af9row25_col4,#T_a1643574_b078_11eb_b349_f8b156bc4af9row25_col5,#T_a1643574_b078_11eb_b349_f8b156bc4af9row25_col6,#T_a1643574_b078_11eb_b349_f8b156bc4af9row25_col7,#T_a1643574_b078_11eb_b349_f8b156bc4af9row25_col8,#T_a1643574_b078_11eb_b349_f8b156bc4af9row25_col9,#T_a1643574_b078_11eb_b349_f8b156bc4af9row25_col10,#T_a1643574_b078_11eb_b349_f8b156bc4af9row25_col11,#T_a1643574_b078_11eb_b349_f8b156bc4af9row25_col12,#T_a1643574_b078_11eb_b349_f8b156bc4af9row25_col13,#T_a1643574_b078_11eb_b349_f8b156bc4af9row25_col14,#T_a1643574_b078_11eb_b349_f8b156bc4af9row25_col16,#T_a1643574_b078_11eb_b349_f8b156bc4af9row25_col17,#T_a1643574_b078_11eb_b349_f8b156bc4af9row26_col17,#T_a1643574_b078_11eb_b349_f8b156bc4af9row27_col0,#T_a1643574_b078_11eb_b349_f8b156bc4af9row27_col1,#T_a1643574_b078_11eb_b349_f8b156bc4af9row27_col2,#T_a1643574_b078_11eb_b349_f8b156bc4af9row27_col3,#T_a1643574_b078_11eb_b349_f8b156bc4af9row27_col4,#T_a1643574_b078_11eb_b349_f8b156bc4af9row27_col5,#T_a1643574_b078_11eb_b349_f8b156bc4af9row27_col6,#T_a1643574_b078_11eb_b349_f8b156bc4af9row27_col7,#T_a1643574_b078_11eb_b349_f8b156bc4af9row27_col8,#T_a1643574_b078_11eb_b349_f8b156bc4af9row27_col9,#T_a1643574_b078_11eb_b349_f8b156bc4af9row27_col10,#T_a1643574_b078_11eb_b349_f8b156bc4af9row27_col15,#T_a1643574_b078_11eb_b349_f8b156bc4af9row27_col17,#T_a1643574_b078_11eb_b349_f8b156bc4af9row28_col0,#T_a1643574_b078_11eb_b349_f8b156bc4af9row28_col1,#T_a1643574_b078_11eb_b349_f8b156bc4af9row28_col2,#T_a1643574_b078_11eb_b349_f8b156bc4af9row28_col3,#T_a1643574_b078_11eb_b349_f8b156bc4af9row28_col4,#T_a1643574_b078_11eb_b349_f8b156bc4af9row28_col5,#T_a1643574_b078_11eb_b349_f8b156bc4af9row28_col6,#T_a1643574_b078_11eb_b349_f8b156bc4af9row28_col7,#T_a1643574_b078_11eb_b349_f8b156bc4af9row28_col8,#T_a1643574_b078_11eb_b349_f8b156bc4af9row28_col9,#T_a1643574_b078_11eb_b349_f8b156bc4af9row28_col10,#T_a1643574_b078_11eb_b349_f8b156bc4af9row28_col11,#T_a1643574_b078_11eb_b349_f8b156bc4af9row28_col12,#T_a1643574_b078_11eb_b349_f8b156bc4af9row28_col14,#T_a1643574_b078_11eb_b349_f8b156bc4af9row28_col15,#T_a1643574_b078_11eb_b349_f8b156bc4af9row28_col16,#T_a1643574_b078_11eb_b349_f8b156bc4af9row28_col17,#T_a1643574_b078_11eb_b349_f8b156bc4af9row29_col0,#T_a1643574_b078_11eb_b349_f8b156bc4af9row29_col1,#T_a1643574_b078_11eb_b349_f8b156bc4af9row29_col2,#T_a1643574_b078_11eb_b349_f8b156bc4af9row29_col3,#T_a1643574_b078_11eb_b349_f8b156bc4af9row29_col4,#T_a1643574_b078_11eb_b349_f8b156bc4af9row29_col5,#T_a1643574_b078_11eb_b349_f8b156bc4af9row29_col6,#T_a1643574_b078_11eb_b349_f8b156bc4af9row29_col7,#T_a1643574_b078_11eb_b349_f8b156bc4af9row29_col9,#T_a1643574_b078_11eb_b349_f8b156bc4af9row29_col10,#T_a1643574_b078_11eb_b349_f8b156bc4af9row29_col11,#T_a1643574_b078_11eb_b349_f8b156bc4af9row29_col12,#T_a1643574_b078_11eb_b349_f8b156bc4af9row29_col13,#T_a1643574_b078_11eb_b349_f8b156bc4af9row29_col14,#T_a1643574_b078_11eb_b349_f8b156bc4af9row29_col15,#T_a1643574_b078_11eb_b349_f8b156bc4af9row29_col16,#T_a1643574_b078_11eb_b349_f8b156bc4af9row29_col17,#T_a1643574_b078_11eb_b349_f8b156bc4af9row30_col0,#T_a1643574_b078_11eb_b349_f8b156bc4af9row30_col1,#T_a1643574_b078_11eb_b349_f8b156bc4af9row30_col2,#T_a1643574_b078_11eb_b349_f8b156bc4af9row30_col3,#T_a1643574_b078_11eb_b349_f8b156bc4af9row30_col4,#T_a1643574_b078_11eb_b349_f8b156bc4af9row30_col5,#T_a1643574_b078_11eb_b349_f8b156bc4af9row30_col6,#T_a1643574_b078_11eb_b349_f8b156bc4af9row30_col7,#T_a1643574_b078_11eb_b349_f8b156bc4af9row30_col8,#T_a1643574_b078_11eb_b349_f8b156bc4af9row30_col9,#T_a1643574_b078_11eb_b349_f8b156bc4af9row30_col10,#T_a1643574_b078_11eb_b349_f8b156bc4af9row30_col11,#T_a1643574_b078_11eb_b349_f8b156bc4af9row30_col12,#T_a1643574_b078_11eb_b349_f8b156bc4af9row30_col14,#T_a1643574_b078_11eb_b349_f8b156bc4af9row30_col15,#T_a1643574_b078_11eb_b349_f8b156bc4af9row30_col16,#T_a1643574_b078_11eb_b349_f8b156bc4af9row30_col17,#T_a1643574_b078_11eb_b349_f8b156bc4af9row31_col0,#T_a1643574_b078_11eb_b349_f8b156bc4af9row31_col1,#T_a1643574_b078_11eb_b349_f8b156bc4af9row31_col2,#T_a1643574_b078_11eb_b349_f8b156bc4af9row31_col3,#T_a1643574_b078_11eb_b349_f8b156bc4af9row31_col4,#T_a1643574_b078_11eb_b349_f8b156bc4af9row31_col5,#T_a1643574_b078_11eb_b349_f8b156bc4af9row31_col6,#T_a1643574_b078_11eb_b349_f8b156bc4af9row31_col7,#T_a1643574_b078_11eb_b349_f8b156bc4af9row31_col8,#T_a1643574_b078_11eb_b349_f8b156bc4af9row31_col9,#T_a1643574_b078_11eb_b349_f8b156bc4af9row31_col10,#T_a1643574_b078_11eb_b349_f8b156bc4af9row31_col11,#T_a1643574_b078_11eb_b349_f8b156bc4af9row31_col12,#T_a1643574_b078_11eb_b349_f8b156bc4af9row31_col16,#T_a1643574_b078_11eb_b349_f8b156bc4af9row31_col17,#T_a1643574_b078_11eb_b349_f8b156bc4af9row32_col2,#T_a1643574_b078_11eb_b349_f8b156bc4af9row32_col7,#T_a1643574_b078_11eb_b349_f8b156bc4af9row32_col8,#T_a1643574_b078_11eb_b349_f8b156bc4af9row32_col9,#T_a1643574_b078_11eb_b349_f8b156bc4af9row32_col10,#T_a1643574_b078_11eb_b349_f8b156bc4af9row32_col11,#T_a1643574_b078_11eb_b349_f8b156bc4af9row32_col12,#T_a1643574_b078_11eb_b349_f8b156bc4af9row32_col14,#T_a1643574_b078_11eb_b349_f8b156bc4af9row32_col15,#T_a1643574_b078_11eb_b349_f8b156bc4af9row32_col16,#T_a1643574_b078_11eb_b349_f8b156bc4af9row32_col17,#T_a1643574_b078_11eb_b349_f8b156bc4af9row33_col0,#T_a1643574_b078_11eb_b349_f8b156bc4af9row33_col1,#T_a1643574_b078_11eb_b349_f8b156bc4af9row33_col2,#T_a1643574_b078_11eb_b349_f8b156bc4af9row33_col3,#T_a1643574_b078_11eb_b349_f8b156bc4af9row33_col4,#T_a1643574_b078_11eb_b349_f8b156bc4af9row33_col7,#T_a1643574_b078_11eb_b349_f8b156bc4af9row33_col9,#T_a1643574_b078_11eb_b349_f8b156bc4af9row33_col10,#T_a1643574_b078_11eb_b349_f8b156bc4af9row33_col11,#T_a1643574_b078_11eb_b349_f8b156bc4af9row33_col12,#T_a1643574_b078_11eb_b349_f8b156bc4af9row33_col13,#T_a1643574_b078_11eb_b349_f8b156bc4af9row33_col14,#T_a1643574_b078_11eb_b349_f8b156bc4af9row33_col15,#T_a1643574_b078_11eb_b349_f8b156bc4af9row33_col16,#T_a1643574_b078_11eb_b349_f8b156bc4af9row33_col17,#T_a1643574_b078_11eb_b349_f8b156bc4af9row34_col0,#T_a1643574_b078_11eb_b349_f8b156bc4af9row34_col1,#T_a1643574_b078_11eb_b349_f8b156bc4af9row34_col2,#T_a1643574_b078_11eb_b349_f8b156bc4af9row34_col3,#T_a1643574_b078_11eb_b349_f8b156bc4af9row34_col4,#T_a1643574_b078_11eb_b349_f8b156bc4af9row34_col5,#T_a1643574_b078_11eb_b349_f8b156bc4af9row34_col7,#T_a1643574_b078_11eb_b349_f8b156bc4af9row34_col8,#T_a1643574_b078_11eb_b349_f8b156bc4af9row34_col9,#T_a1643574_b078_11eb_b349_f8b156bc4af9row34_col10,#T_a1643574_b078_11eb_b349_f8b156bc4af9row34_col11,#T_a1643574_b078_11eb_b349_f8b156bc4af9row34_col12,#T_a1643574_b078_11eb_b349_f8b156bc4af9row34_col13,#T_a1643574_b078_11eb_b349_f8b156bc4af9row34_col14,#T_a1643574_b078_11eb_b349_f8b156bc4af9row34_col15,#T_a1643574_b078_11eb_b349_f8b156bc4af9row34_col17,#T_a1643574_b078_11eb_b349_f8b156bc4af9row35_col0,#T_a1643574_b078_11eb_b349_f8b156bc4af9row35_col1,#T_a1643574_b078_11eb_b349_f8b156bc4af9row35_col2,#T_a1643574_b078_11eb_b349_f8b156bc4af9row35_col3,#T_a1643574_b078_11eb_b349_f8b156bc4af9row35_col4,#T_a1643574_b078_11eb_b349_f8b156bc4af9row35_col5,#T_a1643574_b078_11eb_b349_f8b156bc4af9row35_col6,#T_a1643574_b078_11eb_b349_f8b156bc4af9row35_col7,#T_a1643574_b078_11eb_b349_f8b156bc4af9row35_col8,#T_a1643574_b078_11eb_b349_f8b156bc4af9row35_col9,#T_a1643574_b078_11eb_b349_f8b156bc4af9row35_col12,#T_a1643574_b078_11eb_b349_f8b156bc4af9row35_col13,#T_a1643574_b078_11eb_b349_f8b156bc4af9row35_col14,#T_a1643574_b078_11eb_b349_f8b156bc4af9row35_col15,#T_a1643574_b078_11eb_b349_f8b156bc4af9row35_col16,#T_a1643574_b078_11eb_b349_f8b156bc4af9row35_col17,#T_a1643574_b078_11eb_b349_f8b156bc4af9row36_col0,#T_a1643574_b078_11eb_b349_f8b156bc4af9row36_col1,#T_a1643574_b078_11eb_b349_f8b156bc4af9row36_col2,#T_a1643574_b078_11eb_b349_f8b156bc4af9row36_col4,#T_a1643574_b078_11eb_b349_f8b156bc4af9row36_col5,#T_a1643574_b078_11eb_b349_f8b156bc4af9row36_col6,#T_a1643574_b078_11eb_b349_f8b156bc4af9row36_col7,#T_a1643574_b078_11eb_b349_f8b156bc4af9row36_col8,#T_a1643574_b078_11eb_b349_f8b156bc4af9row36_col10,#T_a1643574_b078_11eb_b349_f8b156bc4af9row36_col11,#T_a1643574_b078_11eb_b349_f8b156bc4af9row36_col12,#T_a1643574_b078_11eb_b349_f8b156bc4af9row36_col13,#T_a1643574_b078_11eb_b349_f8b156bc4af9row36_col14,#T_a1643574_b078_11eb_b349_f8b156bc4af9row36_col15,#T_a1643574_b078_11eb_b349_f8b156bc4af9row36_col16,#T_a1643574_b078_11eb_b349_f8b156bc4af9row36_col17,#T_a1643574_b078_11eb_b349_f8b156bc4af9row37_col0,#T_a1643574_b078_11eb_b349_f8b156bc4af9row37_col1,#T_a1643574_b078_11eb_b349_f8b156bc4af9row37_col2,#T_a1643574_b078_11eb_b349_f8b156bc4af9row37_col3,#T_a1643574_b078_11eb_b349_f8b156bc4af9row37_col4,#T_a1643574_b078_11eb_b349_f8b156bc4af9row37_col5,#T_a1643574_b078_11eb_b349_f8b156bc4af9row37_col6,#T_a1643574_b078_11eb_b349_f8b156bc4af9row37_col7,#T_a1643574_b078_11eb_b349_f8b156bc4af9row37_col8,#T_a1643574_b078_11eb_b349_f8b156bc4af9row37_col9,#T_a1643574_b078_11eb_b349_f8b156bc4af9row37_col10,#T_a1643574_b078_11eb_b349_f8b156bc4af9row37_col11,#T_a1643574_b078_11eb_b349_f8b156bc4af9row37_col12,#T_a1643574_b078_11eb_b349_f8b156bc4af9row37_col13,#T_a1643574_b078_11eb_b349_f8b156bc4af9row37_col15,#T_a1643574_b078_11eb_b349_f8b156bc4af9row37_col16,#T_a1643574_b078_11eb_b349_f8b156bc4af9row37_col17,#T_a1643574_b078_11eb_b349_f8b156bc4af9row38_col0,#T_a1643574_b078_11eb_b349_f8b156bc4af9row38_col1,#T_a1643574_b078_11eb_b349_f8b156bc4af9row38_col2,#T_a1643574_b078_11eb_b349_f8b156bc4af9row38_col3,#T_a1643574_b078_11eb_b349_f8b156bc4af9row38_col4,#T_a1643574_b078_11eb_b349_f8b156bc4af9row38_col5,#T_a1643574_b078_11eb_b349_f8b156bc4af9row38_col6,#T_a1643574_b078_11eb_b349_f8b156bc4af9row38_col7,#T_a1643574_b078_11eb_b349_f8b156bc4af9row38_col10,#T_a1643574_b078_11eb_b349_f8b156bc4af9row38_col11,#T_a1643574_b078_11eb_b349_f8b156bc4af9row38_col12,#T_a1643574_b078_11eb_b349_f8b156bc4af9row38_col13,#T_a1643574_b078_11eb_b349_f8b156bc4af9row38_col14,#T_a1643574_b078_11eb_b349_f8b156bc4af9row38_col15,#T_a1643574_b078_11eb_b349_f8b156bc4af9row38_col16,#T_a1643574_b078_11eb_b349_f8b156bc4af9row38_col17,#T_a1643574_b078_11eb_b349_f8b156bc4af9row39_col0,#T_a1643574_b078_11eb_b349_f8b156bc4af9row39_col1,#T_a1643574_b078_11eb_b349_f8b156bc4af9row39_col2,#T_a1643574_b078_11eb_b349_f8b156bc4af9row39_col3,#T_a1643574_b078_11eb_b349_f8b156bc4af9row39_col4,#T_a1643574_b078_11eb_b349_f8b156bc4af9row39_col5,#T_a1643574_b078_11eb_b349_f8b156bc4af9row39_col6,#T_a1643574_b078_11eb_b349_f8b156bc4af9row39_col7,#T_a1643574_b078_11eb_b349_f8b156bc4af9row39_col8,#T_a1643574_b078_11eb_b349_f8b156bc4af9row39_col9,#T_a1643574_b078_11eb_b349_f8b156bc4af9row39_col10,#T_a1643574_b078_11eb_b349_f8b156bc4af9row39_col11,#T_a1643574_b078_11eb_b349_f8b156bc4af9row39_col13,#T_a1643574_b078_11eb_b349_f8b156bc4af9row39_col14,#T_a1643574_b078_11eb_b349_f8b156bc4af9row39_col15,#T_a1643574_b078_11eb_b349_f8b156bc4af9row39_col16,#T_a1643574_b078_11eb_b349_f8b156bc4af9row40_col2,#T_a1643574_b078_11eb_b349_f8b156bc4af9row40_col17,#T_a1643574_b078_11eb_b349_f8b156bc4af9row41_col0,#T_a1643574_b078_11eb_b349_f8b156bc4af9row41_col1,#T_a1643574_b078_11eb_b349_f8b156bc4af9row41_col2,#T_a1643574_b078_11eb_b349_f8b156bc4af9row41_col3,#T_a1643574_b078_11eb_b349_f8b156bc4af9row41_col4,#T_a1643574_b078_11eb_b349_f8b156bc4af9row41_col5,#T_a1643574_b078_11eb_b349_f8b156bc4af9row41_col6,#T_a1643574_b078_11eb_b349_f8b156bc4af9row41_col7,#T_a1643574_b078_11eb_b349_f8b156bc4af9row41_col8,#T_a1643574_b078_11eb_b349_f8b156bc4af9row41_col9,#T_a1643574_b078_11eb_b349_f8b156bc4af9row41_col10,#T_a1643574_b078_11eb_b349_f8b156bc4af9row41_col11,#T_a1643574_b078_11eb_b349_f8b156bc4af9row41_col12,#T_a1643574_b078_11eb_b349_f8b156bc4af9row41_col17,#T_a1643574_b078_11eb_b349_f8b156bc4af9row42_col0,#T_a1643574_b078_11eb_b349_f8b156bc4af9row42_col1,#T_a1643574_b078_11eb_b349_f8b156bc4af9row42_col2,#T_a1643574_b078_11eb_b349_f8b156bc4af9row42_col3,#T_a1643574_b078_11eb_b349_f8b156bc4af9row42_col4,#T_a1643574_b078_11eb_b349_f8b156bc4af9row42_col5,#T_a1643574_b078_11eb_b349_f8b156bc4af9row42_col6,#T_a1643574_b078_11eb_b349_f8b156bc4af9row42_col7,#T_a1643574_b078_11eb_b349_f8b156bc4af9row42_col8,#T_a1643574_b078_11eb_b349_f8b156bc4af9row42_col9,#T_a1643574_b078_11eb_b349_f8b156bc4af9row42_col10,#T_a1643574_b078_11eb_b349_f8b156bc4af9row42_col11,#T_a1643574_b078_11eb_b349_f8b156bc4af9row42_col12,#T_a1643574_b078_11eb_b349_f8b156bc4af9row42_col17,#T_a1643574_b078_11eb_b349_f8b156bc4af9row43_col0,#T_a1643574_b078_11eb_b349_f8b156bc4af9row43_col1,#T_a1643574_b078_11eb_b349_f8b156bc4af9row43_col2,#T_a1643574_b078_11eb_b349_f8b156bc4af9row43_col4,#T_a1643574_b078_11eb_b349_f8b156bc4af9row43_col5,#T_a1643574_b078_11eb_b349_f8b156bc4af9row43_col6,#T_a1643574_b078_11eb_b349_f8b156bc4af9row43_col7,#T_a1643574_b078_11eb_b349_f8b156bc4af9row43_col8,#T_a1643574_b078_11eb_b349_f8b156bc4af9row43_col10,#T_a1643574_b078_11eb_b349_f8b156bc4af9row43_col12,#T_a1643574_b078_11eb_b349_f8b156bc4af9row43_col14,#T_a1643574_b078_11eb_b349_f8b156bc4af9row43_col16,#T_a1643574_b078_11eb_b349_f8b156bc4af9row43_col17,#T_a1643574_b078_11eb_b349_f8b156bc4af9row44_col0,#T_a1643574_b078_11eb_b349_f8b156bc4af9row44_col1,#T_a1643574_b078_11eb_b349_f8b156bc4af9row44_col2,#T_a1643574_b078_11eb_b349_f8b156bc4af9row44_col3,#T_a1643574_b078_11eb_b349_f8b156bc4af9row44_col4,#T_a1643574_b078_11eb_b349_f8b156bc4af9row44_col5,#T_a1643574_b078_11eb_b349_f8b156bc4af9row44_col6,#T_a1643574_b078_11eb_b349_f8b156bc4af9row44_col7,#T_a1643574_b078_11eb_b349_f8b156bc4af9row44_col8,#T_a1643574_b078_11eb_b349_f8b156bc4af9row44_col9,#T_a1643574_b078_11eb_b349_f8b156bc4af9row44_col10,#T_a1643574_b078_11eb_b349_f8b156bc4af9row44_col11,#T_a1643574_b078_11eb_b349_f8b156bc4af9row44_col12,#T_a1643574_b078_11eb_b349_f8b156bc4af9row44_col13,#T_a1643574_b078_11eb_b349_f8b156bc4af9row44_col14,#T_a1643574_b078_11eb_b349_f8b156bc4af9row44_col17{\n",
       "            background-color:  #f7fcf0;\n",
       "            color:  #000000;\n",
       "        }#T_a1643574_b078_11eb_b349_f8b156bc4af9row0_col11,#T_a1643574_b078_11eb_b349_f8b156bc4af9row26_col16,#T_a1643574_b078_11eb_b349_f8b156bc4af9row32_col13{\n",
       "            background-color:  #f4fbed;\n",
       "            color:  #000000;\n",
       "        }#T_a1643574_b078_11eb_b349_f8b156bc4af9row0_col12,#T_a1643574_b078_11eb_b349_f8b156bc4af9row11_col5,#T_a1643574_b078_11eb_b349_f8b156bc4af9row21_col12{\n",
       "            background-color:  #edf8e7;\n",
       "            color:  #000000;\n",
       "        }#T_a1643574_b078_11eb_b349_f8b156bc4af9row0_col13,#T_a1643574_b078_11eb_b349_f8b156bc4af9row17_col15,#T_a1643574_b078_11eb_b349_f8b156bc4af9row26_col10{\n",
       "            background-color:  #f5fbee;\n",
       "            color:  #000000;\n",
       "        }#T_a1643574_b078_11eb_b349_f8b156bc4af9row1_col3{\n",
       "            background-color:  #f0f9e9;\n",
       "            color:  #000000;\n",
       "        }#T_a1643574_b078_11eb_b349_f8b156bc4af9row2_col13,#T_a1643574_b078_11eb_b349_f8b156bc4af9row3_col14,#T_a1643574_b078_11eb_b349_f8b156bc4af9row3_col15,#T_a1643574_b078_11eb_b349_f8b156bc4af9row12_col12,#T_a1643574_b078_11eb_b349_f8b156bc4af9row19_col15,#T_a1643574_b078_11eb_b349_f8b156bc4af9row43_col13,#T_a1643574_b078_11eb_b349_f8b156bc4af9row43_col15,#T_a1643574_b078_11eb_b349_f8b156bc4af9row44_col16{\n",
       "            background-color:  #f6fbef;\n",
       "            color:  #000000;\n",
       "        }#T_a1643574_b078_11eb_b349_f8b156bc4af9row3_col2{\n",
       "            background-color:  #b9e3bc;\n",
       "            color:  #000000;\n",
       "        }#T_a1643574_b078_11eb_b349_f8b156bc4af9row3_col3{\n",
       "            background-color:  #77cac5;\n",
       "            color:  #000000;\n",
       "        }#T_a1643574_b078_11eb_b349_f8b156bc4af9row3_col4{\n",
       "            background-color:  #58b9d0;\n",
       "            color:  #000000;\n",
       "        }#T_a1643574_b078_11eb_b349_f8b156bc4af9row3_col5,#T_a1643574_b078_11eb_b349_f8b156bc4af9row4_col10,#T_a1643574_b078_11eb_b349_f8b156bc4af9row17_col3,#T_a1643574_b078_11eb_b349_f8b156bc4af9row36_col3,#T_a1643574_b078_11eb_b349_f8b156bc4af9row38_col9{\n",
       "            background-color:  #f3fbed;\n",
       "            color:  #000000;\n",
       "        }#T_a1643574_b078_11eb_b349_f8b156bc4af9row3_col6,#T_a1643574_b078_11eb_b349_f8b156bc4af9row7_col14,#T_a1643574_b078_11eb_b349_f8b156bc4af9row21_col6,#T_a1643574_b078_11eb_b349_f8b156bc4af9row23_col16,#T_a1643574_b078_11eb_b349_f8b156bc4af9row28_col13,#T_a1643574_b078_11eb_b349_f8b156bc4af9row31_col15,#T_a1643574_b078_11eb_b349_f8b156bc4af9row33_col5{\n",
       "            background-color:  #f3faec;\n",
       "            color:  #000000;\n",
       "        }#T_a1643574_b078_11eb_b349_f8b156bc4af9row3_col8,#T_a1643574_b078_11eb_b349_f8b156bc4af9row9_col8,#T_a1643574_b078_11eb_b349_f8b156bc4af9row14_col6,#T_a1643574_b078_11eb_b349_f8b156bc4af9row18_col8,#T_a1643574_b078_11eb_b349_f8b156bc4af9row24_col5,#T_a1643574_b078_11eb_b349_f8b156bc4af9row26_col8{\n",
       "            background-color:  #f1faeb;\n",
       "            color:  #000000;\n",
       "        }#T_a1643574_b078_11eb_b349_f8b156bc4af9row3_col9,#T_a1643574_b078_11eb_b349_f8b156bc4af9row9_col1,#T_a1643574_b078_11eb_b349_f8b156bc4af9row42_col14{\n",
       "            background-color:  #d8f0d3;\n",
       "            color:  #000000;\n",
       "        }#T_a1643574_b078_11eb_b349_f8b156bc4af9row3_col10,#T_a1643574_b078_11eb_b349_f8b156bc4af9row43_col11{\n",
       "            background-color:  #d7efd1;\n",
       "            color:  #000000;\n",
       "        }#T_a1643574_b078_11eb_b349_f8b156bc4af9row3_col11{\n",
       "            background-color:  #86d0c0;\n",
       "            color:  #000000;\n",
       "        }#T_a1643574_b078_11eb_b349_f8b156bc4af9row3_col12,#T_a1643574_b078_11eb_b349_f8b156bc4af9row27_col11{\n",
       "            background-color:  #eff9e9;\n",
       "            color:  #000000;\n",
       "        }#T_a1643574_b078_11eb_b349_f8b156bc4af9row3_col13{\n",
       "            background-color:  #e4f5df;\n",
       "            color:  #000000;\n",
       "        }#T_a1643574_b078_11eb_b349_f8b156bc4af9row3_col16,#T_a1643574_b078_11eb_b349_f8b156bc4af9row8_col15,#T_a1643574_b078_11eb_b349_f8b156bc4af9row25_col15,#T_a1643574_b078_11eb_b349_f8b156bc4af9row27_col14,#T_a1643574_b078_11eb_b349_f8b156bc4af9row27_col16,#T_a1643574_b078_11eb_b349_f8b156bc4af9row34_col16,#T_a1643574_b078_11eb_b349_f8b156bc4af9row37_col14{\n",
       "            background-color:  #f6fcef;\n",
       "            color:  #000000;\n",
       "        }#T_a1643574_b078_11eb_b349_f8b156bc4af9row5_col3{\n",
       "            background-color:  #d0edca;\n",
       "            color:  #000000;\n",
       "        }#T_a1643574_b078_11eb_b349_f8b156bc4af9row5_col5{\n",
       "            background-color:  #99d7ba;\n",
       "            color:  #000000;\n",
       "        }#T_a1643574_b078_11eb_b349_f8b156bc4af9row6_col8,#T_a1643574_b078_11eb_b349_f8b156bc4af9row18_col9{\n",
       "            background-color:  #e9f6e3;\n",
       "            color:  #000000;\n",
       "        }#T_a1643574_b078_11eb_b349_f8b156bc4af9row7_col8{\n",
       "            background-color:  #dff3da;\n",
       "            color:  #000000;\n",
       "        }#T_a1643574_b078_11eb_b349_f8b156bc4af9row7_col13{\n",
       "            background-color:  #e2f4dd;\n",
       "            color:  #000000;\n",
       "        }#T_a1643574_b078_11eb_b349_f8b156bc4af9row7_col15,#T_a1643574_b078_11eb_b349_f8b156bc4af9row40_col3{\n",
       "            background-color:  #cfecc8;\n",
       "            color:  #000000;\n",
       "        }#T_a1643574_b078_11eb_b349_f8b156bc4af9row7_col16{\n",
       "            background-color:  #ccebc5;\n",
       "            color:  #000000;\n",
       "        }#T_a1643574_b078_11eb_b349_f8b156bc4af9row9_col0{\n",
       "            background-color:  #e1f3dc;\n",
       "            color:  #000000;\n",
       "        }#T_a1643574_b078_11eb_b349_f8b156bc4af9row10_col5{\n",
       "            background-color:  #e6f5e0;\n",
       "            color:  #000000;\n",
       "        }#T_a1643574_b078_11eb_b349_f8b156bc4af9row13_col3,#T_a1643574_b078_11eb_b349_f8b156bc4af9row17_col4,#T_a1643574_b078_11eb_b349_f8b156bc4af9row17_col12,#T_a1643574_b078_11eb_b349_f8b156bc4af9row26_col0,#T_a1643574_b078_11eb_b349_f8b156bc4af9row26_col1,#T_a1643574_b078_11eb_b349_f8b156bc4af9row26_col2,#T_a1643574_b078_11eb_b349_f8b156bc4af9row26_col9,#T_a1643574_b078_11eb_b349_f8b156bc4af9row27_col13,#T_a1643574_b078_11eb_b349_f8b156bc4af9row31_col14,#T_a1643574_b078_11eb_b349_f8b156bc4af9row39_col17,#T_a1643574_b078_11eb_b349_f8b156bc4af9row40_col5,#T_a1643574_b078_11eb_b349_f8b156bc4af9row40_col6,#T_a1643574_b078_11eb_b349_f8b156bc4af9row40_col7,#T_a1643574_b078_11eb_b349_f8b156bc4af9row40_col8,#T_a1643574_b078_11eb_b349_f8b156bc4af9row40_col10,#T_a1643574_b078_11eb_b349_f8b156bc4af9row40_col11,#T_a1643574_b078_11eb_b349_f8b156bc4af9row42_col15,#T_a1643574_b078_11eb_b349_f8b156bc4af9row42_col16{\n",
       "            background-color:  #084081;\n",
       "            color:  #f1f1f1;\n",
       "        }#T_a1643574_b078_11eb_b349_f8b156bc4af9row13_col4,#T_a1643574_b078_11eb_b349_f8b156bc4af9row29_col8{\n",
       "            background-color:  #e9f7e3;\n",
       "            color:  #000000;\n",
       "        }#T_a1643574_b078_11eb_b349_f8b156bc4af9row15_col5{\n",
       "            background-color:  #dbf1d5;\n",
       "            color:  #000000;\n",
       "        }#T_a1643574_b078_11eb_b349_f8b156bc4af9row15_col8,#T_a1643574_b078_11eb_b349_f8b156bc4af9row34_col6,#T_a1643574_b078_11eb_b349_f8b156bc4af9row43_col3{\n",
       "            background-color:  #dcf1d7;\n",
       "            color:  #000000;\n",
       "        }#T_a1643574_b078_11eb_b349_f8b156bc4af9row16_col10,#T_a1643574_b078_11eb_b349_f8b156bc4af9row21_col9{\n",
       "            background-color:  #b5e2bb;\n",
       "            color:  #000000;\n",
       "        }#T_a1643574_b078_11eb_b349_f8b156bc4af9row16_col11,#T_a1643574_b078_11eb_b349_f8b156bc4af9row35_col11{\n",
       "            background-color:  #e8f6e2;\n",
       "            color:  #000000;\n",
       "        }#T_a1643574_b078_11eb_b349_f8b156bc4af9row17_col5{\n",
       "            background-color:  #d5efcf;\n",
       "            color:  #000000;\n",
       "        }#T_a1643574_b078_11eb_b349_f8b156bc4af9row17_col13,#T_a1643574_b078_11eb_b349_f8b156bc4af9row40_col16,#T_a1643574_b078_11eb_b349_f8b156bc4af9row41_col14{\n",
       "            background-color:  #e3f4de;\n",
       "            color:  #000000;\n",
       "        }#T_a1643574_b078_11eb_b349_f8b156bc4af9row21_col8{\n",
       "            background-color:  #ccebc6;\n",
       "            color:  #000000;\n",
       "        }#T_a1643574_b078_11eb_b349_f8b156bc4af9row21_col13,#T_a1643574_b078_11eb_b349_f8b156bc4af9row24_col8,#T_a1643574_b078_11eb_b349_f8b156bc4af9row32_col5,#T_a1643574_b078_11eb_b349_f8b156bc4af9row36_col9{\n",
       "            background-color:  #ebf7e5;\n",
       "            color:  #000000;\n",
       "        }#T_a1643574_b078_11eb_b349_f8b156bc4af9row22_col8{\n",
       "            background-color:  #bae4bd;\n",
       "            color:  #000000;\n",
       "        }#T_a1643574_b078_11eb_b349_f8b156bc4af9row26_col3{\n",
       "            background-color:  #a6dcb6;\n",
       "            color:  #000000;\n",
       "        }#T_a1643574_b078_11eb_b349_f8b156bc4af9row26_col4{\n",
       "            background-color:  #2f90c0;\n",
       "            color:  #000000;\n",
       "        }#T_a1643574_b078_11eb_b349_f8b156bc4af9row26_col5{\n",
       "            background-color:  #6ec5c8;\n",
       "            color:  #000000;\n",
       "        }#T_a1643574_b078_11eb_b349_f8b156bc4af9row26_col6{\n",
       "            background-color:  #68c1ca;\n",
       "            color:  #000000;\n",
       "        }#T_a1643574_b078_11eb_b349_f8b156bc4af9row26_col7{\n",
       "            background-color:  #08589b;\n",
       "            color:  #f1f1f1;\n",
       "        }#T_a1643574_b078_11eb_b349_f8b156bc4af9row26_col11{\n",
       "            background-color:  #084485;\n",
       "            color:  #f1f1f1;\n",
       "        }#T_a1643574_b078_11eb_b349_f8b156bc4af9row26_col12{\n",
       "            background-color:  #92d5bc;\n",
       "            color:  #000000;\n",
       "        }#T_a1643574_b078_11eb_b349_f8b156bc4af9row26_col13{\n",
       "            background-color:  #298abd;\n",
       "            color:  #000000;\n",
       "        }#T_a1643574_b078_11eb_b349_f8b156bc4af9row26_col14,#T_a1643574_b078_11eb_b349_f8b156bc4af9row39_col12{\n",
       "            background-color:  #eef8e7;\n",
       "            color:  #000000;\n",
       "        }#T_a1643574_b078_11eb_b349_f8b156bc4af9row26_col15{\n",
       "            background-color:  #d9f0d3;\n",
       "            color:  #000000;\n",
       "        }#T_a1643574_b078_11eb_b349_f8b156bc4af9row27_col12,#T_a1643574_b078_11eb_b349_f8b156bc4af9row30_col13,#T_a1643574_b078_11eb_b349_f8b156bc4af9row33_col8{\n",
       "            background-color:  #e4f4de;\n",
       "            color:  #000000;\n",
       "        }#T_a1643574_b078_11eb_b349_f8b156bc4af9row31_col13,#T_a1643574_b078_11eb_b349_f8b156bc4af9row32_col6,#T_a1643574_b078_11eb_b349_f8b156bc4af9row33_col6{\n",
       "            background-color:  #f2faeb;\n",
       "            color:  #000000;\n",
       "        }#T_a1643574_b078_11eb_b349_f8b156bc4af9row32_col0{\n",
       "            background-color:  #91d4bd;\n",
       "            color:  #000000;\n",
       "        }#T_a1643574_b078_11eb_b349_f8b156bc4af9row32_col1{\n",
       "            background-color:  #95d6bb;\n",
       "            color:  #000000;\n",
       "        }#T_a1643574_b078_11eb_b349_f8b156bc4af9row32_col3{\n",
       "            background-color:  #cdebc6;\n",
       "            color:  #000000;\n",
       "        }#T_a1643574_b078_11eb_b349_f8b156bc4af9row32_col4{\n",
       "            background-color:  #c4e8c1;\n",
       "            color:  #000000;\n",
       "        }#T_a1643574_b078_11eb_b349_f8b156bc4af9row35_col10,#T_a1643574_b078_11eb_b349_f8b156bc4af9row38_col8{\n",
       "            background-color:  #f1f9ea;\n",
       "            color:  #000000;\n",
       "        }#T_a1643574_b078_11eb_b349_f8b156bc4af9row40_col0{\n",
       "            background-color:  #dcf1d6;\n",
       "            color:  #000000;\n",
       "        }#T_a1643574_b078_11eb_b349_f8b156bc4af9row40_col1,#T_a1643574_b078_11eb_b349_f8b156bc4af9row43_col9{\n",
       "            background-color:  #ecf8e6;\n",
       "            color:  #000000;\n",
       "        }#T_a1643574_b078_11eb_b349_f8b156bc4af9row40_col4{\n",
       "            background-color:  #084f91;\n",
       "            color:  #f1f1f1;\n",
       "        }#T_a1643574_b078_11eb_b349_f8b156bc4af9row40_col9{\n",
       "            background-color:  #085a9d;\n",
       "            color:  #f1f1f1;\n",
       "        }#T_a1643574_b078_11eb_b349_f8b156bc4af9row40_col12{\n",
       "            background-color:  #61bdcd;\n",
       "            color:  #000000;\n",
       "        }#T_a1643574_b078_11eb_b349_f8b156bc4af9row40_col13{\n",
       "            background-color:  #98d7ba;\n",
       "            color:  #000000;\n",
       "        }#T_a1643574_b078_11eb_b349_f8b156bc4af9row40_col14{\n",
       "            background-color:  #eaf7e4;\n",
       "            color:  #000000;\n",
       "        }#T_a1643574_b078_11eb_b349_f8b156bc4af9row40_col15{\n",
       "            background-color:  #97d6bb;\n",
       "            color:  #000000;\n",
       "        }#T_a1643574_b078_11eb_b349_f8b156bc4af9row41_col13{\n",
       "            background-color:  #4db2d3;\n",
       "            color:  #000000;\n",
       "        }#T_a1643574_b078_11eb_b349_f8b156bc4af9row41_col15{\n",
       "            background-color:  #a2dbb7;\n",
       "            color:  #000000;\n",
       "        }#T_a1643574_b078_11eb_b349_f8b156bc4af9row41_col16{\n",
       "            background-color:  #d6efd0;\n",
       "            color:  #000000;\n",
       "        }#T_a1643574_b078_11eb_b349_f8b156bc4af9row42_col13{\n",
       "            background-color:  #1878b4;\n",
       "            color:  #f1f1f1;\n",
       "        }#T_a1643574_b078_11eb_b349_f8b156bc4af9row44_col15{\n",
       "            background-color:  #eef9e8;\n",
       "            color:  #000000;\n",
       "        }</style><table id=\"T_a1643574_b078_11eb_b349_f8b156bc4af9\" ><thead>    <tr>        <th class=\"index_name level0\" >yearOfRegistration</th>        <th class=\"col_heading level0 col0\" >2002</th>        <th class=\"col_heading level0 col1\" >2003</th>        <th class=\"col_heading level0 col2\" >2004</th>        <th class=\"col_heading level0 col3\" >2005</th>        <th class=\"col_heading level0 col4\" >2006</th>        <th class=\"col_heading level0 col5\" >2007</th>        <th class=\"col_heading level0 col6\" >2008</th>        <th class=\"col_heading level0 col7\" >2009</th>        <th class=\"col_heading level0 col8\" >2010</th>        <th class=\"col_heading level0 col9\" >2011</th>        <th class=\"col_heading level0 col10\" >2012</th>        <th class=\"col_heading level0 col11\" >2013</th>        <th class=\"col_heading level0 col12\" >2014</th>        <th class=\"col_heading level0 col13\" >2015</th>        <th class=\"col_heading level0 col14\" >2016</th>        <th class=\"col_heading level0 col15\" >2017</th>        <th class=\"col_heading level0 col16\" >2018</th>        <th class=\"col_heading level0 col17\" >2019</th>    </tr>    <tr>        <th class=\"index_name level0\" >country</th>        <th class=\"blank\" ></th>        <th class=\"blank\" ></th>        <th class=\"blank\" ></th>        <th class=\"blank\" ></th>        <th class=\"blank\" ></th>        <th class=\"blank\" ></th>        <th class=\"blank\" ></th>        <th class=\"blank\" ></th>        <th class=\"blank\" ></th>        <th class=\"blank\" ></th>        <th class=\"blank\" ></th>        <th class=\"blank\" ></th>        <th class=\"blank\" ></th>        <th class=\"blank\" ></th>        <th class=\"blank\" ></th>        <th class=\"blank\" ></th>        <th class=\"blank\" ></th>        <th class=\"blank\" ></th>    </tr></thead><tbody>\n",
       "                <tr>\n",
       "                        <th id=\"T_a1643574_b078_11eb_b349_f8b156bc4af9level0_row0\" class=\"row_heading level0 row0\" >Afghanistan</th>\n",
       "                        <td id=\"T_a1643574_b078_11eb_b349_f8b156bc4af9row0_col0\" class=\"data row0 col0\" >0</td>\n",
       "                        <td id=\"T_a1643574_b078_11eb_b349_f8b156bc4af9row0_col1\" class=\"data row0 col1\" >0</td>\n",
       "                        <td id=\"T_a1643574_b078_11eb_b349_f8b156bc4af9row0_col2\" class=\"data row0 col2\" >0</td>\n",
       "                        <td id=\"T_a1643574_b078_11eb_b349_f8b156bc4af9row0_col3\" class=\"data row0 col3\" >0</td>\n",
       "                        <td id=\"T_a1643574_b078_11eb_b349_f8b156bc4af9row0_col4\" class=\"data row0 col4\" >0</td>\n",
       "                        <td id=\"T_a1643574_b078_11eb_b349_f8b156bc4af9row0_col5\" class=\"data row0 col5\" >0</td>\n",
       "                        <td id=\"T_a1643574_b078_11eb_b349_f8b156bc4af9row0_col6\" class=\"data row0 col6\" >0</td>\n",
       "                        <td id=\"T_a1643574_b078_11eb_b349_f8b156bc4af9row0_col7\" class=\"data row0 col7\" >0</td>\n",
       "                        <td id=\"T_a1643574_b078_11eb_b349_f8b156bc4af9row0_col8\" class=\"data row0 col8\" >0</td>\n",
       "                        <td id=\"T_a1643574_b078_11eb_b349_f8b156bc4af9row0_col9\" class=\"data row0 col9\" >0</td>\n",
       "                        <td id=\"T_a1643574_b078_11eb_b349_f8b156bc4af9row0_col10\" class=\"data row0 col10\" >0</td>\n",
       "                        <td id=\"T_a1643574_b078_11eb_b349_f8b156bc4af9row0_col11\" class=\"data row0 col11\" >12</td>\n",
       "                        <td id=\"T_a1643574_b078_11eb_b349_f8b156bc4af9row0_col12\" class=\"data row0 col12\" >71</td>\n",
       "                        <td id=\"T_a1643574_b078_11eb_b349_f8b156bc4af9row0_col13\" class=\"data row0 col13\" >14</td>\n",
       "                        <td id=\"T_a1643574_b078_11eb_b349_f8b156bc4af9row0_col14\" class=\"data row0 col14\" >0</td>\n",
       "                        <td id=\"T_a1643574_b078_11eb_b349_f8b156bc4af9row0_col15\" class=\"data row0 col15\" >0</td>\n",
       "                        <td id=\"T_a1643574_b078_11eb_b349_f8b156bc4af9row0_col16\" class=\"data row0 col16\" >0</td>\n",
       "                        <td id=\"T_a1643574_b078_11eb_b349_f8b156bc4af9row0_col17\" class=\"data row0 col17\" >0</td>\n",
       "            </tr>\n",
       "            <tr>\n",
       "                        <th id=\"T_a1643574_b078_11eb_b349_f8b156bc4af9level0_row1\" class=\"row_heading level0 row1\" >Albania</th>\n",
       "                        <td id=\"T_a1643574_b078_11eb_b349_f8b156bc4af9row1_col0\" class=\"data row1 col0\" >0</td>\n",
       "                        <td id=\"T_a1643574_b078_11eb_b349_f8b156bc4af9row1_col1\" class=\"data row1 col1\" >0</td>\n",
       "                        <td id=\"T_a1643574_b078_11eb_b349_f8b156bc4af9row1_col2\" class=\"data row1 col2\" >0</td>\n",
       "                        <td id=\"T_a1643574_b078_11eb_b349_f8b156bc4af9row1_col3\" class=\"data row1 col3\" >22</td>\n",
       "                        <td id=\"T_a1643574_b078_11eb_b349_f8b156bc4af9row1_col4\" class=\"data row1 col4\" >0</td>\n",
       "                        <td id=\"T_a1643574_b078_11eb_b349_f8b156bc4af9row1_col5\" class=\"data row1 col5\" >0</td>\n",
       "                        <td id=\"T_a1643574_b078_11eb_b349_f8b156bc4af9row1_col6\" class=\"data row1 col6\" >0</td>\n",
       "                        <td id=\"T_a1643574_b078_11eb_b349_f8b156bc4af9row1_col7\" class=\"data row1 col7\" >0</td>\n",
       "                        <td id=\"T_a1643574_b078_11eb_b349_f8b156bc4af9row1_col8\" class=\"data row1 col8\" >0</td>\n",
       "                        <td id=\"T_a1643574_b078_11eb_b349_f8b156bc4af9row1_col9\" class=\"data row1 col9\" >0</td>\n",
       "                        <td id=\"T_a1643574_b078_11eb_b349_f8b156bc4af9row1_col10\" class=\"data row1 col10\" >0</td>\n",
       "                        <td id=\"T_a1643574_b078_11eb_b349_f8b156bc4af9row1_col11\" class=\"data row1 col11\" >0</td>\n",
       "                        <td id=\"T_a1643574_b078_11eb_b349_f8b156bc4af9row1_col12\" class=\"data row1 col12\" >0</td>\n",
       "                        <td id=\"T_a1643574_b078_11eb_b349_f8b156bc4af9row1_col13\" class=\"data row1 col13\" >0</td>\n",
       "                        <td id=\"T_a1643574_b078_11eb_b349_f8b156bc4af9row1_col14\" class=\"data row1 col14\" >0</td>\n",
       "                        <td id=\"T_a1643574_b078_11eb_b349_f8b156bc4af9row1_col15\" class=\"data row1 col15\" >0</td>\n",
       "                        <td id=\"T_a1643574_b078_11eb_b349_f8b156bc4af9row1_col16\" class=\"data row1 col16\" >0</td>\n",
       "                        <td id=\"T_a1643574_b078_11eb_b349_f8b156bc4af9row1_col17\" class=\"data row1 col17\" >0</td>\n",
       "            </tr>\n",
       "            <tr>\n",
       "                        <th id=\"T_a1643574_b078_11eb_b349_f8b156bc4af9level0_row2\" class=\"row_heading level0 row2\" >Bangladesh</th>\n",
       "                        <td id=\"T_a1643574_b078_11eb_b349_f8b156bc4af9row2_col0\" class=\"data row2 col0\" >0</td>\n",
       "                        <td id=\"T_a1643574_b078_11eb_b349_f8b156bc4af9row2_col1\" class=\"data row2 col1\" >0</td>\n",
       "                        <td id=\"T_a1643574_b078_11eb_b349_f8b156bc4af9row2_col2\" class=\"data row2 col2\" >0</td>\n",
       "                        <td id=\"T_a1643574_b078_11eb_b349_f8b156bc4af9row2_col3\" class=\"data row2 col3\" >0</td>\n",
       "                        <td id=\"T_a1643574_b078_11eb_b349_f8b156bc4af9row2_col4\" class=\"data row2 col4\" >0</td>\n",
       "                        <td id=\"T_a1643574_b078_11eb_b349_f8b156bc4af9row2_col5\" class=\"data row2 col5\" >0</td>\n",
       "                        <td id=\"T_a1643574_b078_11eb_b349_f8b156bc4af9row2_col6\" class=\"data row2 col6\" >0</td>\n",
       "                        <td id=\"T_a1643574_b078_11eb_b349_f8b156bc4af9row2_col7\" class=\"data row2 col7\" >0</td>\n",
       "                        <td id=\"T_a1643574_b078_11eb_b349_f8b156bc4af9row2_col8\" class=\"data row2 col8\" >0</td>\n",
       "                        <td id=\"T_a1643574_b078_11eb_b349_f8b156bc4af9row2_col9\" class=\"data row2 col9\" >0</td>\n",
       "                        <td id=\"T_a1643574_b078_11eb_b349_f8b156bc4af9row2_col10\" class=\"data row2 col10\" >0</td>\n",
       "                        <td id=\"T_a1643574_b078_11eb_b349_f8b156bc4af9row2_col11\" class=\"data row2 col11\" >0</td>\n",
       "                        <td id=\"T_a1643574_b078_11eb_b349_f8b156bc4af9row2_col12\" class=\"data row2 col12\" >0</td>\n",
       "                        <td id=\"T_a1643574_b078_11eb_b349_f8b156bc4af9row2_col13\" class=\"data row2 col13\" >11</td>\n",
       "                        <td id=\"T_a1643574_b078_11eb_b349_f8b156bc4af9row2_col14\" class=\"data row2 col14\" >0</td>\n",
       "                        <td id=\"T_a1643574_b078_11eb_b349_f8b156bc4af9row2_col15\" class=\"data row2 col15\" >0</td>\n",
       "                        <td id=\"T_a1643574_b078_11eb_b349_f8b156bc4af9row2_col16\" class=\"data row2 col16\" >0</td>\n",
       "                        <td id=\"T_a1643574_b078_11eb_b349_f8b156bc4af9row2_col17\" class=\"data row2 col17\" >0</td>\n",
       "            </tr>\n",
       "            <tr>\n",
       "                        <th id=\"T_a1643574_b078_11eb_b349_f8b156bc4af9level0_row3\" class=\"row_heading level0 row3\" >Belarus</th>\n",
       "                        <td id=\"T_a1643574_b078_11eb_b349_f8b156bc4af9row3_col0\" class=\"data row3 col0\" >0</td>\n",
       "                        <td id=\"T_a1643574_b078_11eb_b349_f8b156bc4af9row3_col1\" class=\"data row3 col1\" >0</td>\n",
       "                        <td id=\"T_a1643574_b078_11eb_b349_f8b156bc4af9row3_col2\" class=\"data row3 col2\" >54</td>\n",
       "                        <td id=\"T_a1643574_b078_11eb_b349_f8b156bc4af9row3_col3\" class=\"data row3 col3\" >263</td>\n",
       "                        <td id=\"T_a1643574_b078_11eb_b349_f8b156bc4af9row3_col4\" class=\"data row3 col4\" >233</td>\n",
       "                        <td id=\"T_a1643574_b078_11eb_b349_f8b156bc4af9row3_col5\" class=\"data row3 col5\" >11</td>\n",
       "                        <td id=\"T_a1643574_b078_11eb_b349_f8b156bc4af9row3_col6\" class=\"data row3 col6\" >11</td>\n",
       "                        <td id=\"T_a1643574_b078_11eb_b349_f8b156bc4af9row3_col7\" class=\"data row3 col7\" >0</td>\n",
       "                        <td id=\"T_a1643574_b078_11eb_b349_f8b156bc4af9row3_col8\" class=\"data row3 col8\" >14</td>\n",
       "                        <td id=\"T_a1643574_b078_11eb_b349_f8b156bc4af9row3_col9\" class=\"data row3 col9\" >88</td>\n",
       "                        <td id=\"T_a1643574_b078_11eb_b349_f8b156bc4af9row3_col10\" class=\"data row3 col10\" >161</td>\n",
       "                        <td id=\"T_a1643574_b078_11eb_b349_f8b156bc4af9row3_col11\" class=\"data row3 col11\" >301</td>\n",
       "                        <td id=\"T_a1643574_b078_11eb_b349_f8b156bc4af9row3_col12\" class=\"data row3 col12\" >58</td>\n",
       "                        <td id=\"T_a1643574_b078_11eb_b349_f8b156bc4af9row3_col13\" class=\"data row3 col13\" >106</td>\n",
       "                        <td id=\"T_a1643574_b078_11eb_b349_f8b156bc4af9row3_col14\" class=\"data row3 col14\" >114</td>\n",
       "                        <td id=\"T_a1643574_b078_11eb_b349_f8b156bc4af9row3_col15\" class=\"data row3 col15\" >30</td>\n",
       "                        <td id=\"T_a1643574_b078_11eb_b349_f8b156bc4af9row3_col16\" class=\"data row3 col16\" >19</td>\n",
       "                        <td id=\"T_a1643574_b078_11eb_b349_f8b156bc4af9row3_col17\" class=\"data row3 col17\" >0</td>\n",
       "            </tr>\n",
       "            <tr>\n",
       "                        <th id=\"T_a1643574_b078_11eb_b349_f8b156bc4af9level0_row4\" class=\"row_heading level0 row4\" >Bolivia, Plurinational State of</th>\n",
       "                        <td id=\"T_a1643574_b078_11eb_b349_f8b156bc4af9row4_col0\" class=\"data row4 col0\" >0</td>\n",
       "                        <td id=\"T_a1643574_b078_11eb_b349_f8b156bc4af9row4_col1\" class=\"data row4 col1\" >0</td>\n",
       "                        <td id=\"T_a1643574_b078_11eb_b349_f8b156bc4af9row4_col2\" class=\"data row4 col2\" >0</td>\n",
       "                        <td id=\"T_a1643574_b078_11eb_b349_f8b156bc4af9row4_col3\" class=\"data row4 col3\" >0</td>\n",
       "                        <td id=\"T_a1643574_b078_11eb_b349_f8b156bc4af9row4_col4\" class=\"data row4 col4\" >0</td>\n",
       "                        <td id=\"T_a1643574_b078_11eb_b349_f8b156bc4af9row4_col5\" class=\"data row4 col5\" >0</td>\n",
       "                        <td id=\"T_a1643574_b078_11eb_b349_f8b156bc4af9row4_col6\" class=\"data row4 col6\" >0</td>\n",
       "                        <td id=\"T_a1643574_b078_11eb_b349_f8b156bc4af9row4_col7\" class=\"data row4 col7\" >0</td>\n",
       "                        <td id=\"T_a1643574_b078_11eb_b349_f8b156bc4af9row4_col8\" class=\"data row4 col8\" >0</td>\n",
       "                        <td id=\"T_a1643574_b078_11eb_b349_f8b156bc4af9row4_col9\" class=\"data row4 col9\" >0</td>\n",
       "                        <td id=\"T_a1643574_b078_11eb_b349_f8b156bc4af9row4_col10\" class=\"data row4 col10\" >18</td>\n",
       "                        <td id=\"T_a1643574_b078_11eb_b349_f8b156bc4af9row4_col11\" class=\"data row4 col11\" >0</td>\n",
       "                        <td id=\"T_a1643574_b078_11eb_b349_f8b156bc4af9row4_col12\" class=\"data row4 col12\" >0</td>\n",
       "                        <td id=\"T_a1643574_b078_11eb_b349_f8b156bc4af9row4_col13\" class=\"data row4 col13\" >0</td>\n",
       "                        <td id=\"T_a1643574_b078_11eb_b349_f8b156bc4af9row4_col14\" class=\"data row4 col14\" >0</td>\n",
       "                        <td id=\"T_a1643574_b078_11eb_b349_f8b156bc4af9row4_col15\" class=\"data row4 col15\" >0</td>\n",
       "                        <td id=\"T_a1643574_b078_11eb_b349_f8b156bc4af9row4_col16\" class=\"data row4 col16\" >0</td>\n",
       "                        <td id=\"T_a1643574_b078_11eb_b349_f8b156bc4af9row4_col17\" class=\"data row4 col17\" >0</td>\n",
       "            </tr>\n",
       "            <tr>\n",
       "                        <th id=\"T_a1643574_b078_11eb_b349_f8b156bc4af9level0_row5\" class=\"row_heading level0 row5\" >Bulgaria</th>\n",
       "                        <td id=\"T_a1643574_b078_11eb_b349_f8b156bc4af9row5_col0\" class=\"data row5 col0\" >0</td>\n",
       "                        <td id=\"T_a1643574_b078_11eb_b349_f8b156bc4af9row5_col1\" class=\"data row5 col1\" >0</td>\n",
       "                        <td id=\"T_a1643574_b078_11eb_b349_f8b156bc4af9row5_col2\" class=\"data row5 col2\" >0</td>\n",
       "                        <td id=\"T_a1643574_b078_11eb_b349_f8b156bc4af9row5_col3\" class=\"data row5 col3\" >116</td>\n",
       "                        <td id=\"T_a1643574_b078_11eb_b349_f8b156bc4af9row5_col4\" class=\"data row5 col4\" >0</td>\n",
       "                        <td id=\"T_a1643574_b078_11eb_b349_f8b156bc4af9row5_col5\" class=\"data row5 col5\" >226</td>\n",
       "                        <td id=\"T_a1643574_b078_11eb_b349_f8b156bc4af9row5_col6\" class=\"data row5 col6\" >0</td>\n",
       "                        <td id=\"T_a1643574_b078_11eb_b349_f8b156bc4af9row5_col7\" class=\"data row5 col7\" >0</td>\n",
       "                        <td id=\"T_a1643574_b078_11eb_b349_f8b156bc4af9row5_col8\" class=\"data row5 col8\" >0</td>\n",
       "                        <td id=\"T_a1643574_b078_11eb_b349_f8b156bc4af9row5_col9\" class=\"data row5 col9\" >0</td>\n",
       "                        <td id=\"T_a1643574_b078_11eb_b349_f8b156bc4af9row5_col10\" class=\"data row5 col10\" >0</td>\n",
       "                        <td id=\"T_a1643574_b078_11eb_b349_f8b156bc4af9row5_col11\" class=\"data row5 col11\" >0</td>\n",
       "                        <td id=\"T_a1643574_b078_11eb_b349_f8b156bc4af9row5_col12\" class=\"data row5 col12\" >0</td>\n",
       "                        <td id=\"T_a1643574_b078_11eb_b349_f8b156bc4af9row5_col13\" class=\"data row5 col13\" >0</td>\n",
       "                        <td id=\"T_a1643574_b078_11eb_b349_f8b156bc4af9row5_col14\" class=\"data row5 col14\" >0</td>\n",
       "                        <td id=\"T_a1643574_b078_11eb_b349_f8b156bc4af9row5_col15\" class=\"data row5 col15\" >0</td>\n",
       "                        <td id=\"T_a1643574_b078_11eb_b349_f8b156bc4af9row5_col16\" class=\"data row5 col16\" >0</td>\n",
       "                        <td id=\"T_a1643574_b078_11eb_b349_f8b156bc4af9row5_col17\" class=\"data row5 col17\" >0</td>\n",
       "            </tr>\n",
       "            <tr>\n",
       "                        <th id=\"T_a1643574_b078_11eb_b349_f8b156bc4af9level0_row6\" class=\"row_heading level0 row6\" >Burkina Faso</th>\n",
       "                        <td id=\"T_a1643574_b078_11eb_b349_f8b156bc4af9row6_col0\" class=\"data row6 col0\" >0</td>\n",
       "                        <td id=\"T_a1643574_b078_11eb_b349_f8b156bc4af9row6_col1\" class=\"data row6 col1\" >0</td>\n",
       "                        <td id=\"T_a1643574_b078_11eb_b349_f8b156bc4af9row6_col2\" class=\"data row6 col2\" >0</td>\n",
       "                        <td id=\"T_a1643574_b078_11eb_b349_f8b156bc4af9row6_col3\" class=\"data row6 col3\" >0</td>\n",
       "                        <td id=\"T_a1643574_b078_11eb_b349_f8b156bc4af9row6_col4\" class=\"data row6 col4\" >0</td>\n",
       "                        <td id=\"T_a1643574_b078_11eb_b349_f8b156bc4af9row6_col5\" class=\"data row6 col5\" >0</td>\n",
       "                        <td id=\"T_a1643574_b078_11eb_b349_f8b156bc4af9row6_col6\" class=\"data row6 col6\" >0</td>\n",
       "                        <td id=\"T_a1643574_b078_11eb_b349_f8b156bc4af9row6_col7\" class=\"data row6 col7\" >0</td>\n",
       "                        <td id=\"T_a1643574_b078_11eb_b349_f8b156bc4af9row6_col8\" class=\"data row6 col8\" >33</td>\n",
       "                        <td id=\"T_a1643574_b078_11eb_b349_f8b156bc4af9row6_col9\" class=\"data row6 col9\" >0</td>\n",
       "                        <td id=\"T_a1643574_b078_11eb_b349_f8b156bc4af9row6_col10\" class=\"data row6 col10\" >0</td>\n",
       "                        <td id=\"T_a1643574_b078_11eb_b349_f8b156bc4af9row6_col11\" class=\"data row6 col11\" >0</td>\n",
       "                        <td id=\"T_a1643574_b078_11eb_b349_f8b156bc4af9row6_col12\" class=\"data row6 col12\" >0</td>\n",
       "                        <td id=\"T_a1643574_b078_11eb_b349_f8b156bc4af9row6_col13\" class=\"data row6 col13\" >0</td>\n",
       "                        <td id=\"T_a1643574_b078_11eb_b349_f8b156bc4af9row6_col14\" class=\"data row6 col14\" >0</td>\n",
       "                        <td id=\"T_a1643574_b078_11eb_b349_f8b156bc4af9row6_col15\" class=\"data row6 col15\" >0</td>\n",
       "                        <td id=\"T_a1643574_b078_11eb_b349_f8b156bc4af9row6_col16\" class=\"data row6 col16\" >0</td>\n",
       "                        <td id=\"T_a1643574_b078_11eb_b349_f8b156bc4af9row6_col17\" class=\"data row6 col17\" >0</td>\n",
       "            </tr>\n",
       "            <tr>\n",
       "                        <th id=\"T_a1643574_b078_11eb_b349_f8b156bc4af9level0_row7\" class=\"row_heading level0 row7\" >Cambodia</th>\n",
       "                        <td id=\"T_a1643574_b078_11eb_b349_f8b156bc4af9row7_col0\" class=\"data row7 col0\" >0</td>\n",
       "                        <td id=\"T_a1643574_b078_11eb_b349_f8b156bc4af9row7_col1\" class=\"data row7 col1\" >0</td>\n",
       "                        <td id=\"T_a1643574_b078_11eb_b349_f8b156bc4af9row7_col2\" class=\"data row7 col2\" >0</td>\n",
       "                        <td id=\"T_a1643574_b078_11eb_b349_f8b156bc4af9row7_col3\" class=\"data row7 col3\" >0</td>\n",
       "                        <td id=\"T_a1643574_b078_11eb_b349_f8b156bc4af9row7_col4\" class=\"data row7 col4\" >0</td>\n",
       "                        <td id=\"T_a1643574_b078_11eb_b349_f8b156bc4af9row7_col5\" class=\"data row7 col5\" >0</td>\n",
       "                        <td id=\"T_a1643574_b078_11eb_b349_f8b156bc4af9row7_col6\" class=\"data row7 col6\" >0</td>\n",
       "                        <td id=\"T_a1643574_b078_11eb_b349_f8b156bc4af9row7_col7\" class=\"data row7 col7\" >0</td>\n",
       "                        <td id=\"T_a1643574_b078_11eb_b349_f8b156bc4af9row7_col8\" class=\"data row7 col8\" >52</td>\n",
       "                        <td id=\"T_a1643574_b078_11eb_b349_f8b156bc4af9row7_col9\" class=\"data row7 col9\" >0</td>\n",
       "                        <td id=\"T_a1643574_b078_11eb_b349_f8b156bc4af9row7_col10\" class=\"data row7 col10\" >0</td>\n",
       "                        <td id=\"T_a1643574_b078_11eb_b349_f8b156bc4af9row7_col11\" class=\"data row7 col11\" >0</td>\n",
       "                        <td id=\"T_a1643574_b078_11eb_b349_f8b156bc4af9row7_col12\" class=\"data row7 col12\" >0</td>\n",
       "                        <td id=\"T_a1643574_b078_11eb_b349_f8b156bc4af9row7_col13\" class=\"data row7 col13\" >116</td>\n",
       "                        <td id=\"T_a1643574_b078_11eb_b349_f8b156bc4af9row7_col14\" class=\"data row7 col14\" >267</td>\n",
       "                        <td id=\"T_a1643574_b078_11eb_b349_f8b156bc4af9row7_col15\" class=\"data row7 col15\" >647</td>\n",
       "                        <td id=\"T_a1643574_b078_11eb_b349_f8b156bc4af9row7_col16\" class=\"data row7 col16\" >897</td>\n",
       "                        <td id=\"T_a1643574_b078_11eb_b349_f8b156bc4af9row7_col17\" class=\"data row7 col17\" >0</td>\n",
       "            </tr>\n",
       "            <tr>\n",
       "                        <th id=\"T_a1643574_b078_11eb_b349_f8b156bc4af9level0_row8\" class=\"row_heading level0 row8\" >China</th>\n",
       "                        <td id=\"T_a1643574_b078_11eb_b349_f8b156bc4af9row8_col0\" class=\"data row8 col0\" >0</td>\n",
       "                        <td id=\"T_a1643574_b078_11eb_b349_f8b156bc4af9row8_col1\" class=\"data row8 col1\" >0</td>\n",
       "                        <td id=\"T_a1643574_b078_11eb_b349_f8b156bc4af9row8_col2\" class=\"data row8 col2\" >0</td>\n",
       "                        <td id=\"T_a1643574_b078_11eb_b349_f8b156bc4af9row8_col3\" class=\"data row8 col3\" >0</td>\n",
       "                        <td id=\"T_a1643574_b078_11eb_b349_f8b156bc4af9row8_col4\" class=\"data row8 col4\" >0</td>\n",
       "                        <td id=\"T_a1643574_b078_11eb_b349_f8b156bc4af9row8_col5\" class=\"data row8 col5\" >0</td>\n",
       "                        <td id=\"T_a1643574_b078_11eb_b349_f8b156bc4af9row8_col6\" class=\"data row8 col6\" >0</td>\n",
       "                        <td id=\"T_a1643574_b078_11eb_b349_f8b156bc4af9row8_col7\" class=\"data row8 col7\" >0</td>\n",
       "                        <td id=\"T_a1643574_b078_11eb_b349_f8b156bc4af9row8_col8\" class=\"data row8 col8\" >0</td>\n",
       "                        <td id=\"T_a1643574_b078_11eb_b349_f8b156bc4af9row8_col9\" class=\"data row8 col9\" >0</td>\n",
       "                        <td id=\"T_a1643574_b078_11eb_b349_f8b156bc4af9row8_col10\" class=\"data row8 col10\" >0</td>\n",
       "                        <td id=\"T_a1643574_b078_11eb_b349_f8b156bc4af9row8_col11\" class=\"data row8 col11\" >0</td>\n",
       "                        <td id=\"T_a1643574_b078_11eb_b349_f8b156bc4af9row8_col12\" class=\"data row8 col12\" >0</td>\n",
       "                        <td id=\"T_a1643574_b078_11eb_b349_f8b156bc4af9row8_col13\" class=\"data row8 col13\" >0</td>\n",
       "                        <td id=\"T_a1643574_b078_11eb_b349_f8b156bc4af9row8_col14\" class=\"data row8 col14\" >0</td>\n",
       "                        <td id=\"T_a1643574_b078_11eb_b349_f8b156bc4af9row8_col15\" class=\"data row8 col15\" >11</td>\n",
       "                        <td id=\"T_a1643574_b078_11eb_b349_f8b156bc4af9row8_col16\" class=\"data row8 col16\" >12</td>\n",
       "                        <td id=\"T_a1643574_b078_11eb_b349_f8b156bc4af9row8_col17\" class=\"data row8 col17\" >0</td>\n",
       "            </tr>\n",
       "            <tr>\n",
       "                        <th id=\"T_a1643574_b078_11eb_b349_f8b156bc4af9level0_row9\" class=\"row_heading level0 row9\" >Colombia</th>\n",
       "                        <td id=\"T_a1643574_b078_11eb_b349_f8b156bc4af9row9_col0\" class=\"data row9 col0\" >74</td>\n",
       "                        <td id=\"T_a1643574_b078_11eb_b349_f8b156bc4af9row9_col1\" class=\"data row9 col1\" >37</td>\n",
       "                        <td id=\"T_a1643574_b078_11eb_b349_f8b156bc4af9row9_col2\" class=\"data row9 col2\" >0</td>\n",
       "                        <td id=\"T_a1643574_b078_11eb_b349_f8b156bc4af9row9_col3\" class=\"data row9 col3\" >0</td>\n",
       "                        <td id=\"T_a1643574_b078_11eb_b349_f8b156bc4af9row9_col4\" class=\"data row9 col4\" >0</td>\n",
       "                        <td id=\"T_a1643574_b078_11eb_b349_f8b156bc4af9row9_col5\" class=\"data row9 col5\" >0</td>\n",
       "                        <td id=\"T_a1643574_b078_11eb_b349_f8b156bc4af9row9_col6\" class=\"data row9 col6\" >0</td>\n",
       "                        <td id=\"T_a1643574_b078_11eb_b349_f8b156bc4af9row9_col7\" class=\"data row9 col7\" >0</td>\n",
       "                        <td id=\"T_a1643574_b078_11eb_b349_f8b156bc4af9row9_col8\" class=\"data row9 col8\" >13</td>\n",
       "                        <td id=\"T_a1643574_b078_11eb_b349_f8b156bc4af9row9_col9\" class=\"data row9 col9\" >0</td>\n",
       "                        <td id=\"T_a1643574_b078_11eb_b349_f8b156bc4af9row9_col10\" class=\"data row9 col10\" >0</td>\n",
       "                        <td id=\"T_a1643574_b078_11eb_b349_f8b156bc4af9row9_col11\" class=\"data row9 col11\" >0</td>\n",
       "                        <td id=\"T_a1643574_b078_11eb_b349_f8b156bc4af9row9_col12\" class=\"data row9 col12\" >0</td>\n",
       "                        <td id=\"T_a1643574_b078_11eb_b349_f8b156bc4af9row9_col13\" class=\"data row9 col13\" >0</td>\n",
       "                        <td id=\"T_a1643574_b078_11eb_b349_f8b156bc4af9row9_col14\" class=\"data row9 col14\" >0</td>\n",
       "                        <td id=\"T_a1643574_b078_11eb_b349_f8b156bc4af9row9_col15\" class=\"data row9 col15\" >0</td>\n",
       "                        <td id=\"T_a1643574_b078_11eb_b349_f8b156bc4af9row9_col16\" class=\"data row9 col16\" >0</td>\n",
       "                        <td id=\"T_a1643574_b078_11eb_b349_f8b156bc4af9row9_col17\" class=\"data row9 col17\" >0</td>\n",
       "            </tr>\n",
       "            <tr>\n",
       "                        <th id=\"T_a1643574_b078_11eb_b349_f8b156bc4af9level0_row10\" class=\"row_heading level0 row10\" >Congo, The Democratic Republic of the</th>\n",
       "                        <td id=\"T_a1643574_b078_11eb_b349_f8b156bc4af9row10_col0\" class=\"data row10 col0\" >0</td>\n",
       "                        <td id=\"T_a1643574_b078_11eb_b349_f8b156bc4af9row10_col1\" class=\"data row10 col1\" >0</td>\n",
       "                        <td id=\"T_a1643574_b078_11eb_b349_f8b156bc4af9row10_col2\" class=\"data row10 col2\" >0</td>\n",
       "                        <td id=\"T_a1643574_b078_11eb_b349_f8b156bc4af9row10_col3\" class=\"data row10 col3\" >0</td>\n",
       "                        <td id=\"T_a1643574_b078_11eb_b349_f8b156bc4af9row10_col4\" class=\"data row10 col4\" >0</td>\n",
       "                        <td id=\"T_a1643574_b078_11eb_b349_f8b156bc4af9row10_col5\" class=\"data row10 col5\" >53</td>\n",
       "                        <td id=\"T_a1643574_b078_11eb_b349_f8b156bc4af9row10_col6\" class=\"data row10 col6\" >0</td>\n",
       "                        <td id=\"T_a1643574_b078_11eb_b349_f8b156bc4af9row10_col7\" class=\"data row10 col7\" >0</td>\n",
       "                        <td id=\"T_a1643574_b078_11eb_b349_f8b156bc4af9row10_col8\" class=\"data row10 col8\" >0</td>\n",
       "                        <td id=\"T_a1643574_b078_11eb_b349_f8b156bc4af9row10_col9\" class=\"data row10 col9\" >0</td>\n",
       "                        <td id=\"T_a1643574_b078_11eb_b349_f8b156bc4af9row10_col10\" class=\"data row10 col10\" >0</td>\n",
       "                        <td id=\"T_a1643574_b078_11eb_b349_f8b156bc4af9row10_col11\" class=\"data row10 col11\" >0</td>\n",
       "                        <td id=\"T_a1643574_b078_11eb_b349_f8b156bc4af9row10_col12\" class=\"data row10 col12\" >0</td>\n",
       "                        <td id=\"T_a1643574_b078_11eb_b349_f8b156bc4af9row10_col13\" class=\"data row10 col13\" >0</td>\n",
       "                        <td id=\"T_a1643574_b078_11eb_b349_f8b156bc4af9row10_col14\" class=\"data row10 col14\" >0</td>\n",
       "                        <td id=\"T_a1643574_b078_11eb_b349_f8b156bc4af9row10_col15\" class=\"data row10 col15\" >0</td>\n",
       "                        <td id=\"T_a1643574_b078_11eb_b349_f8b156bc4af9row10_col16\" class=\"data row10 col16\" >0</td>\n",
       "                        <td id=\"T_a1643574_b078_11eb_b349_f8b156bc4af9row10_col17\" class=\"data row10 col17\" >0</td>\n",
       "            </tr>\n",
       "            <tr>\n",
       "                        <th id=\"T_a1643574_b078_11eb_b349_f8b156bc4af9level0_row11\" class=\"row_heading level0 row11\" >Côte d'Ivoire</th>\n",
       "                        <td id=\"T_a1643574_b078_11eb_b349_f8b156bc4af9row11_col0\" class=\"data row11 col0\" >0</td>\n",
       "                        <td id=\"T_a1643574_b078_11eb_b349_f8b156bc4af9row11_col1\" class=\"data row11 col1\" >0</td>\n",
       "                        <td id=\"T_a1643574_b078_11eb_b349_f8b156bc4af9row11_col2\" class=\"data row11 col2\" >0</td>\n",
       "                        <td id=\"T_a1643574_b078_11eb_b349_f8b156bc4af9row11_col3\" class=\"data row11 col3\" >0</td>\n",
       "                        <td id=\"T_a1643574_b078_11eb_b349_f8b156bc4af9row11_col4\" class=\"data row11 col4\" >0</td>\n",
       "                        <td id=\"T_a1643574_b078_11eb_b349_f8b156bc4af9row11_col5\" class=\"data row11 col5\" >31</td>\n",
       "                        <td id=\"T_a1643574_b078_11eb_b349_f8b156bc4af9row11_col6\" class=\"data row11 col6\" >0</td>\n",
       "                        <td id=\"T_a1643574_b078_11eb_b349_f8b156bc4af9row11_col7\" class=\"data row11 col7\" >0</td>\n",
       "                        <td id=\"T_a1643574_b078_11eb_b349_f8b156bc4af9row11_col8\" class=\"data row11 col8\" >0</td>\n",
       "                        <td id=\"T_a1643574_b078_11eb_b349_f8b156bc4af9row11_col9\" class=\"data row11 col9\" >0</td>\n",
       "                        <td id=\"T_a1643574_b078_11eb_b349_f8b156bc4af9row11_col10\" class=\"data row11 col10\" >0</td>\n",
       "                        <td id=\"T_a1643574_b078_11eb_b349_f8b156bc4af9row11_col11\" class=\"data row11 col11\" >0</td>\n",
       "                        <td id=\"T_a1643574_b078_11eb_b349_f8b156bc4af9row11_col12\" class=\"data row11 col12\" >0</td>\n",
       "                        <td id=\"T_a1643574_b078_11eb_b349_f8b156bc4af9row11_col13\" class=\"data row11 col13\" >0</td>\n",
       "                        <td id=\"T_a1643574_b078_11eb_b349_f8b156bc4af9row11_col14\" class=\"data row11 col14\" >0</td>\n",
       "                        <td id=\"T_a1643574_b078_11eb_b349_f8b156bc4af9row11_col15\" class=\"data row11 col15\" >0</td>\n",
       "                        <td id=\"T_a1643574_b078_11eb_b349_f8b156bc4af9row11_col16\" class=\"data row11 col16\" >0</td>\n",
       "                        <td id=\"T_a1643574_b078_11eb_b349_f8b156bc4af9row11_col17\" class=\"data row11 col17\" >0</td>\n",
       "            </tr>\n",
       "            <tr>\n",
       "                        <th id=\"T_a1643574_b078_11eb_b349_f8b156bc4af9level0_row12\" class=\"row_heading level0 row12\" >Eritrea</th>\n",
       "                        <td id=\"T_a1643574_b078_11eb_b349_f8b156bc4af9row12_col0\" class=\"data row12 col0\" >0</td>\n",
       "                        <td id=\"T_a1643574_b078_11eb_b349_f8b156bc4af9row12_col1\" class=\"data row12 col1\" >0</td>\n",
       "                        <td id=\"T_a1643574_b078_11eb_b349_f8b156bc4af9row12_col2\" class=\"data row12 col2\" >0</td>\n",
       "                        <td id=\"T_a1643574_b078_11eb_b349_f8b156bc4af9row12_col3\" class=\"data row12 col3\" >0</td>\n",
       "                        <td id=\"T_a1643574_b078_11eb_b349_f8b156bc4af9row12_col4\" class=\"data row12 col4\" >0</td>\n",
       "                        <td id=\"T_a1643574_b078_11eb_b349_f8b156bc4af9row12_col5\" class=\"data row12 col5\" >0</td>\n",
       "                        <td id=\"T_a1643574_b078_11eb_b349_f8b156bc4af9row12_col6\" class=\"data row12 col6\" >0</td>\n",
       "                        <td id=\"T_a1643574_b078_11eb_b349_f8b156bc4af9row12_col7\" class=\"data row12 col7\" >0</td>\n",
       "                        <td id=\"T_a1643574_b078_11eb_b349_f8b156bc4af9row12_col8\" class=\"data row12 col8\" >0</td>\n",
       "                        <td id=\"T_a1643574_b078_11eb_b349_f8b156bc4af9row12_col9\" class=\"data row12 col9\" >0</td>\n",
       "                        <td id=\"T_a1643574_b078_11eb_b349_f8b156bc4af9row12_col10\" class=\"data row12 col10\" >0</td>\n",
       "                        <td id=\"T_a1643574_b078_11eb_b349_f8b156bc4af9row12_col11\" class=\"data row12 col11\" >0</td>\n",
       "                        <td id=\"T_a1643574_b078_11eb_b349_f8b156bc4af9row12_col12\" class=\"data row12 col12\" >13</td>\n",
       "                        <td id=\"T_a1643574_b078_11eb_b349_f8b156bc4af9row12_col13\" class=\"data row12 col13\" >0</td>\n",
       "                        <td id=\"T_a1643574_b078_11eb_b349_f8b156bc4af9row12_col14\" class=\"data row12 col14\" >0</td>\n",
       "                        <td id=\"T_a1643574_b078_11eb_b349_f8b156bc4af9row12_col15\" class=\"data row12 col15\" >0</td>\n",
       "                        <td id=\"T_a1643574_b078_11eb_b349_f8b156bc4af9row12_col16\" class=\"data row12 col16\" >0</td>\n",
       "                        <td id=\"T_a1643574_b078_11eb_b349_f8b156bc4af9row12_col17\" class=\"data row12 col17\" >0</td>\n",
       "            </tr>\n",
       "            <tr>\n",
       "                        <th id=\"T_a1643574_b078_11eb_b349_f8b156bc4af9level0_row13\" class=\"row_heading level0 row13\" >Ghana</th>\n",
       "                        <td id=\"T_a1643574_b078_11eb_b349_f8b156bc4af9row13_col0\" class=\"data row13 col0\" >0</td>\n",
       "                        <td id=\"T_a1643574_b078_11eb_b349_f8b156bc4af9row13_col1\" class=\"data row13 col1\" >0</td>\n",
       "                        <td id=\"T_a1643574_b078_11eb_b349_f8b156bc4af9row13_col2\" class=\"data row13 col2\" >0</td>\n",
       "                        <td id=\"T_a1643574_b078_11eb_b349_f8b156bc4af9row13_col3\" class=\"data row13 col3\" >514</td>\n",
       "                        <td id=\"T_a1643574_b078_11eb_b349_f8b156bc4af9row13_col4\" class=\"data row13 col4\" >30</td>\n",
       "                        <td id=\"T_a1643574_b078_11eb_b349_f8b156bc4af9row13_col5\" class=\"data row13 col5\" >0</td>\n",
       "                        <td id=\"T_a1643574_b078_11eb_b349_f8b156bc4af9row13_col6\" class=\"data row13 col6\" >0</td>\n",
       "                        <td id=\"T_a1643574_b078_11eb_b349_f8b156bc4af9row13_col7\" class=\"data row13 col7\" >0</td>\n",
       "                        <td id=\"T_a1643574_b078_11eb_b349_f8b156bc4af9row13_col8\" class=\"data row13 col8\" >0</td>\n",
       "                        <td id=\"T_a1643574_b078_11eb_b349_f8b156bc4af9row13_col9\" class=\"data row13 col9\" >0</td>\n",
       "                        <td id=\"T_a1643574_b078_11eb_b349_f8b156bc4af9row13_col10\" class=\"data row13 col10\" >0</td>\n",
       "                        <td id=\"T_a1643574_b078_11eb_b349_f8b156bc4af9row13_col11\" class=\"data row13 col11\" >0</td>\n",
       "                        <td id=\"T_a1643574_b078_11eb_b349_f8b156bc4af9row13_col12\" class=\"data row13 col12\" >0</td>\n",
       "                        <td id=\"T_a1643574_b078_11eb_b349_f8b156bc4af9row13_col13\" class=\"data row13 col13\" >0</td>\n",
       "                        <td id=\"T_a1643574_b078_11eb_b349_f8b156bc4af9row13_col14\" class=\"data row13 col14\" >0</td>\n",
       "                        <td id=\"T_a1643574_b078_11eb_b349_f8b156bc4af9row13_col15\" class=\"data row13 col15\" >0</td>\n",
       "                        <td id=\"T_a1643574_b078_11eb_b349_f8b156bc4af9row13_col16\" class=\"data row13 col16\" >0</td>\n",
       "                        <td id=\"T_a1643574_b078_11eb_b349_f8b156bc4af9row13_col17\" class=\"data row13 col17\" >0</td>\n",
       "            </tr>\n",
       "            <tr>\n",
       "                        <th id=\"T_a1643574_b078_11eb_b349_f8b156bc4af9level0_row14\" class=\"row_heading level0 row14\" >Guinea</th>\n",
       "                        <td id=\"T_a1643574_b078_11eb_b349_f8b156bc4af9row14_col0\" class=\"data row14 col0\" >0</td>\n",
       "                        <td id=\"T_a1643574_b078_11eb_b349_f8b156bc4af9row14_col1\" class=\"data row14 col1\" >0</td>\n",
       "                        <td id=\"T_a1643574_b078_11eb_b349_f8b156bc4af9row14_col2\" class=\"data row14 col2\" >0</td>\n",
       "                        <td id=\"T_a1643574_b078_11eb_b349_f8b156bc4af9row14_col3\" class=\"data row14 col3\" >0</td>\n",
       "                        <td id=\"T_a1643574_b078_11eb_b349_f8b156bc4af9row14_col4\" class=\"data row14 col4\" >0</td>\n",
       "                        <td id=\"T_a1643574_b078_11eb_b349_f8b156bc4af9row14_col5\" class=\"data row14 col5\" >0</td>\n",
       "                        <td id=\"T_a1643574_b078_11eb_b349_f8b156bc4af9row14_col6\" class=\"data row14 col6\" >15</td>\n",
       "                        <td id=\"T_a1643574_b078_11eb_b349_f8b156bc4af9row14_col7\" class=\"data row14 col7\" >0</td>\n",
       "                        <td id=\"T_a1643574_b078_11eb_b349_f8b156bc4af9row14_col8\" class=\"data row14 col8\" >0</td>\n",
       "                        <td id=\"T_a1643574_b078_11eb_b349_f8b156bc4af9row14_col9\" class=\"data row14 col9\" >0</td>\n",
       "                        <td id=\"T_a1643574_b078_11eb_b349_f8b156bc4af9row14_col10\" class=\"data row14 col10\" >0</td>\n",
       "                        <td id=\"T_a1643574_b078_11eb_b349_f8b156bc4af9row14_col11\" class=\"data row14 col11\" >0</td>\n",
       "                        <td id=\"T_a1643574_b078_11eb_b349_f8b156bc4af9row14_col12\" class=\"data row14 col12\" >0</td>\n",
       "                        <td id=\"T_a1643574_b078_11eb_b349_f8b156bc4af9row14_col13\" class=\"data row14 col13\" >0</td>\n",
       "                        <td id=\"T_a1643574_b078_11eb_b349_f8b156bc4af9row14_col14\" class=\"data row14 col14\" >0</td>\n",
       "                        <td id=\"T_a1643574_b078_11eb_b349_f8b156bc4af9row14_col15\" class=\"data row14 col15\" >0</td>\n",
       "                        <td id=\"T_a1643574_b078_11eb_b349_f8b156bc4af9row14_col16\" class=\"data row14 col16\" >0</td>\n",
       "                        <td id=\"T_a1643574_b078_11eb_b349_f8b156bc4af9row14_col17\" class=\"data row14 col17\" >0</td>\n",
       "            </tr>\n",
       "            <tr>\n",
       "                        <th id=\"T_a1643574_b078_11eb_b349_f8b156bc4af9level0_row15\" class=\"row_heading level0 row15\" >Guinea-Bissau</th>\n",
       "                        <td id=\"T_a1643574_b078_11eb_b349_f8b156bc4af9row15_col0\" class=\"data row15 col0\" >0</td>\n",
       "                        <td id=\"T_a1643574_b078_11eb_b349_f8b156bc4af9row15_col1\" class=\"data row15 col1\" >0</td>\n",
       "                        <td id=\"T_a1643574_b078_11eb_b349_f8b156bc4af9row15_col2\" class=\"data row15 col2\" >0</td>\n",
       "                        <td id=\"T_a1643574_b078_11eb_b349_f8b156bc4af9row15_col3\" class=\"data row15 col3\" >0</td>\n",
       "                        <td id=\"T_a1643574_b078_11eb_b349_f8b156bc4af9row15_col4\" class=\"data row15 col4\" >0</td>\n",
       "                        <td id=\"T_a1643574_b078_11eb_b349_f8b156bc4af9row15_col5\" class=\"data row15 col5\" >85</td>\n",
       "                        <td id=\"T_a1643574_b078_11eb_b349_f8b156bc4af9row15_col6\" class=\"data row15 col6\" >0</td>\n",
       "                        <td id=\"T_a1643574_b078_11eb_b349_f8b156bc4af9row15_col7\" class=\"data row15 col7\" >0</td>\n",
       "                        <td id=\"T_a1643574_b078_11eb_b349_f8b156bc4af9row15_col8\" class=\"data row15 col8\" >60</td>\n",
       "                        <td id=\"T_a1643574_b078_11eb_b349_f8b156bc4af9row15_col9\" class=\"data row15 col9\" >0</td>\n",
       "                        <td id=\"T_a1643574_b078_11eb_b349_f8b156bc4af9row15_col10\" class=\"data row15 col10\" >0</td>\n",
       "                        <td id=\"T_a1643574_b078_11eb_b349_f8b156bc4af9row15_col11\" class=\"data row15 col11\" >0</td>\n",
       "                        <td id=\"T_a1643574_b078_11eb_b349_f8b156bc4af9row15_col12\" class=\"data row15 col12\" >0</td>\n",
       "                        <td id=\"T_a1643574_b078_11eb_b349_f8b156bc4af9row15_col13\" class=\"data row15 col13\" >0</td>\n",
       "                        <td id=\"T_a1643574_b078_11eb_b349_f8b156bc4af9row15_col14\" class=\"data row15 col14\" >0</td>\n",
       "                        <td id=\"T_a1643574_b078_11eb_b349_f8b156bc4af9row15_col15\" class=\"data row15 col15\" >0</td>\n",
       "                        <td id=\"T_a1643574_b078_11eb_b349_f8b156bc4af9row15_col16\" class=\"data row15 col16\" >0</td>\n",
       "                        <td id=\"T_a1643574_b078_11eb_b349_f8b156bc4af9row15_col17\" class=\"data row15 col17\" >0</td>\n",
       "            </tr>\n",
       "            <tr>\n",
       "                        <th id=\"T_a1643574_b078_11eb_b349_f8b156bc4af9level0_row16\" class=\"row_heading level0 row16\" >Haiti</th>\n",
       "                        <td id=\"T_a1643574_b078_11eb_b349_f8b156bc4af9row16_col0\" class=\"data row16 col0\" >0</td>\n",
       "                        <td id=\"T_a1643574_b078_11eb_b349_f8b156bc4af9row16_col1\" class=\"data row16 col1\" >0</td>\n",
       "                        <td id=\"T_a1643574_b078_11eb_b349_f8b156bc4af9row16_col2\" class=\"data row16 col2\" >0</td>\n",
       "                        <td id=\"T_a1643574_b078_11eb_b349_f8b156bc4af9row16_col3\" class=\"data row16 col3\" >0</td>\n",
       "                        <td id=\"T_a1643574_b078_11eb_b349_f8b156bc4af9row16_col4\" class=\"data row16 col4\" >0</td>\n",
       "                        <td id=\"T_a1643574_b078_11eb_b349_f8b156bc4af9row16_col5\" class=\"data row16 col5\" >0</td>\n",
       "                        <td id=\"T_a1643574_b078_11eb_b349_f8b156bc4af9row16_col6\" class=\"data row16 col6\" >0</td>\n",
       "                        <td id=\"T_a1643574_b078_11eb_b349_f8b156bc4af9row16_col7\" class=\"data row16 col7\" >0</td>\n",
       "                        <td id=\"T_a1643574_b078_11eb_b349_f8b156bc4af9row16_col8\" class=\"data row16 col8\" >0</td>\n",
       "                        <td id=\"T_a1643574_b078_11eb_b349_f8b156bc4af9row16_col9\" class=\"data row16 col9\" >0</td>\n",
       "                        <td id=\"T_a1643574_b078_11eb_b349_f8b156bc4af9row16_col10\" class=\"data row16 col10\" >285</td>\n",
       "                        <td id=\"T_a1643574_b078_11eb_b349_f8b156bc4af9row16_col11\" class=\"data row16 col11\" >54</td>\n",
       "                        <td id=\"T_a1643574_b078_11eb_b349_f8b156bc4af9row16_col12\" class=\"data row16 col12\" >0</td>\n",
       "                        <td id=\"T_a1643574_b078_11eb_b349_f8b156bc4af9row16_col13\" class=\"data row16 col13\" >0</td>\n",
       "                        <td id=\"T_a1643574_b078_11eb_b349_f8b156bc4af9row16_col14\" class=\"data row16 col14\" >0</td>\n",
       "                        <td id=\"T_a1643574_b078_11eb_b349_f8b156bc4af9row16_col15\" class=\"data row16 col15\" >0</td>\n",
       "                        <td id=\"T_a1643574_b078_11eb_b349_f8b156bc4af9row16_col16\" class=\"data row16 col16\" >0</td>\n",
       "                        <td id=\"T_a1643574_b078_11eb_b349_f8b156bc4af9row16_col17\" class=\"data row16 col17\" >0</td>\n",
       "            </tr>\n",
       "            <tr>\n",
       "                        <th id=\"T_a1643574_b078_11eb_b349_f8b156bc4af9level0_row17\" class=\"row_heading level0 row17\" >Indonesia</th>\n",
       "                        <td id=\"T_a1643574_b078_11eb_b349_f8b156bc4af9row17_col0\" class=\"data row17 col0\" >0</td>\n",
       "                        <td id=\"T_a1643574_b078_11eb_b349_f8b156bc4af9row17_col1\" class=\"data row17 col1\" >0</td>\n",
       "                        <td id=\"T_a1643574_b078_11eb_b349_f8b156bc4af9row17_col2\" class=\"data row17 col2\" >0</td>\n",
       "                        <td id=\"T_a1643574_b078_11eb_b349_f8b156bc4af9row17_col3\" class=\"data row17 col3\" >11</td>\n",
       "                        <td id=\"T_a1643574_b078_11eb_b349_f8b156bc4af9row17_col4\" class=\"data row17 col4\" >391</td>\n",
       "                        <td id=\"T_a1643574_b078_11eb_b349_f8b156bc4af9row17_col5\" class=\"data row17 col5\" >106</td>\n",
       "                        <td id=\"T_a1643574_b078_11eb_b349_f8b156bc4af9row17_col6\" class=\"data row17 col6\" >0</td>\n",
       "                        <td id=\"T_a1643574_b078_11eb_b349_f8b156bc4af9row17_col7\" class=\"data row17 col7\" >0</td>\n",
       "                        <td id=\"T_a1643574_b078_11eb_b349_f8b156bc4af9row17_col8\" class=\"data row17 col8\" >0</td>\n",
       "                        <td id=\"T_a1643574_b078_11eb_b349_f8b156bc4af9row17_col9\" class=\"data row17 col9\" >0</td>\n",
       "                        <td id=\"T_a1643574_b078_11eb_b349_f8b156bc4af9row17_col10\" class=\"data row17 col10\" >0</td>\n",
       "                        <td id=\"T_a1643574_b078_11eb_b349_f8b156bc4af9row17_col11\" class=\"data row17 col11\" >0</td>\n",
       "                        <td id=\"T_a1643574_b078_11eb_b349_f8b156bc4af9row17_col12\" class=\"data row17 col12\" >1287</td>\n",
       "                        <td id=\"T_a1643574_b078_11eb_b349_f8b156bc4af9row17_col13\" class=\"data row17 col13\" >111</td>\n",
       "                        <td id=\"T_a1643574_b078_11eb_b349_f8b156bc4af9row17_col14\" class=\"data row17 col14\" >29</td>\n",
       "                        <td id=\"T_a1643574_b078_11eb_b349_f8b156bc4af9row17_col15\" class=\"data row17 col15\" >36</td>\n",
       "                        <td id=\"T_a1643574_b078_11eb_b349_f8b156bc4af9row17_col16\" class=\"data row17 col16\" >0</td>\n",
       "                        <td id=\"T_a1643574_b078_11eb_b349_f8b156bc4af9row17_col17\" class=\"data row17 col17\" >0</td>\n",
       "            </tr>\n",
       "            <tr>\n",
       "                        <th id=\"T_a1643574_b078_11eb_b349_f8b156bc4af9level0_row18\" class=\"row_heading level0 row18\" >Kazakhstan</th>\n",
       "                        <td id=\"T_a1643574_b078_11eb_b349_f8b156bc4af9row18_col0\" class=\"data row18 col0\" >0</td>\n",
       "                        <td id=\"T_a1643574_b078_11eb_b349_f8b156bc4af9row18_col1\" class=\"data row18 col1\" >0</td>\n",
       "                        <td id=\"T_a1643574_b078_11eb_b349_f8b156bc4af9row18_col2\" class=\"data row18 col2\" >0</td>\n",
       "                        <td id=\"T_a1643574_b078_11eb_b349_f8b156bc4af9row18_col3\" class=\"data row18 col3\" >0</td>\n",
       "                        <td id=\"T_a1643574_b078_11eb_b349_f8b156bc4af9row18_col4\" class=\"data row18 col4\" >0</td>\n",
       "                        <td id=\"T_a1643574_b078_11eb_b349_f8b156bc4af9row18_col5\" class=\"data row18 col5\" >0</td>\n",
       "                        <td id=\"T_a1643574_b078_11eb_b349_f8b156bc4af9row18_col6\" class=\"data row18 col6\" >0</td>\n",
       "                        <td id=\"T_a1643574_b078_11eb_b349_f8b156bc4af9row18_col7\" class=\"data row18 col7\" >0</td>\n",
       "                        <td id=\"T_a1643574_b078_11eb_b349_f8b156bc4af9row18_col8\" class=\"data row18 col8\" >13</td>\n",
       "                        <td id=\"T_a1643574_b078_11eb_b349_f8b156bc4af9row18_col9\" class=\"data row18 col9\" >41</td>\n",
       "                        <td id=\"T_a1643574_b078_11eb_b349_f8b156bc4af9row18_col10\" class=\"data row18 col10\" >0</td>\n",
       "                        <td id=\"T_a1643574_b078_11eb_b349_f8b156bc4af9row18_col11\" class=\"data row18 col11\" >0</td>\n",
       "                        <td id=\"T_a1643574_b078_11eb_b349_f8b156bc4af9row18_col12\" class=\"data row18 col12\" >0</td>\n",
       "                        <td id=\"T_a1643574_b078_11eb_b349_f8b156bc4af9row18_col13\" class=\"data row18 col13\" >0</td>\n",
       "                        <td id=\"T_a1643574_b078_11eb_b349_f8b156bc4af9row18_col14\" class=\"data row18 col14\" >0</td>\n",
       "                        <td id=\"T_a1643574_b078_11eb_b349_f8b156bc4af9row18_col15\" class=\"data row18 col15\" >0</td>\n",
       "                        <td id=\"T_a1643574_b078_11eb_b349_f8b156bc4af9row18_col16\" class=\"data row18 col16\" >0</td>\n",
       "                        <td id=\"T_a1643574_b078_11eb_b349_f8b156bc4af9row18_col17\" class=\"data row18 col17\" >0</td>\n",
       "            </tr>\n",
       "            <tr>\n",
       "                        <th id=\"T_a1643574_b078_11eb_b349_f8b156bc4af9level0_row19\" class=\"row_heading level0 row19\" >Kenya</th>\n",
       "                        <td id=\"T_a1643574_b078_11eb_b349_f8b156bc4af9row19_col0\" class=\"data row19 col0\" >0</td>\n",
       "                        <td id=\"T_a1643574_b078_11eb_b349_f8b156bc4af9row19_col1\" class=\"data row19 col1\" >0</td>\n",
       "                        <td id=\"T_a1643574_b078_11eb_b349_f8b156bc4af9row19_col2\" class=\"data row19 col2\" >0</td>\n",
       "                        <td id=\"T_a1643574_b078_11eb_b349_f8b156bc4af9row19_col3\" class=\"data row19 col3\" >0</td>\n",
       "                        <td id=\"T_a1643574_b078_11eb_b349_f8b156bc4af9row19_col4\" class=\"data row19 col4\" >0</td>\n",
       "                        <td id=\"T_a1643574_b078_11eb_b349_f8b156bc4af9row19_col5\" class=\"data row19 col5\" >0</td>\n",
       "                        <td id=\"T_a1643574_b078_11eb_b349_f8b156bc4af9row19_col6\" class=\"data row19 col6\" >0</td>\n",
       "                        <td id=\"T_a1643574_b078_11eb_b349_f8b156bc4af9row19_col7\" class=\"data row19 col7\" >0</td>\n",
       "                        <td id=\"T_a1643574_b078_11eb_b349_f8b156bc4af9row19_col8\" class=\"data row19 col8\" >0</td>\n",
       "                        <td id=\"T_a1643574_b078_11eb_b349_f8b156bc4af9row19_col9\" class=\"data row19 col9\" >0</td>\n",
       "                        <td id=\"T_a1643574_b078_11eb_b349_f8b156bc4af9row19_col10\" class=\"data row19 col10\" >0</td>\n",
       "                        <td id=\"T_a1643574_b078_11eb_b349_f8b156bc4af9row19_col11\" class=\"data row19 col11\" >0</td>\n",
       "                        <td id=\"T_a1643574_b078_11eb_b349_f8b156bc4af9row19_col12\" class=\"data row19 col12\" >0</td>\n",
       "                        <td id=\"T_a1643574_b078_11eb_b349_f8b156bc4af9row19_col13\" class=\"data row19 col13\" >0</td>\n",
       "                        <td id=\"T_a1643574_b078_11eb_b349_f8b156bc4af9row19_col14\" class=\"data row19 col14\" >0</td>\n",
       "                        <td id=\"T_a1643574_b078_11eb_b349_f8b156bc4af9row19_col15\" class=\"data row19 col15\" >32</td>\n",
       "                        <td id=\"T_a1643574_b078_11eb_b349_f8b156bc4af9row19_col16\" class=\"data row19 col16\" >0</td>\n",
       "                        <td id=\"T_a1643574_b078_11eb_b349_f8b156bc4af9row19_col17\" class=\"data row19 col17\" >0</td>\n",
       "            </tr>\n",
       "            <tr>\n",
       "                        <th id=\"T_a1643574_b078_11eb_b349_f8b156bc4af9level0_row20\" class=\"row_heading level0 row20\" >Korea, Republic of</th>\n",
       "                        <td id=\"T_a1643574_b078_11eb_b349_f8b156bc4af9row20_col0\" class=\"data row20 col0\" >0</td>\n",
       "                        <td id=\"T_a1643574_b078_11eb_b349_f8b156bc4af9row20_col1\" class=\"data row20 col1\" >0</td>\n",
       "                        <td id=\"T_a1643574_b078_11eb_b349_f8b156bc4af9row20_col2\" class=\"data row20 col2\" >0</td>\n",
       "                        <td id=\"T_a1643574_b078_11eb_b349_f8b156bc4af9row20_col3\" class=\"data row20 col3\" >0</td>\n",
       "                        <td id=\"T_a1643574_b078_11eb_b349_f8b156bc4af9row20_col4\" class=\"data row20 col4\" >0</td>\n",
       "                        <td id=\"T_a1643574_b078_11eb_b349_f8b156bc4af9row20_col5\" class=\"data row20 col5\" >0</td>\n",
       "                        <td id=\"T_a1643574_b078_11eb_b349_f8b156bc4af9row20_col6\" class=\"data row20 col6\" >0</td>\n",
       "                        <td id=\"T_a1643574_b078_11eb_b349_f8b156bc4af9row20_col7\" class=\"data row20 col7\" >0</td>\n",
       "                        <td id=\"T_a1643574_b078_11eb_b349_f8b156bc4af9row20_col8\" class=\"data row20 col8\" >0</td>\n",
       "                        <td id=\"T_a1643574_b078_11eb_b349_f8b156bc4af9row20_col9\" class=\"data row20 col9\" >0</td>\n",
       "                        <td id=\"T_a1643574_b078_11eb_b349_f8b156bc4af9row20_col10\" class=\"data row20 col10\" >0</td>\n",
       "                        <td id=\"T_a1643574_b078_11eb_b349_f8b156bc4af9row20_col11\" class=\"data row20 col11\" >0</td>\n",
       "                        <td id=\"T_a1643574_b078_11eb_b349_f8b156bc4af9row20_col12\" class=\"data row20 col12\" >0</td>\n",
       "                        <td id=\"T_a1643574_b078_11eb_b349_f8b156bc4af9row20_col13\" class=\"data row20 col13\" >0</td>\n",
       "                        <td id=\"T_a1643574_b078_11eb_b349_f8b156bc4af9row20_col14\" class=\"data row20 col14\" >12</td>\n",
       "                        <td id=\"T_a1643574_b078_11eb_b349_f8b156bc4af9row20_col15\" class=\"data row20 col15\" >0</td>\n",
       "                        <td id=\"T_a1643574_b078_11eb_b349_f8b156bc4af9row20_col16\" class=\"data row20 col16\" >0</td>\n",
       "                        <td id=\"T_a1643574_b078_11eb_b349_f8b156bc4af9row20_col17\" class=\"data row20 col17\" >0</td>\n",
       "            </tr>\n",
       "            <tr>\n",
       "                        <th id=\"T_a1643574_b078_11eb_b349_f8b156bc4af9level0_row21\" class=\"row_heading level0 row21\" >Kyrgyzstan</th>\n",
       "                        <td id=\"T_a1643574_b078_11eb_b349_f8b156bc4af9row21_col0\" class=\"data row21 col0\" >0</td>\n",
       "                        <td id=\"T_a1643574_b078_11eb_b349_f8b156bc4af9row21_col1\" class=\"data row21 col1\" >0</td>\n",
       "                        <td id=\"T_a1643574_b078_11eb_b349_f8b156bc4af9row21_col2\" class=\"data row21 col2\" >0</td>\n",
       "                        <td id=\"T_a1643574_b078_11eb_b349_f8b156bc4af9row21_col3\" class=\"data row21 col3\" >0</td>\n",
       "                        <td id=\"T_a1643574_b078_11eb_b349_f8b156bc4af9row21_col4\" class=\"data row21 col4\" >0</td>\n",
       "                        <td id=\"T_a1643574_b078_11eb_b349_f8b156bc4af9row21_col5\" class=\"data row21 col5\" >0</td>\n",
       "                        <td id=\"T_a1643574_b078_11eb_b349_f8b156bc4af9row21_col6\" class=\"data row21 col6\" >11</td>\n",
       "                        <td id=\"T_a1643574_b078_11eb_b349_f8b156bc4af9row21_col7\" class=\"data row21 col7\" >0</td>\n",
       "                        <td id=\"T_a1643574_b078_11eb_b349_f8b156bc4af9row21_col8\" class=\"data row21 col8\" >100</td>\n",
       "                        <td id=\"T_a1643574_b078_11eb_b349_f8b156bc4af9row21_col9\" class=\"data row21 col9\" >167</td>\n",
       "                        <td id=\"T_a1643574_b078_11eb_b349_f8b156bc4af9row21_col10\" class=\"data row21 col10\" >0</td>\n",
       "                        <td id=\"T_a1643574_b078_11eb_b349_f8b156bc4af9row21_col11\" class=\"data row21 col11\" >0</td>\n",
       "                        <td id=\"T_a1643574_b078_11eb_b349_f8b156bc4af9row21_col12\" class=\"data row21 col12\" >71</td>\n",
       "                        <td id=\"T_a1643574_b078_11eb_b349_f8b156bc4af9row21_col13\" class=\"data row21 col13\" >68</td>\n",
       "                        <td id=\"T_a1643574_b078_11eb_b349_f8b156bc4af9row21_col14\" class=\"data row21 col14\" >20</td>\n",
       "                        <td id=\"T_a1643574_b078_11eb_b349_f8b156bc4af9row21_col15\" class=\"data row21 col15\" >0</td>\n",
       "                        <td id=\"T_a1643574_b078_11eb_b349_f8b156bc4af9row21_col16\" class=\"data row21 col16\" >0</td>\n",
       "                        <td id=\"T_a1643574_b078_11eb_b349_f8b156bc4af9row21_col17\" class=\"data row21 col17\" >0</td>\n",
       "            </tr>\n",
       "            <tr>\n",
       "                        <th id=\"T_a1643574_b078_11eb_b349_f8b156bc4af9level0_row22\" class=\"row_heading level0 row22\" >Lao People's Democratic Republic</th>\n",
       "                        <td id=\"T_a1643574_b078_11eb_b349_f8b156bc4af9row22_col0\" class=\"data row22 col0\" >0</td>\n",
       "                        <td id=\"T_a1643574_b078_11eb_b349_f8b156bc4af9row22_col1\" class=\"data row22 col1\" >0</td>\n",
       "                        <td id=\"T_a1643574_b078_11eb_b349_f8b156bc4af9row22_col2\" class=\"data row22 col2\" >0</td>\n",
       "                        <td id=\"T_a1643574_b078_11eb_b349_f8b156bc4af9row22_col3\" class=\"data row22 col3\" >0</td>\n",
       "                        <td id=\"T_a1643574_b078_11eb_b349_f8b156bc4af9row22_col4\" class=\"data row22 col4\" >0</td>\n",
       "                        <td id=\"T_a1643574_b078_11eb_b349_f8b156bc4af9row22_col5\" class=\"data row22 col5\" >0</td>\n",
       "                        <td id=\"T_a1643574_b078_11eb_b349_f8b156bc4af9row22_col6\" class=\"data row22 col6\" >0</td>\n",
       "                        <td id=\"T_a1643574_b078_11eb_b349_f8b156bc4af9row22_col7\" class=\"data row22 col7\" >0</td>\n",
       "                        <td id=\"T_a1643574_b078_11eb_b349_f8b156bc4af9row22_col8\" class=\"data row22 col8\" >126</td>\n",
       "                        <td id=\"T_a1643574_b078_11eb_b349_f8b156bc4af9row22_col9\" class=\"data row22 col9\" >0</td>\n",
       "                        <td id=\"T_a1643574_b078_11eb_b349_f8b156bc4af9row22_col10\" class=\"data row22 col10\" >0</td>\n",
       "                        <td id=\"T_a1643574_b078_11eb_b349_f8b156bc4af9row22_col11\" class=\"data row22 col11\" >0</td>\n",
       "                        <td id=\"T_a1643574_b078_11eb_b349_f8b156bc4af9row22_col12\" class=\"data row22 col12\" >0</td>\n",
       "                        <td id=\"T_a1643574_b078_11eb_b349_f8b156bc4af9row22_col13\" class=\"data row22 col13\" >0</td>\n",
       "                        <td id=\"T_a1643574_b078_11eb_b349_f8b156bc4af9row22_col14\" class=\"data row22 col14\" >0</td>\n",
       "                        <td id=\"T_a1643574_b078_11eb_b349_f8b156bc4af9row22_col15\" class=\"data row22 col15\" >0</td>\n",
       "                        <td id=\"T_a1643574_b078_11eb_b349_f8b156bc4af9row22_col16\" class=\"data row22 col16\" >0</td>\n",
       "                        <td id=\"T_a1643574_b078_11eb_b349_f8b156bc4af9row22_col17\" class=\"data row22 col17\" >0</td>\n",
       "            </tr>\n",
       "            <tr>\n",
       "                        <th id=\"T_a1643574_b078_11eb_b349_f8b156bc4af9level0_row23\" class=\"row_heading level0 row23\" >Madagascar</th>\n",
       "                        <td id=\"T_a1643574_b078_11eb_b349_f8b156bc4af9row23_col0\" class=\"data row23 col0\" >0</td>\n",
       "                        <td id=\"T_a1643574_b078_11eb_b349_f8b156bc4af9row23_col1\" class=\"data row23 col1\" >0</td>\n",
       "                        <td id=\"T_a1643574_b078_11eb_b349_f8b156bc4af9row23_col2\" class=\"data row23 col2\" >0</td>\n",
       "                        <td id=\"T_a1643574_b078_11eb_b349_f8b156bc4af9row23_col3\" class=\"data row23 col3\" >0</td>\n",
       "                        <td id=\"T_a1643574_b078_11eb_b349_f8b156bc4af9row23_col4\" class=\"data row23 col4\" >0</td>\n",
       "                        <td id=\"T_a1643574_b078_11eb_b349_f8b156bc4af9row23_col5\" class=\"data row23 col5\" >0</td>\n",
       "                        <td id=\"T_a1643574_b078_11eb_b349_f8b156bc4af9row23_col6\" class=\"data row23 col6\" >0</td>\n",
       "                        <td id=\"T_a1643574_b078_11eb_b349_f8b156bc4af9row23_col7\" class=\"data row23 col7\" >0</td>\n",
       "                        <td id=\"T_a1643574_b078_11eb_b349_f8b156bc4af9row23_col8\" class=\"data row23 col8\" >0</td>\n",
       "                        <td id=\"T_a1643574_b078_11eb_b349_f8b156bc4af9row23_col9\" class=\"data row23 col9\" >0</td>\n",
       "                        <td id=\"T_a1643574_b078_11eb_b349_f8b156bc4af9row23_col10\" class=\"data row23 col10\" >0</td>\n",
       "                        <td id=\"T_a1643574_b078_11eb_b349_f8b156bc4af9row23_col11\" class=\"data row23 col11\" >0</td>\n",
       "                        <td id=\"T_a1643574_b078_11eb_b349_f8b156bc4af9row23_col12\" class=\"data row23 col12\" >0</td>\n",
       "                        <td id=\"T_a1643574_b078_11eb_b349_f8b156bc4af9row23_col13\" class=\"data row23 col13\" >0</td>\n",
       "                        <td id=\"T_a1643574_b078_11eb_b349_f8b156bc4af9row23_col14\" class=\"data row23 col14\" >0</td>\n",
       "                        <td id=\"T_a1643574_b078_11eb_b349_f8b156bc4af9row23_col15\" class=\"data row23 col15\" >0</td>\n",
       "                        <td id=\"T_a1643574_b078_11eb_b349_f8b156bc4af9row23_col16\" class=\"data row23 col16\" >94</td>\n",
       "                        <td id=\"T_a1643574_b078_11eb_b349_f8b156bc4af9row23_col17\" class=\"data row23 col17\" >0</td>\n",
       "            </tr>\n",
       "            <tr>\n",
       "                        <th id=\"T_a1643574_b078_11eb_b349_f8b156bc4af9level0_row24\" class=\"row_heading level0 row24\" >Mali</th>\n",
       "                        <td id=\"T_a1643574_b078_11eb_b349_f8b156bc4af9row24_col0\" class=\"data row24 col0\" >0</td>\n",
       "                        <td id=\"T_a1643574_b078_11eb_b349_f8b156bc4af9row24_col1\" class=\"data row24 col1\" >0</td>\n",
       "                        <td id=\"T_a1643574_b078_11eb_b349_f8b156bc4af9row24_col2\" class=\"data row24 col2\" >0</td>\n",
       "                        <td id=\"T_a1643574_b078_11eb_b349_f8b156bc4af9row24_col3\" class=\"data row24 col3\" >0</td>\n",
       "                        <td id=\"T_a1643574_b078_11eb_b349_f8b156bc4af9row24_col4\" class=\"data row24 col4\" >0</td>\n",
       "                        <td id=\"T_a1643574_b078_11eb_b349_f8b156bc4af9row24_col5\" class=\"data row24 col5\" >19</td>\n",
       "                        <td id=\"T_a1643574_b078_11eb_b349_f8b156bc4af9row24_col6\" class=\"data row24 col6\" >0</td>\n",
       "                        <td id=\"T_a1643574_b078_11eb_b349_f8b156bc4af9row24_col7\" class=\"data row24 col7\" >0</td>\n",
       "                        <td id=\"T_a1643574_b078_11eb_b349_f8b156bc4af9row24_col8\" class=\"data row24 col8\" >26</td>\n",
       "                        <td id=\"T_a1643574_b078_11eb_b349_f8b156bc4af9row24_col9\" class=\"data row24 col9\" >0</td>\n",
       "                        <td id=\"T_a1643574_b078_11eb_b349_f8b156bc4af9row24_col10\" class=\"data row24 col10\" >0</td>\n",
       "                        <td id=\"T_a1643574_b078_11eb_b349_f8b156bc4af9row24_col11\" class=\"data row24 col11\" >0</td>\n",
       "                        <td id=\"T_a1643574_b078_11eb_b349_f8b156bc4af9row24_col12\" class=\"data row24 col12\" >0</td>\n",
       "                        <td id=\"T_a1643574_b078_11eb_b349_f8b156bc4af9row24_col13\" class=\"data row24 col13\" >0</td>\n",
       "                        <td id=\"T_a1643574_b078_11eb_b349_f8b156bc4af9row24_col14\" class=\"data row24 col14\" >0</td>\n",
       "                        <td id=\"T_a1643574_b078_11eb_b349_f8b156bc4af9row24_col15\" class=\"data row24 col15\" >0</td>\n",
       "                        <td id=\"T_a1643574_b078_11eb_b349_f8b156bc4af9row24_col16\" class=\"data row24 col16\" >0</td>\n",
       "                        <td id=\"T_a1643574_b078_11eb_b349_f8b156bc4af9row24_col17\" class=\"data row24 col17\" >0</td>\n",
       "            </tr>\n",
       "            <tr>\n",
       "                        <th id=\"T_a1643574_b078_11eb_b349_f8b156bc4af9level0_row25\" class=\"row_heading level0 row25\" >Mexico</th>\n",
       "                        <td id=\"T_a1643574_b078_11eb_b349_f8b156bc4af9row25_col0\" class=\"data row25 col0\" >0</td>\n",
       "                        <td id=\"T_a1643574_b078_11eb_b349_f8b156bc4af9row25_col1\" class=\"data row25 col1\" >0</td>\n",
       "                        <td id=\"T_a1643574_b078_11eb_b349_f8b156bc4af9row25_col2\" class=\"data row25 col2\" >0</td>\n",
       "                        <td id=\"T_a1643574_b078_11eb_b349_f8b156bc4af9row25_col3\" class=\"data row25 col3\" >0</td>\n",
       "                        <td id=\"T_a1643574_b078_11eb_b349_f8b156bc4af9row25_col4\" class=\"data row25 col4\" >0</td>\n",
       "                        <td id=\"T_a1643574_b078_11eb_b349_f8b156bc4af9row25_col5\" class=\"data row25 col5\" >0</td>\n",
       "                        <td id=\"T_a1643574_b078_11eb_b349_f8b156bc4af9row25_col6\" class=\"data row25 col6\" >0</td>\n",
       "                        <td id=\"T_a1643574_b078_11eb_b349_f8b156bc4af9row25_col7\" class=\"data row25 col7\" >0</td>\n",
       "                        <td id=\"T_a1643574_b078_11eb_b349_f8b156bc4af9row25_col8\" class=\"data row25 col8\" >0</td>\n",
       "                        <td id=\"T_a1643574_b078_11eb_b349_f8b156bc4af9row25_col9\" class=\"data row25 col9\" >0</td>\n",
       "                        <td id=\"T_a1643574_b078_11eb_b349_f8b156bc4af9row25_col10\" class=\"data row25 col10\" >0</td>\n",
       "                        <td id=\"T_a1643574_b078_11eb_b349_f8b156bc4af9row25_col11\" class=\"data row25 col11\" >0</td>\n",
       "                        <td id=\"T_a1643574_b078_11eb_b349_f8b156bc4af9row25_col12\" class=\"data row25 col12\" >0</td>\n",
       "                        <td id=\"T_a1643574_b078_11eb_b349_f8b156bc4af9row25_col13\" class=\"data row25 col13\" >0</td>\n",
       "                        <td id=\"T_a1643574_b078_11eb_b349_f8b156bc4af9row25_col14\" class=\"data row25 col14\" >0</td>\n",
       "                        <td id=\"T_a1643574_b078_11eb_b349_f8b156bc4af9row25_col15\" class=\"data row25 col15\" >19</td>\n",
       "                        <td id=\"T_a1643574_b078_11eb_b349_f8b156bc4af9row25_col16\" class=\"data row25 col16\" >0</td>\n",
       "                        <td id=\"T_a1643574_b078_11eb_b349_f8b156bc4af9row25_col17\" class=\"data row25 col17\" >0</td>\n",
       "            </tr>\n",
       "            <tr>\n",
       "                        <th id=\"T_a1643574_b078_11eb_b349_f8b156bc4af9level0_row26\" class=\"row_heading level0 row26\" >Moldova, Republic of</th>\n",
       "                        <td id=\"T_a1643574_b078_11eb_b349_f8b156bc4af9row26_col0\" class=\"data row26 col0\" >597</td>\n",
       "                        <td id=\"T_a1643574_b078_11eb_b349_f8b156bc4af9row26_col1\" class=\"data row26 col1\" >215</td>\n",
       "                        <td id=\"T_a1643574_b078_11eb_b349_f8b156bc4af9row26_col2\" class=\"data row26 col2\" >169</td>\n",
       "                        <td id=\"T_a1643574_b078_11eb_b349_f8b156bc4af9row26_col3\" class=\"data row26 col3\" >196</td>\n",
       "                        <td id=\"T_a1643574_b078_11eb_b349_f8b156bc4af9row26_col4\" class=\"data row26 col4\" >288</td>\n",
       "                        <td id=\"T_a1643574_b078_11eb_b349_f8b156bc4af9row26_col5\" class=\"data row26 col5\" >292</td>\n",
       "                        <td id=\"T_a1643574_b078_11eb_b349_f8b156bc4af9row26_col6\" class=\"data row26 col6\" >241</td>\n",
       "                        <td id=\"T_a1643574_b078_11eb_b349_f8b156bc4af9row26_col7\" class=\"data row26 col7\" >282</td>\n",
       "                        <td id=\"T_a1643574_b078_11eb_b349_f8b156bc4af9row26_col8\" class=\"data row26 col8\" >13</td>\n",
       "                        <td id=\"T_a1643574_b078_11eb_b349_f8b156bc4af9row26_col9\" class=\"data row26 col9\" >506</td>\n",
       "                        <td id=\"T_a1643574_b078_11eb_b349_f8b156bc4af9row26_col10\" class=\"data row26 col10\" >12</td>\n",
       "                        <td id=\"T_a1643574_b078_11eb_b349_f8b156bc4af9row26_col11\" class=\"data row26 col11\" >630</td>\n",
       "                        <td id=\"T_a1643574_b078_11eb_b349_f8b156bc4af9row26_col12\" class=\"data row26 col12\" >559</td>\n",
       "                        <td id=\"T_a1643574_b078_11eb_b349_f8b156bc4af9row26_col13\" class=\"data row26 col13\" >766</td>\n",
       "                        <td id=\"T_a1643574_b078_11eb_b349_f8b156bc4af9row26_col14\" class=\"data row26 col14\" >597</td>\n",
       "                        <td id=\"T_a1643574_b078_11eb_b349_f8b156bc4af9row26_col15\" class=\"data row26 col15\" >471</td>\n",
       "                        <td id=\"T_a1643574_b078_11eb_b349_f8b156bc4af9row26_col16\" class=\"data row26 col16\" >67</td>\n",
       "                        <td id=\"T_a1643574_b078_11eb_b349_f8b156bc4af9row26_col17\" class=\"data row26 col17\" >0</td>\n",
       "            </tr>\n",
       "            <tr>\n",
       "                        <th id=\"T_a1643574_b078_11eb_b349_f8b156bc4af9level0_row27\" class=\"row_heading level0 row27\" >Myanmar</th>\n",
       "                        <td id=\"T_a1643574_b078_11eb_b349_f8b156bc4af9row27_col0\" class=\"data row27 col0\" >0</td>\n",
       "                        <td id=\"T_a1643574_b078_11eb_b349_f8b156bc4af9row27_col1\" class=\"data row27 col1\" >0</td>\n",
       "                        <td id=\"T_a1643574_b078_11eb_b349_f8b156bc4af9row27_col2\" class=\"data row27 col2\" >0</td>\n",
       "                        <td id=\"T_a1643574_b078_11eb_b349_f8b156bc4af9row27_col3\" class=\"data row27 col3\" >0</td>\n",
       "                        <td id=\"T_a1643574_b078_11eb_b349_f8b156bc4af9row27_col4\" class=\"data row27 col4\" >0</td>\n",
       "                        <td id=\"T_a1643574_b078_11eb_b349_f8b156bc4af9row27_col5\" class=\"data row27 col5\" >0</td>\n",
       "                        <td id=\"T_a1643574_b078_11eb_b349_f8b156bc4af9row27_col6\" class=\"data row27 col6\" >0</td>\n",
       "                        <td id=\"T_a1643574_b078_11eb_b349_f8b156bc4af9row27_col7\" class=\"data row27 col7\" >0</td>\n",
       "                        <td id=\"T_a1643574_b078_11eb_b349_f8b156bc4af9row27_col8\" class=\"data row27 col8\" >0</td>\n",
       "                        <td id=\"T_a1643574_b078_11eb_b349_f8b156bc4af9row27_col9\" class=\"data row27 col9\" >0</td>\n",
       "                        <td id=\"T_a1643574_b078_11eb_b349_f8b156bc4af9row27_col10\" class=\"data row27 col10\" >0</td>\n",
       "                        <td id=\"T_a1643574_b078_11eb_b349_f8b156bc4af9row27_col11\" class=\"data row27 col11\" >29</td>\n",
       "                        <td id=\"T_a1643574_b078_11eb_b349_f8b156bc4af9row27_col12\" class=\"data row27 col12\" >136</td>\n",
       "                        <td id=\"T_a1643574_b078_11eb_b349_f8b156bc4af9row27_col13\" class=\"data row27 col13\" >1011</td>\n",
       "                        <td id=\"T_a1643574_b078_11eb_b349_f8b156bc4af9row27_col14\" class=\"data row27 col14\" >48</td>\n",
       "                        <td id=\"T_a1643574_b078_11eb_b349_f8b156bc4af9row27_col15\" class=\"data row27 col15\" >0</td>\n",
       "                        <td id=\"T_a1643574_b078_11eb_b349_f8b156bc4af9row27_col16\" class=\"data row27 col16\" >26</td>\n",
       "                        <td id=\"T_a1643574_b078_11eb_b349_f8b156bc4af9row27_col17\" class=\"data row27 col17\" >0</td>\n",
       "            </tr>\n",
       "            <tr>\n",
       "                        <th id=\"T_a1643574_b078_11eb_b349_f8b156bc4af9level0_row28\" class=\"row_heading level0 row28\" >Nepal</th>\n",
       "                        <td id=\"T_a1643574_b078_11eb_b349_f8b156bc4af9row28_col0\" class=\"data row28 col0\" >0</td>\n",
       "                        <td id=\"T_a1643574_b078_11eb_b349_f8b156bc4af9row28_col1\" class=\"data row28 col1\" >0</td>\n",
       "                        <td id=\"T_a1643574_b078_11eb_b349_f8b156bc4af9row28_col2\" class=\"data row28 col2\" >0</td>\n",
       "                        <td id=\"T_a1643574_b078_11eb_b349_f8b156bc4af9row28_col3\" class=\"data row28 col3\" >0</td>\n",
       "                        <td id=\"T_a1643574_b078_11eb_b349_f8b156bc4af9row28_col4\" class=\"data row28 col4\" >0</td>\n",
       "                        <td id=\"T_a1643574_b078_11eb_b349_f8b156bc4af9row28_col5\" class=\"data row28 col5\" >0</td>\n",
       "                        <td id=\"T_a1643574_b078_11eb_b349_f8b156bc4af9row28_col6\" class=\"data row28 col6\" >0</td>\n",
       "                        <td id=\"T_a1643574_b078_11eb_b349_f8b156bc4af9row28_col7\" class=\"data row28 col7\" >0</td>\n",
       "                        <td id=\"T_a1643574_b078_11eb_b349_f8b156bc4af9row28_col8\" class=\"data row28 col8\" >0</td>\n",
       "                        <td id=\"T_a1643574_b078_11eb_b349_f8b156bc4af9row28_col9\" class=\"data row28 col9\" >0</td>\n",
       "                        <td id=\"T_a1643574_b078_11eb_b349_f8b156bc4af9row28_col10\" class=\"data row28 col10\" >0</td>\n",
       "                        <td id=\"T_a1643574_b078_11eb_b349_f8b156bc4af9row28_col11\" class=\"data row28 col11\" >0</td>\n",
       "                        <td id=\"T_a1643574_b078_11eb_b349_f8b156bc4af9row28_col12\" class=\"data row28 col12\" >0</td>\n",
       "                        <td id=\"T_a1643574_b078_11eb_b349_f8b156bc4af9row28_col13\" class=\"data row28 col13\" >27</td>\n",
       "                        <td id=\"T_a1643574_b078_11eb_b349_f8b156bc4af9row28_col14\" class=\"data row28 col14\" >0</td>\n",
       "                        <td id=\"T_a1643574_b078_11eb_b349_f8b156bc4af9row28_col15\" class=\"data row28 col15\" >0</td>\n",
       "                        <td id=\"T_a1643574_b078_11eb_b349_f8b156bc4af9row28_col16\" class=\"data row28 col16\" >0</td>\n",
       "                        <td id=\"T_a1643574_b078_11eb_b349_f8b156bc4af9row28_col17\" class=\"data row28 col17\" >0</td>\n",
       "            </tr>\n",
       "            <tr>\n",
       "                        <th id=\"T_a1643574_b078_11eb_b349_f8b156bc4af9level0_row29\" class=\"row_heading level0 row29\" >Niger</th>\n",
       "                        <td id=\"T_a1643574_b078_11eb_b349_f8b156bc4af9row29_col0\" class=\"data row29 col0\" >0</td>\n",
       "                        <td id=\"T_a1643574_b078_11eb_b349_f8b156bc4af9row29_col1\" class=\"data row29 col1\" >0</td>\n",
       "                        <td id=\"T_a1643574_b078_11eb_b349_f8b156bc4af9row29_col2\" class=\"data row29 col2\" >0</td>\n",
       "                        <td id=\"T_a1643574_b078_11eb_b349_f8b156bc4af9row29_col3\" class=\"data row29 col3\" >0</td>\n",
       "                        <td id=\"T_a1643574_b078_11eb_b349_f8b156bc4af9row29_col4\" class=\"data row29 col4\" >0</td>\n",
       "                        <td id=\"T_a1643574_b078_11eb_b349_f8b156bc4af9row29_col5\" class=\"data row29 col5\" >0</td>\n",
       "                        <td id=\"T_a1643574_b078_11eb_b349_f8b156bc4af9row29_col6\" class=\"data row29 col6\" >0</td>\n",
       "                        <td id=\"T_a1643574_b078_11eb_b349_f8b156bc4af9row29_col7\" class=\"data row29 col7\" >0</td>\n",
       "                        <td id=\"T_a1643574_b078_11eb_b349_f8b156bc4af9row29_col8\" class=\"data row29 col8\" >31</td>\n",
       "                        <td id=\"T_a1643574_b078_11eb_b349_f8b156bc4af9row29_col9\" class=\"data row29 col9\" >0</td>\n",
       "                        <td id=\"T_a1643574_b078_11eb_b349_f8b156bc4af9row29_col10\" class=\"data row29 col10\" >0</td>\n",
       "                        <td id=\"T_a1643574_b078_11eb_b349_f8b156bc4af9row29_col11\" class=\"data row29 col11\" >0</td>\n",
       "                        <td id=\"T_a1643574_b078_11eb_b349_f8b156bc4af9row29_col12\" class=\"data row29 col12\" >0</td>\n",
       "                        <td id=\"T_a1643574_b078_11eb_b349_f8b156bc4af9row29_col13\" class=\"data row29 col13\" >0</td>\n",
       "                        <td id=\"T_a1643574_b078_11eb_b349_f8b156bc4af9row29_col14\" class=\"data row29 col14\" >0</td>\n",
       "                        <td id=\"T_a1643574_b078_11eb_b349_f8b156bc4af9row29_col15\" class=\"data row29 col15\" >0</td>\n",
       "                        <td id=\"T_a1643574_b078_11eb_b349_f8b156bc4af9row29_col16\" class=\"data row29 col16\" >0</td>\n",
       "                        <td id=\"T_a1643574_b078_11eb_b349_f8b156bc4af9row29_col17\" class=\"data row29 col17\" >0</td>\n",
       "            </tr>\n",
       "            <tr>\n",
       "                        <th id=\"T_a1643574_b078_11eb_b349_f8b156bc4af9level0_row30\" class=\"row_heading level0 row30\" >Nigeria</th>\n",
       "                        <td id=\"T_a1643574_b078_11eb_b349_f8b156bc4af9row30_col0\" class=\"data row30 col0\" >0</td>\n",
       "                        <td id=\"T_a1643574_b078_11eb_b349_f8b156bc4af9row30_col1\" class=\"data row30 col1\" >0</td>\n",
       "                        <td id=\"T_a1643574_b078_11eb_b349_f8b156bc4af9row30_col2\" class=\"data row30 col2\" >0</td>\n",
       "                        <td id=\"T_a1643574_b078_11eb_b349_f8b156bc4af9row30_col3\" class=\"data row30 col3\" >0</td>\n",
       "                        <td id=\"T_a1643574_b078_11eb_b349_f8b156bc4af9row30_col4\" class=\"data row30 col4\" >0</td>\n",
       "                        <td id=\"T_a1643574_b078_11eb_b349_f8b156bc4af9row30_col5\" class=\"data row30 col5\" >0</td>\n",
       "                        <td id=\"T_a1643574_b078_11eb_b349_f8b156bc4af9row30_col6\" class=\"data row30 col6\" >0</td>\n",
       "                        <td id=\"T_a1643574_b078_11eb_b349_f8b156bc4af9row30_col7\" class=\"data row30 col7\" >0</td>\n",
       "                        <td id=\"T_a1643574_b078_11eb_b349_f8b156bc4af9row30_col8\" class=\"data row30 col8\" >0</td>\n",
       "                        <td id=\"T_a1643574_b078_11eb_b349_f8b156bc4af9row30_col9\" class=\"data row30 col9\" >0</td>\n",
       "                        <td id=\"T_a1643574_b078_11eb_b349_f8b156bc4af9row30_col10\" class=\"data row30 col10\" >0</td>\n",
       "                        <td id=\"T_a1643574_b078_11eb_b349_f8b156bc4af9row30_col11\" class=\"data row30 col11\" >0</td>\n",
       "                        <td id=\"T_a1643574_b078_11eb_b349_f8b156bc4af9row30_col12\" class=\"data row30 col12\" >0</td>\n",
       "                        <td id=\"T_a1643574_b078_11eb_b349_f8b156bc4af9row30_col13\" class=\"data row30 col13\" >108</td>\n",
       "                        <td id=\"T_a1643574_b078_11eb_b349_f8b156bc4af9row30_col14\" class=\"data row30 col14\" >0</td>\n",
       "                        <td id=\"T_a1643574_b078_11eb_b349_f8b156bc4af9row30_col15\" class=\"data row30 col15\" >0</td>\n",
       "                        <td id=\"T_a1643574_b078_11eb_b349_f8b156bc4af9row30_col16\" class=\"data row30 col16\" >0</td>\n",
       "                        <td id=\"T_a1643574_b078_11eb_b349_f8b156bc4af9row30_col17\" class=\"data row30 col17\" >0</td>\n",
       "            </tr>\n",
       "            <tr>\n",
       "                        <th id=\"T_a1643574_b078_11eb_b349_f8b156bc4af9level0_row31\" class=\"row_heading level0 row31\" >Philippines</th>\n",
       "                        <td id=\"T_a1643574_b078_11eb_b349_f8b156bc4af9row31_col0\" class=\"data row31 col0\" >0</td>\n",
       "                        <td id=\"T_a1643574_b078_11eb_b349_f8b156bc4af9row31_col1\" class=\"data row31 col1\" >0</td>\n",
       "                        <td id=\"T_a1643574_b078_11eb_b349_f8b156bc4af9row31_col2\" class=\"data row31 col2\" >0</td>\n",
       "                        <td id=\"T_a1643574_b078_11eb_b349_f8b156bc4af9row31_col3\" class=\"data row31 col3\" >0</td>\n",
       "                        <td id=\"T_a1643574_b078_11eb_b349_f8b156bc4af9row31_col4\" class=\"data row31 col4\" >0</td>\n",
       "                        <td id=\"T_a1643574_b078_11eb_b349_f8b156bc4af9row31_col5\" class=\"data row31 col5\" >0</td>\n",
       "                        <td id=\"T_a1643574_b078_11eb_b349_f8b156bc4af9row31_col6\" class=\"data row31 col6\" >0</td>\n",
       "                        <td id=\"T_a1643574_b078_11eb_b349_f8b156bc4af9row31_col7\" class=\"data row31 col7\" >0</td>\n",
       "                        <td id=\"T_a1643574_b078_11eb_b349_f8b156bc4af9row31_col8\" class=\"data row31 col8\" >0</td>\n",
       "                        <td id=\"T_a1643574_b078_11eb_b349_f8b156bc4af9row31_col9\" class=\"data row31 col9\" >0</td>\n",
       "                        <td id=\"T_a1643574_b078_11eb_b349_f8b156bc4af9row31_col10\" class=\"data row31 col10\" >0</td>\n",
       "                        <td id=\"T_a1643574_b078_11eb_b349_f8b156bc4af9row31_col11\" class=\"data row31 col11\" >0</td>\n",
       "                        <td id=\"T_a1643574_b078_11eb_b349_f8b156bc4af9row31_col12\" class=\"data row31 col12\" >0</td>\n",
       "                        <td id=\"T_a1643574_b078_11eb_b349_f8b156bc4af9row31_col13\" class=\"data row31 col13\" >28</td>\n",
       "                        <td id=\"T_a1643574_b078_11eb_b349_f8b156bc4af9row31_col14\" class=\"data row31 col14\" >11262</td>\n",
       "                        <td id=\"T_a1643574_b078_11eb_b349_f8b156bc4af9row31_col15\" class=\"data row31 col15\" >75</td>\n",
       "                        <td id=\"T_a1643574_b078_11eb_b349_f8b156bc4af9row31_col16\" class=\"data row31 col16\" >0</td>\n",
       "                        <td id=\"T_a1643574_b078_11eb_b349_f8b156bc4af9row31_col17\" class=\"data row31 col17\" >0</td>\n",
       "            </tr>\n",
       "            <tr>\n",
       "                        <th id=\"T_a1643574_b078_11eb_b349_f8b156bc4af9level0_row32\" class=\"row_heading level0 row32\" >Romania</th>\n",
       "                        <td id=\"T_a1643574_b078_11eb_b349_f8b156bc4af9row32_col0\" class=\"data row32 col0\" >263</td>\n",
       "                        <td id=\"T_a1643574_b078_11eb_b349_f8b156bc4af9row32_col1\" class=\"data row32 col1\" >92</td>\n",
       "                        <td id=\"T_a1643574_b078_11eb_b349_f8b156bc4af9row32_col2\" class=\"data row32 col2\" >0</td>\n",
       "                        <td id=\"T_a1643574_b078_11eb_b349_f8b156bc4af9row32_col3\" class=\"data row32 col3\" >125</td>\n",
       "                        <td id=\"T_a1643574_b078_11eb_b349_f8b156bc4af9row32_col4\" class=\"data row32 col4\" >109</td>\n",
       "                        <td id=\"T_a1643574_b078_11eb_b349_f8b156bc4af9row32_col5\" class=\"data row32 col5\" >37</td>\n",
       "                        <td id=\"T_a1643574_b078_11eb_b349_f8b156bc4af9row32_col6\" class=\"data row32 col6\" >12</td>\n",
       "                        <td id=\"T_a1643574_b078_11eb_b349_f8b156bc4af9row32_col7\" class=\"data row32 col7\" >0</td>\n",
       "                        <td id=\"T_a1643574_b078_11eb_b349_f8b156bc4af9row32_col8\" class=\"data row32 col8\" >0</td>\n",
       "                        <td id=\"T_a1643574_b078_11eb_b349_f8b156bc4af9row32_col9\" class=\"data row32 col9\" >0</td>\n",
       "                        <td id=\"T_a1643574_b078_11eb_b349_f8b156bc4af9row32_col10\" class=\"data row32 col10\" >0</td>\n",
       "                        <td id=\"T_a1643574_b078_11eb_b349_f8b156bc4af9row32_col11\" class=\"data row32 col11\" >0</td>\n",
       "                        <td id=\"T_a1643574_b078_11eb_b349_f8b156bc4af9row32_col12\" class=\"data row32 col12\" >0</td>\n",
       "                        <td id=\"T_a1643574_b078_11eb_b349_f8b156bc4af9row32_col13\" class=\"data row32 col13\" >17</td>\n",
       "                        <td id=\"T_a1643574_b078_11eb_b349_f8b156bc4af9row32_col14\" class=\"data row32 col14\" >0</td>\n",
       "                        <td id=\"T_a1643574_b078_11eb_b349_f8b156bc4af9row32_col15\" class=\"data row32 col15\" >0</td>\n",
       "                        <td id=\"T_a1643574_b078_11eb_b349_f8b156bc4af9row32_col16\" class=\"data row32 col16\" >0</td>\n",
       "                        <td id=\"T_a1643574_b078_11eb_b349_f8b156bc4af9row32_col17\" class=\"data row32 col17\" >0</td>\n",
       "            </tr>\n",
       "            <tr>\n",
       "                        <th id=\"T_a1643574_b078_11eb_b349_f8b156bc4af9level0_row33\" class=\"row_heading level0 row33\" >Senegal</th>\n",
       "                        <td id=\"T_a1643574_b078_11eb_b349_f8b156bc4af9row33_col0\" class=\"data row33 col0\" >0</td>\n",
       "                        <td id=\"T_a1643574_b078_11eb_b349_f8b156bc4af9row33_col1\" class=\"data row33 col1\" >0</td>\n",
       "                        <td id=\"T_a1643574_b078_11eb_b349_f8b156bc4af9row33_col2\" class=\"data row33 col2\" >0</td>\n",
       "                        <td id=\"T_a1643574_b078_11eb_b349_f8b156bc4af9row33_col3\" class=\"data row33 col3\" >0</td>\n",
       "                        <td id=\"T_a1643574_b078_11eb_b349_f8b156bc4af9row33_col4\" class=\"data row33 col4\" >0</td>\n",
       "                        <td id=\"T_a1643574_b078_11eb_b349_f8b156bc4af9row33_col5\" class=\"data row33 col5\" >14</td>\n",
       "                        <td id=\"T_a1643574_b078_11eb_b349_f8b156bc4af9row33_col6\" class=\"data row33 col6\" >12</td>\n",
       "                        <td id=\"T_a1643574_b078_11eb_b349_f8b156bc4af9row33_col7\" class=\"data row33 col7\" >0</td>\n",
       "                        <td id=\"T_a1643574_b078_11eb_b349_f8b156bc4af9row33_col8\" class=\"data row33 col8\" >44</td>\n",
       "                        <td id=\"T_a1643574_b078_11eb_b349_f8b156bc4af9row33_col9\" class=\"data row33 col9\" >0</td>\n",
       "                        <td id=\"T_a1643574_b078_11eb_b349_f8b156bc4af9row33_col10\" class=\"data row33 col10\" >0</td>\n",
       "                        <td id=\"T_a1643574_b078_11eb_b349_f8b156bc4af9row33_col11\" class=\"data row33 col11\" >0</td>\n",
       "                        <td id=\"T_a1643574_b078_11eb_b349_f8b156bc4af9row33_col12\" class=\"data row33 col12\" >0</td>\n",
       "                        <td id=\"T_a1643574_b078_11eb_b349_f8b156bc4af9row33_col13\" class=\"data row33 col13\" >0</td>\n",
       "                        <td id=\"T_a1643574_b078_11eb_b349_f8b156bc4af9row33_col14\" class=\"data row33 col14\" >0</td>\n",
       "                        <td id=\"T_a1643574_b078_11eb_b349_f8b156bc4af9row33_col15\" class=\"data row33 col15\" >0</td>\n",
       "                        <td id=\"T_a1643574_b078_11eb_b349_f8b156bc4af9row33_col16\" class=\"data row33 col16\" >0</td>\n",
       "                        <td id=\"T_a1643574_b078_11eb_b349_f8b156bc4af9row33_col17\" class=\"data row33 col17\" >0</td>\n",
       "            </tr>\n",
       "            <tr>\n",
       "                        <th id=\"T_a1643574_b078_11eb_b349_f8b156bc4af9level0_row34\" class=\"row_heading level0 row34\" >Sierra Leone</th>\n",
       "                        <td id=\"T_a1643574_b078_11eb_b349_f8b156bc4af9row34_col0\" class=\"data row34 col0\" >0</td>\n",
       "                        <td id=\"T_a1643574_b078_11eb_b349_f8b156bc4af9row34_col1\" class=\"data row34 col1\" >0</td>\n",
       "                        <td id=\"T_a1643574_b078_11eb_b349_f8b156bc4af9row34_col2\" class=\"data row34 col2\" >0</td>\n",
       "                        <td id=\"T_a1643574_b078_11eb_b349_f8b156bc4af9row34_col3\" class=\"data row34 col3\" >0</td>\n",
       "                        <td id=\"T_a1643574_b078_11eb_b349_f8b156bc4af9row34_col4\" class=\"data row34 col4\" >0</td>\n",
       "                        <td id=\"T_a1643574_b078_11eb_b349_f8b156bc4af9row34_col5\" class=\"data row34 col5\" >0</td>\n",
       "                        <td id=\"T_a1643574_b078_11eb_b349_f8b156bc4af9row34_col6\" class=\"data row34 col6\" >65</td>\n",
       "                        <td id=\"T_a1643574_b078_11eb_b349_f8b156bc4af9row34_col7\" class=\"data row34 col7\" >0</td>\n",
       "                        <td id=\"T_a1643574_b078_11eb_b349_f8b156bc4af9row34_col8\" class=\"data row34 col8\" >0</td>\n",
       "                        <td id=\"T_a1643574_b078_11eb_b349_f8b156bc4af9row34_col9\" class=\"data row34 col9\" >0</td>\n",
       "                        <td id=\"T_a1643574_b078_11eb_b349_f8b156bc4af9row34_col10\" class=\"data row34 col10\" >0</td>\n",
       "                        <td id=\"T_a1643574_b078_11eb_b349_f8b156bc4af9row34_col11\" class=\"data row34 col11\" >0</td>\n",
       "                        <td id=\"T_a1643574_b078_11eb_b349_f8b156bc4af9row34_col12\" class=\"data row34 col12\" >0</td>\n",
       "                        <td id=\"T_a1643574_b078_11eb_b349_f8b156bc4af9row34_col13\" class=\"data row34 col13\" >0</td>\n",
       "                        <td id=\"T_a1643574_b078_11eb_b349_f8b156bc4af9row34_col14\" class=\"data row34 col14\" >0</td>\n",
       "                        <td id=\"T_a1643574_b078_11eb_b349_f8b156bc4af9row34_col15\" class=\"data row34 col15\" >0</td>\n",
       "                        <td id=\"T_a1643574_b078_11eb_b349_f8b156bc4af9row34_col16\" class=\"data row34 col16\" >16</td>\n",
       "                        <td id=\"T_a1643574_b078_11eb_b349_f8b156bc4af9row34_col17\" class=\"data row34 col17\" >0</td>\n",
       "            </tr>\n",
       "            <tr>\n",
       "                        <th id=\"T_a1643574_b078_11eb_b349_f8b156bc4af9level0_row35\" class=\"row_heading level0 row35\" >Sri Lanka</th>\n",
       "                        <td id=\"T_a1643574_b078_11eb_b349_f8b156bc4af9row35_col0\" class=\"data row35 col0\" >0</td>\n",
       "                        <td id=\"T_a1643574_b078_11eb_b349_f8b156bc4af9row35_col1\" class=\"data row35 col1\" >0</td>\n",
       "                        <td id=\"T_a1643574_b078_11eb_b349_f8b156bc4af9row35_col2\" class=\"data row35 col2\" >0</td>\n",
       "                        <td id=\"T_a1643574_b078_11eb_b349_f8b156bc4af9row35_col3\" class=\"data row35 col3\" >0</td>\n",
       "                        <td id=\"T_a1643574_b078_11eb_b349_f8b156bc4af9row35_col4\" class=\"data row35 col4\" >0</td>\n",
       "                        <td id=\"T_a1643574_b078_11eb_b349_f8b156bc4af9row35_col5\" class=\"data row35 col5\" >0</td>\n",
       "                        <td id=\"T_a1643574_b078_11eb_b349_f8b156bc4af9row35_col6\" class=\"data row35 col6\" >0</td>\n",
       "                        <td id=\"T_a1643574_b078_11eb_b349_f8b156bc4af9row35_col7\" class=\"data row35 col7\" >0</td>\n",
       "                        <td id=\"T_a1643574_b078_11eb_b349_f8b156bc4af9row35_col8\" class=\"data row35 col8\" >0</td>\n",
       "                        <td id=\"T_a1643574_b078_11eb_b349_f8b156bc4af9row35_col9\" class=\"data row35 col9\" >0</td>\n",
       "                        <td id=\"T_a1643574_b078_11eb_b349_f8b156bc4af9row35_col10\" class=\"data row35 col10\" >32</td>\n",
       "                        <td id=\"T_a1643574_b078_11eb_b349_f8b156bc4af9row35_col11\" class=\"data row35 col11\" >53</td>\n",
       "                        <td id=\"T_a1643574_b078_11eb_b349_f8b156bc4af9row35_col12\" class=\"data row35 col12\" >0</td>\n",
       "                        <td id=\"T_a1643574_b078_11eb_b349_f8b156bc4af9row35_col13\" class=\"data row35 col13\" >0</td>\n",
       "                        <td id=\"T_a1643574_b078_11eb_b349_f8b156bc4af9row35_col14\" class=\"data row35 col14\" >0</td>\n",
       "                        <td id=\"T_a1643574_b078_11eb_b349_f8b156bc4af9row35_col15\" class=\"data row35 col15\" >0</td>\n",
       "                        <td id=\"T_a1643574_b078_11eb_b349_f8b156bc4af9row35_col16\" class=\"data row35 col16\" >0</td>\n",
       "                        <td id=\"T_a1643574_b078_11eb_b349_f8b156bc4af9row35_col17\" class=\"data row35 col17\" >0</td>\n",
       "            </tr>\n",
       "            <tr>\n",
       "                        <th id=\"T_a1643574_b078_11eb_b349_f8b156bc4af9level0_row36\" class=\"row_heading level0 row36\" >Tajikistan</th>\n",
       "                        <td id=\"T_a1643574_b078_11eb_b349_f8b156bc4af9row36_col0\" class=\"data row36 col0\" >0</td>\n",
       "                        <td id=\"T_a1643574_b078_11eb_b349_f8b156bc4af9row36_col1\" class=\"data row36 col1\" >0</td>\n",
       "                        <td id=\"T_a1643574_b078_11eb_b349_f8b156bc4af9row36_col2\" class=\"data row36 col2\" >0</td>\n",
       "                        <td id=\"T_a1643574_b078_11eb_b349_f8b156bc4af9row36_col3\" class=\"data row36 col3\" >11</td>\n",
       "                        <td id=\"T_a1643574_b078_11eb_b349_f8b156bc4af9row36_col4\" class=\"data row36 col4\" >0</td>\n",
       "                        <td id=\"T_a1643574_b078_11eb_b349_f8b156bc4af9row36_col5\" class=\"data row36 col5\" >0</td>\n",
       "                        <td id=\"T_a1643574_b078_11eb_b349_f8b156bc4af9row36_col6\" class=\"data row36 col6\" >0</td>\n",
       "                        <td id=\"T_a1643574_b078_11eb_b349_f8b156bc4af9row36_col7\" class=\"data row36 col7\" >0</td>\n",
       "                        <td id=\"T_a1643574_b078_11eb_b349_f8b156bc4af9row36_col8\" class=\"data row36 col8\" >0</td>\n",
       "                        <td id=\"T_a1643574_b078_11eb_b349_f8b156bc4af9row36_col9\" class=\"data row36 col9\" >32</td>\n",
       "                        <td id=\"T_a1643574_b078_11eb_b349_f8b156bc4af9row36_col10\" class=\"data row36 col10\" >0</td>\n",
       "                        <td id=\"T_a1643574_b078_11eb_b349_f8b156bc4af9row36_col11\" class=\"data row36 col11\" >0</td>\n",
       "                        <td id=\"T_a1643574_b078_11eb_b349_f8b156bc4af9row36_col12\" class=\"data row36 col12\" >0</td>\n",
       "                        <td id=\"T_a1643574_b078_11eb_b349_f8b156bc4af9row36_col13\" class=\"data row36 col13\" >0</td>\n",
       "                        <td id=\"T_a1643574_b078_11eb_b349_f8b156bc4af9row36_col14\" class=\"data row36 col14\" >0</td>\n",
       "                        <td id=\"T_a1643574_b078_11eb_b349_f8b156bc4af9row36_col15\" class=\"data row36 col15\" >0</td>\n",
       "                        <td id=\"T_a1643574_b078_11eb_b349_f8b156bc4af9row36_col16\" class=\"data row36 col16\" >0</td>\n",
       "                        <td id=\"T_a1643574_b078_11eb_b349_f8b156bc4af9row36_col17\" class=\"data row36 col17\" >0</td>\n",
       "            </tr>\n",
       "            <tr>\n",
       "                        <th id=\"T_a1643574_b078_11eb_b349_f8b156bc4af9level0_row37\" class=\"row_heading level0 row37\" >Thailand</th>\n",
       "                        <td id=\"T_a1643574_b078_11eb_b349_f8b156bc4af9row37_col0\" class=\"data row37 col0\" >0</td>\n",
       "                        <td id=\"T_a1643574_b078_11eb_b349_f8b156bc4af9row37_col1\" class=\"data row37 col1\" >0</td>\n",
       "                        <td id=\"T_a1643574_b078_11eb_b349_f8b156bc4af9row37_col2\" class=\"data row37 col2\" >0</td>\n",
       "                        <td id=\"T_a1643574_b078_11eb_b349_f8b156bc4af9row37_col3\" class=\"data row37 col3\" >0</td>\n",
       "                        <td id=\"T_a1643574_b078_11eb_b349_f8b156bc4af9row37_col4\" class=\"data row37 col4\" >0</td>\n",
       "                        <td id=\"T_a1643574_b078_11eb_b349_f8b156bc4af9row37_col5\" class=\"data row37 col5\" >0</td>\n",
       "                        <td id=\"T_a1643574_b078_11eb_b349_f8b156bc4af9row37_col6\" class=\"data row37 col6\" >0</td>\n",
       "                        <td id=\"T_a1643574_b078_11eb_b349_f8b156bc4af9row37_col7\" class=\"data row37 col7\" >0</td>\n",
       "                        <td id=\"T_a1643574_b078_11eb_b349_f8b156bc4af9row37_col8\" class=\"data row37 col8\" >0</td>\n",
       "                        <td id=\"T_a1643574_b078_11eb_b349_f8b156bc4af9row37_col9\" class=\"data row37 col9\" >0</td>\n",
       "                        <td id=\"T_a1643574_b078_11eb_b349_f8b156bc4af9row37_col10\" class=\"data row37 col10\" >0</td>\n",
       "                        <td id=\"T_a1643574_b078_11eb_b349_f8b156bc4af9row37_col11\" class=\"data row37 col11\" >0</td>\n",
       "                        <td id=\"T_a1643574_b078_11eb_b349_f8b156bc4af9row37_col12\" class=\"data row37 col12\" >0</td>\n",
       "                        <td id=\"T_a1643574_b078_11eb_b349_f8b156bc4af9row37_col13\" class=\"data row37 col13\" >0</td>\n",
       "                        <td id=\"T_a1643574_b078_11eb_b349_f8b156bc4af9row37_col14\" class=\"data row37 col14\" >55</td>\n",
       "                        <td id=\"T_a1643574_b078_11eb_b349_f8b156bc4af9row37_col15\" class=\"data row37 col15\" >0</td>\n",
       "                        <td id=\"T_a1643574_b078_11eb_b349_f8b156bc4af9row37_col16\" class=\"data row37 col16\" >0</td>\n",
       "                        <td id=\"T_a1643574_b078_11eb_b349_f8b156bc4af9row37_col17\" class=\"data row37 col17\" >0</td>\n",
       "            </tr>\n",
       "            <tr>\n",
       "                        <th id=\"T_a1643574_b078_11eb_b349_f8b156bc4af9level0_row38\" class=\"row_heading level0 row38\" >Turkmenistan</th>\n",
       "                        <td id=\"T_a1643574_b078_11eb_b349_f8b156bc4af9row38_col0\" class=\"data row38 col0\" >0</td>\n",
       "                        <td id=\"T_a1643574_b078_11eb_b349_f8b156bc4af9row38_col1\" class=\"data row38 col1\" >0</td>\n",
       "                        <td id=\"T_a1643574_b078_11eb_b349_f8b156bc4af9row38_col2\" class=\"data row38 col2\" >0</td>\n",
       "                        <td id=\"T_a1643574_b078_11eb_b349_f8b156bc4af9row38_col3\" class=\"data row38 col3\" >0</td>\n",
       "                        <td id=\"T_a1643574_b078_11eb_b349_f8b156bc4af9row38_col4\" class=\"data row38 col4\" >0</td>\n",
       "                        <td id=\"T_a1643574_b078_11eb_b349_f8b156bc4af9row38_col5\" class=\"data row38 col5\" >0</td>\n",
       "                        <td id=\"T_a1643574_b078_11eb_b349_f8b156bc4af9row38_col6\" class=\"data row38 col6\" >0</td>\n",
       "                        <td id=\"T_a1643574_b078_11eb_b349_f8b156bc4af9row38_col7\" class=\"data row38 col7\" >0</td>\n",
       "                        <td id=\"T_a1643574_b078_11eb_b349_f8b156bc4af9row38_col8\" class=\"data row38 col8\" >15</td>\n",
       "                        <td id=\"T_a1643574_b078_11eb_b349_f8b156bc4af9row38_col9\" class=\"data row38 col9\" >11</td>\n",
       "                        <td id=\"T_a1643574_b078_11eb_b349_f8b156bc4af9row38_col10\" class=\"data row38 col10\" >0</td>\n",
       "                        <td id=\"T_a1643574_b078_11eb_b349_f8b156bc4af9row38_col11\" class=\"data row38 col11\" >0</td>\n",
       "                        <td id=\"T_a1643574_b078_11eb_b349_f8b156bc4af9row38_col12\" class=\"data row38 col12\" >0</td>\n",
       "                        <td id=\"T_a1643574_b078_11eb_b349_f8b156bc4af9row38_col13\" class=\"data row38 col13\" >0</td>\n",
       "                        <td id=\"T_a1643574_b078_11eb_b349_f8b156bc4af9row38_col14\" class=\"data row38 col14\" >0</td>\n",
       "                        <td id=\"T_a1643574_b078_11eb_b349_f8b156bc4af9row38_col15\" class=\"data row38 col15\" >0</td>\n",
       "                        <td id=\"T_a1643574_b078_11eb_b349_f8b156bc4af9row38_col16\" class=\"data row38 col16\" >0</td>\n",
       "                        <td id=\"T_a1643574_b078_11eb_b349_f8b156bc4af9row38_col17\" class=\"data row38 col17\" >0</td>\n",
       "            </tr>\n",
       "            <tr>\n",
       "                        <th id=\"T_a1643574_b078_11eb_b349_f8b156bc4af9level0_row39\" class=\"row_heading level0 row39\" >Uganda</th>\n",
       "                        <td id=\"T_a1643574_b078_11eb_b349_f8b156bc4af9row39_col0\" class=\"data row39 col0\" >0</td>\n",
       "                        <td id=\"T_a1643574_b078_11eb_b349_f8b156bc4af9row39_col1\" class=\"data row39 col1\" >0</td>\n",
       "                        <td id=\"T_a1643574_b078_11eb_b349_f8b156bc4af9row39_col2\" class=\"data row39 col2\" >0</td>\n",
       "                        <td id=\"T_a1643574_b078_11eb_b349_f8b156bc4af9row39_col3\" class=\"data row39 col3\" >0</td>\n",
       "                        <td id=\"T_a1643574_b078_11eb_b349_f8b156bc4af9row39_col4\" class=\"data row39 col4\" >0</td>\n",
       "                        <td id=\"T_a1643574_b078_11eb_b349_f8b156bc4af9row39_col5\" class=\"data row39 col5\" >0</td>\n",
       "                        <td id=\"T_a1643574_b078_11eb_b349_f8b156bc4af9row39_col6\" class=\"data row39 col6\" >0</td>\n",
       "                        <td id=\"T_a1643574_b078_11eb_b349_f8b156bc4af9row39_col7\" class=\"data row39 col7\" >0</td>\n",
       "                        <td id=\"T_a1643574_b078_11eb_b349_f8b156bc4af9row39_col8\" class=\"data row39 col8\" >0</td>\n",
       "                        <td id=\"T_a1643574_b078_11eb_b349_f8b156bc4af9row39_col9\" class=\"data row39 col9\" >0</td>\n",
       "                        <td id=\"T_a1643574_b078_11eb_b349_f8b156bc4af9row39_col10\" class=\"data row39 col10\" >0</td>\n",
       "                        <td id=\"T_a1643574_b078_11eb_b349_f8b156bc4af9row39_col11\" class=\"data row39 col11\" >0</td>\n",
       "                        <td id=\"T_a1643574_b078_11eb_b349_f8b156bc4af9row39_col12\" class=\"data row39 col12\" >70</td>\n",
       "                        <td id=\"T_a1643574_b078_11eb_b349_f8b156bc4af9row39_col13\" class=\"data row39 col13\" >0</td>\n",
       "                        <td id=\"T_a1643574_b078_11eb_b349_f8b156bc4af9row39_col14\" class=\"data row39 col14\" >0</td>\n",
       "                        <td id=\"T_a1643574_b078_11eb_b349_f8b156bc4af9row39_col15\" class=\"data row39 col15\" >0</td>\n",
       "                        <td id=\"T_a1643574_b078_11eb_b349_f8b156bc4af9row39_col16\" class=\"data row39 col16\" >0</td>\n",
       "                        <td id=\"T_a1643574_b078_11eb_b349_f8b156bc4af9row39_col17\" class=\"data row39 col17\" >28</td>\n",
       "            </tr>\n",
       "            <tr>\n",
       "                        <th id=\"T_a1643574_b078_11eb_b349_f8b156bc4af9level0_row40\" class=\"row_heading level0 row40\" >Ukraine</th>\n",
       "                        <td id=\"T_a1643574_b078_11eb_b349_f8b156bc4af9row40_col0\" class=\"data row40 col0\" >92</td>\n",
       "                        <td id=\"T_a1643574_b078_11eb_b349_f8b156bc4af9row40_col1\" class=\"data row40 col1\" >13</td>\n",
       "                        <td id=\"T_a1643574_b078_11eb_b349_f8b156bc4af9row40_col2\" class=\"data row40 col2\" >0</td>\n",
       "                        <td id=\"T_a1643574_b078_11eb_b349_f8b156bc4af9row40_col3\" class=\"data row40 col3\" >119</td>\n",
       "                        <td id=\"T_a1643574_b078_11eb_b349_f8b156bc4af9row40_col4\" class=\"data row40 col4\" >372</td>\n",
       "                        <td id=\"T_a1643574_b078_11eb_b349_f8b156bc4af9row40_col5\" class=\"data row40 col5\" >543</td>\n",
       "                        <td id=\"T_a1643574_b078_11eb_b349_f8b156bc4af9row40_col6\" class=\"data row40 col6\" >435</td>\n",
       "                        <td id=\"T_a1643574_b078_11eb_b349_f8b156bc4af9row40_col7\" class=\"data row40 col7\" >305</td>\n",
       "                        <td id=\"T_a1643574_b078_11eb_b349_f8b156bc4af9row40_col8\" class=\"data row40 col8\" >403</td>\n",
       "                        <td id=\"T_a1643574_b078_11eb_b349_f8b156bc4af9row40_col9\" class=\"data row40 col9\" >464</td>\n",
       "                        <td id=\"T_a1643574_b078_11eb_b349_f8b156bc4af9row40_col10\" class=\"data row40 col10\" >859</td>\n",
       "                        <td id=\"T_a1643574_b078_11eb_b349_f8b156bc4af9row40_col11\" class=\"data row40 col11\" >638</td>\n",
       "                        <td id=\"T_a1643574_b078_11eb_b349_f8b156bc4af9row40_col12\" class=\"data row40 col12\" >735</td>\n",
       "                        <td id=\"T_a1643574_b078_11eb_b349_f8b156bc4af9row40_col13\" class=\"data row40 col13\" >423</td>\n",
       "                        <td id=\"T_a1643574_b078_11eb_b349_f8b156bc4af9row40_col14\" class=\"data row40 col14\" >794</td>\n",
       "                        <td id=\"T_a1643574_b078_11eb_b349_f8b156bc4af9row40_col15\" class=\"data row40 col15\" >1173</td>\n",
       "                        <td id=\"T_a1643574_b078_11eb_b349_f8b156bc4af9row40_col16\" class=\"data row40 col16\" >393</td>\n",
       "                        <td id=\"T_a1643574_b078_11eb_b349_f8b156bc4af9row40_col17\" class=\"data row40 col17\" >0</td>\n",
       "            </tr>\n",
       "            <tr>\n",
       "                        <th id=\"T_a1643574_b078_11eb_b349_f8b156bc4af9level0_row41\" class=\"row_heading level0 row41\" >United States</th>\n",
       "                        <td id=\"T_a1643574_b078_11eb_b349_f8b156bc4af9row41_col0\" class=\"data row41 col0\" >0</td>\n",
       "                        <td id=\"T_a1643574_b078_11eb_b349_f8b156bc4af9row41_col1\" class=\"data row41 col1\" >0</td>\n",
       "                        <td id=\"T_a1643574_b078_11eb_b349_f8b156bc4af9row41_col2\" class=\"data row41 col2\" >0</td>\n",
       "                        <td id=\"T_a1643574_b078_11eb_b349_f8b156bc4af9row41_col3\" class=\"data row41 col3\" >0</td>\n",
       "                        <td id=\"T_a1643574_b078_11eb_b349_f8b156bc4af9row41_col4\" class=\"data row41 col4\" >0</td>\n",
       "                        <td id=\"T_a1643574_b078_11eb_b349_f8b156bc4af9row41_col5\" class=\"data row41 col5\" >0</td>\n",
       "                        <td id=\"T_a1643574_b078_11eb_b349_f8b156bc4af9row41_col6\" class=\"data row41 col6\" >0</td>\n",
       "                        <td id=\"T_a1643574_b078_11eb_b349_f8b156bc4af9row41_col7\" class=\"data row41 col7\" >0</td>\n",
       "                        <td id=\"T_a1643574_b078_11eb_b349_f8b156bc4af9row41_col8\" class=\"data row41 col8\" >0</td>\n",
       "                        <td id=\"T_a1643574_b078_11eb_b349_f8b156bc4af9row41_col9\" class=\"data row41 col9\" >0</td>\n",
       "                        <td id=\"T_a1643574_b078_11eb_b349_f8b156bc4af9row41_col10\" class=\"data row41 col10\" >0</td>\n",
       "                        <td id=\"T_a1643574_b078_11eb_b349_f8b156bc4af9row41_col11\" class=\"data row41 col11\" >0</td>\n",
       "                        <td id=\"T_a1643574_b078_11eb_b349_f8b156bc4af9row41_col12\" class=\"data row41 col12\" >0</td>\n",
       "                        <td id=\"T_a1643574_b078_11eb_b349_f8b156bc4af9row41_col13\" class=\"data row41 col13\" >632</td>\n",
       "                        <td id=\"T_a1643574_b078_11eb_b349_f8b156bc4af9row41_col14\" class=\"data row41 col14\" >1239</td>\n",
       "                        <td id=\"T_a1643574_b078_11eb_b349_f8b156bc4af9row41_col15\" class=\"data row41 col15\" >1086</td>\n",
       "                        <td id=\"T_a1643574_b078_11eb_b349_f8b156bc4af9row41_col16\" class=\"data row41 col16\" >679</td>\n",
       "                        <td id=\"T_a1643574_b078_11eb_b349_f8b156bc4af9row41_col17\" class=\"data row41 col17\" >0</td>\n",
       "            </tr>\n",
       "            <tr>\n",
       "                        <th id=\"T_a1643574_b078_11eb_b349_f8b156bc4af9level0_row42\" class=\"row_heading level0 row42\" >Unknown</th>\n",
       "                        <td id=\"T_a1643574_b078_11eb_b349_f8b156bc4af9row42_col0\" class=\"data row42 col0\" >0</td>\n",
       "                        <td id=\"T_a1643574_b078_11eb_b349_f8b156bc4af9row42_col1\" class=\"data row42 col1\" >0</td>\n",
       "                        <td id=\"T_a1643574_b078_11eb_b349_f8b156bc4af9row42_col2\" class=\"data row42 col2\" >0</td>\n",
       "                        <td id=\"T_a1643574_b078_11eb_b349_f8b156bc4af9row42_col3\" class=\"data row42 col3\" >0</td>\n",
       "                        <td id=\"T_a1643574_b078_11eb_b349_f8b156bc4af9row42_col4\" class=\"data row42 col4\" >0</td>\n",
       "                        <td id=\"T_a1643574_b078_11eb_b349_f8b156bc4af9row42_col5\" class=\"data row42 col5\" >0</td>\n",
       "                        <td id=\"T_a1643574_b078_11eb_b349_f8b156bc4af9row42_col6\" class=\"data row42 col6\" >0</td>\n",
       "                        <td id=\"T_a1643574_b078_11eb_b349_f8b156bc4af9row42_col7\" class=\"data row42 col7\" >0</td>\n",
       "                        <td id=\"T_a1643574_b078_11eb_b349_f8b156bc4af9row42_col8\" class=\"data row42 col8\" >0</td>\n",
       "                        <td id=\"T_a1643574_b078_11eb_b349_f8b156bc4af9row42_col9\" class=\"data row42 col9\" >0</td>\n",
       "                        <td id=\"T_a1643574_b078_11eb_b349_f8b156bc4af9row42_col10\" class=\"data row42 col10\" >0</td>\n",
       "                        <td id=\"T_a1643574_b078_11eb_b349_f8b156bc4af9row42_col11\" class=\"data row42 col11\" >0</td>\n",
       "                        <td id=\"T_a1643574_b078_11eb_b349_f8b156bc4af9row42_col12\" class=\"data row42 col12\" >0</td>\n",
       "                        <td id=\"T_a1643574_b078_11eb_b349_f8b156bc4af9row42_col13\" class=\"data row42 col13\" >827</td>\n",
       "                        <td id=\"T_a1643574_b078_11eb_b349_f8b156bc4af9row42_col14\" class=\"data row42 col14\" >1962</td>\n",
       "                        <td id=\"T_a1643574_b078_11eb_b349_f8b156bc4af9row42_col15\" class=\"data row42 col15\" >2763</td>\n",
       "                        <td id=\"T_a1643574_b078_11eb_b349_f8b156bc4af9row42_col16\" class=\"data row42 col16\" >3584</td>\n",
       "                        <td id=\"T_a1643574_b078_11eb_b349_f8b156bc4af9row42_col17\" class=\"data row42 col17\" >0</td>\n",
       "            </tr>\n",
       "            <tr>\n",
       "                        <th id=\"T_a1643574_b078_11eb_b349_f8b156bc4af9level0_row43\" class=\"row_heading level0 row43\" >Uzbekistan</th>\n",
       "                        <td id=\"T_a1643574_b078_11eb_b349_f8b156bc4af9row43_col0\" class=\"data row43 col0\" >0</td>\n",
       "                        <td id=\"T_a1643574_b078_11eb_b349_f8b156bc4af9row43_col1\" class=\"data row43 col1\" >0</td>\n",
       "                        <td id=\"T_a1643574_b078_11eb_b349_f8b156bc4af9row43_col2\" class=\"data row43 col2\" >0</td>\n",
       "                        <td id=\"T_a1643574_b078_11eb_b349_f8b156bc4af9row43_col3\" class=\"data row43 col3\" >78</td>\n",
       "                        <td id=\"T_a1643574_b078_11eb_b349_f8b156bc4af9row43_col4\" class=\"data row43 col4\" >0</td>\n",
       "                        <td id=\"T_a1643574_b078_11eb_b349_f8b156bc4af9row43_col5\" class=\"data row43 col5\" >0</td>\n",
       "                        <td id=\"T_a1643574_b078_11eb_b349_f8b156bc4af9row43_col6\" class=\"data row43 col6\" >0</td>\n",
       "                        <td id=\"T_a1643574_b078_11eb_b349_f8b156bc4af9row43_col7\" class=\"data row43 col7\" >0</td>\n",
       "                        <td id=\"T_a1643574_b078_11eb_b349_f8b156bc4af9row43_col8\" class=\"data row43 col8\" >0</td>\n",
       "                        <td id=\"T_a1643574_b078_11eb_b349_f8b156bc4af9row43_col9\" class=\"data row43 col9\" >31</td>\n",
       "                        <td id=\"T_a1643574_b078_11eb_b349_f8b156bc4af9row43_col10\" class=\"data row43 col10\" >0</td>\n",
       "                        <td id=\"T_a1643574_b078_11eb_b349_f8b156bc4af9row43_col11\" class=\"data row43 col11\" >115</td>\n",
       "                        <td id=\"T_a1643574_b078_11eb_b349_f8b156bc4af9row43_col12\" class=\"data row43 col12\" >0</td>\n",
       "                        <td id=\"T_a1643574_b078_11eb_b349_f8b156bc4af9row43_col13\" class=\"data row43 col13\" >11</td>\n",
       "                        <td id=\"T_a1643574_b078_11eb_b349_f8b156bc4af9row43_col14\" class=\"data row43 col14\" >0</td>\n",
       "                        <td id=\"T_a1643574_b078_11eb_b349_f8b156bc4af9row43_col15\" class=\"data row43 col15\" >26</td>\n",
       "                        <td id=\"T_a1643574_b078_11eb_b349_f8b156bc4af9row43_col16\" class=\"data row43 col16\" >0</td>\n",
       "                        <td id=\"T_a1643574_b078_11eb_b349_f8b156bc4af9row43_col17\" class=\"data row43 col17\" >0</td>\n",
       "            </tr>\n",
       "            <tr>\n",
       "                        <th id=\"T_a1643574_b078_11eb_b349_f8b156bc4af9level0_row44\" class=\"row_heading level0 row44\" >Viet Nam</th>\n",
       "                        <td id=\"T_a1643574_b078_11eb_b349_f8b156bc4af9row44_col0\" class=\"data row44 col0\" >0</td>\n",
       "                        <td id=\"T_a1643574_b078_11eb_b349_f8b156bc4af9row44_col1\" class=\"data row44 col1\" >0</td>\n",
       "                        <td id=\"T_a1643574_b078_11eb_b349_f8b156bc4af9row44_col2\" class=\"data row44 col2\" >0</td>\n",
       "                        <td id=\"T_a1643574_b078_11eb_b349_f8b156bc4af9row44_col3\" class=\"data row44 col3\" >0</td>\n",
       "                        <td id=\"T_a1643574_b078_11eb_b349_f8b156bc4af9row44_col4\" class=\"data row44 col4\" >0</td>\n",
       "                        <td id=\"T_a1643574_b078_11eb_b349_f8b156bc4af9row44_col5\" class=\"data row44 col5\" >0</td>\n",
       "                        <td id=\"T_a1643574_b078_11eb_b349_f8b156bc4af9row44_col6\" class=\"data row44 col6\" >0</td>\n",
       "                        <td id=\"T_a1643574_b078_11eb_b349_f8b156bc4af9row44_col7\" class=\"data row44 col7\" >0</td>\n",
       "                        <td id=\"T_a1643574_b078_11eb_b349_f8b156bc4af9row44_col8\" class=\"data row44 col8\" >0</td>\n",
       "                        <td id=\"T_a1643574_b078_11eb_b349_f8b156bc4af9row44_col9\" class=\"data row44 col9\" >0</td>\n",
       "                        <td id=\"T_a1643574_b078_11eb_b349_f8b156bc4af9row44_col10\" class=\"data row44 col10\" >0</td>\n",
       "                        <td id=\"T_a1643574_b078_11eb_b349_f8b156bc4af9row44_col11\" class=\"data row44 col11\" >0</td>\n",
       "                        <td id=\"T_a1643574_b078_11eb_b349_f8b156bc4af9row44_col12\" class=\"data row44 col12\" >0</td>\n",
       "                        <td id=\"T_a1643574_b078_11eb_b349_f8b156bc4af9row44_col13\" class=\"data row44 col13\" >0</td>\n",
       "                        <td id=\"T_a1643574_b078_11eb_b349_f8b156bc4af9row44_col14\" class=\"data row44 col14\" >0</td>\n",
       "                        <td id=\"T_a1643574_b078_11eb_b349_f8b156bc4af9row44_col15\" class=\"data row44 col15\" >139</td>\n",
       "                        <td id=\"T_a1643574_b078_11eb_b349_f8b156bc4af9row44_col16\" class=\"data row44 col16\" >31</td>\n",
       "                        <td id=\"T_a1643574_b078_11eb_b349_f8b156bc4af9row44_col17\" class=\"data row44 col17\" >0</td>\n",
       "            </tr>\n",
       "    </tbody></table>"
      ],
      "text/plain": [
       "<pandas.io.formats.style.Styler at 0x1d49c640190>"
      ]
     },
     "execution_count": 10,
     "metadata": {},
     "output_type": "execute_result"
    }
   ],
   "source": [
    "#correct\n",
    "piv = pd.pivot_table(df, values='Datasource', index='country',columns='yearOfRegistration', aggfunc='count', fill_value=0)\n",
    "piv.style.background_gradient(cmap='GnBu')"
   ]
  },
  {
   "cell_type": "code",
   "execution_count": 11,
   "metadata": {},
   "outputs": [],
   "source": [
    "#correct\n",
    "df['ageBroad'] = pd.Categorical(df['ageBroad'],categories=['0--8', '9--17', '18--20', '21--23','24--26', '27--29', '30--38', '39--47','48+'], ordered=True)"
   ]
  },
  {
   "cell_type": "code",
   "execution_count": 12,
   "metadata": {},
   "outputs": [
    {
     "name": "stdout",
     "output_type": "stream",
     "text": [
      "Female percent: 73%, Males, 27%\n"
     ]
    },
    {
     "data": {
      "image/png": "[encoded data removed]",
      "text/plain": [
       "<Figure size 625x375 with 1 Axes>"
      ]
     },
     "metadata": {
      "needs_background": "light"
     },
     "output_type": "display_data"
    }
   ],
   "source": [
    "#corret\n",
    "total = df['gender'].count()\n",
    "sex = df['gender'].value_counts()\n",
    "percentF = round((sex[0]/total)*100)\n",
    "percentM = round((sex[1]/total)*100)\n",
    "print(f\"Female percent: {percentF}%, Males, {percentM}%\")\n",
    "plt.figure(figsize=(5,3), dpi=125)\n",
    "plt.style.use('ggplot')\n",
    "df_age = df[['ageBroad','gender']]\n",
    "sns.countplot(data=df_age,x='ageBroad',hue='gender')\n",
    "plt.xlabel('Age Groups', fontdict={'fontname':'Calibri','fontsize':15})\n",
    "plt.ylabel('Total', fontdict={'fontname':'Calibri','fontsize':15})\n",
    "plt.xticks(rotation=75)\n",
    "plt.legend()\n",
    "plt.show()"
   ]
  },
  {
   "cell_type": "code",
   "execution_count": 55,
   "metadata": {},
   "outputs": [
    {
     "data": {
      "image/png": "[encoded data removed]",
      "text/plain": [
       "<Figure size 625x375 with 1 Axes>"
      ]
     },
     "metadata": {},
     "output_type": "display_data"
    },
    {
     "data": {
      "image/png": "[encoded data removed]",
      "text/plain": [
       "<Figure size 625x375 with 1 Axes>"
      ]
     },
     "metadata": {},
     "output_type": "display_data"
    }
   ],
   "source": [
    "# correct\n",
    "plt.figure(figsize=(5,3), dpi=125)\n",
    "plt.style.use('ggplot')\n",
    "df_age = df[['majorityStatusAtExploit','gender']]\n",
    "sns.countplot(data=df_age,x='majorityStatusAtExploit',hue='gender')\n",
    "plt.title('Age at Exploitation',fontdict={'fontname':'Calibri','fontsize':20})\n",
    "plt.xlabel('')\n",
    "plt.ylabel('Total', fontdict={'fontname':'Calibri','fontsize':15})\n",
    "plt.legend()\n",
    "plt.show()\n",
    "#---------------\n",
    "plt.figure(figsize=(5,3), dpi=125)\n",
    "plt.style.use('ggplot')\n",
    "df_age = df[['majorityStatus','gender']]\n",
    "sns.countplot(data=df_age,x='majorityStatus',hue='gender')\n",
    "plt.title('Age at Time of Registration',fontdict={'fontname':'Calibri','fontsize':20})\n",
    "plt.xlabel('')\n",
    "plt.ylabel('Total', fontdict={'fontname':'Calibri','fontsize':15})\n",
    "plt.legend()\n",
    "plt.show()"
   ]
  },
  {
   "cell_type": "code",
   "execution_count": 50,
   "metadata": {},
   "outputs": [],
   "source": [
    "# Not sure if this is the correct way to break down the meansOfControlConcatenated column, \n",
    "# possibly doing a one hot encoding, but then I get somewhat lost on how to get all the columns into one chart\n",
    "\n",
    "df['meansOfControlConcatenated'] = df['meansOfControlConcatenated'].str.replace('Abuse', 'abuse', regex=True)\n",
    "df_control = df[(df.meansOfControlConcatenated.notna()) & (df.gender)]\\\n",
    "        .meansOfControlConcatenated.apply(lambda x: pd.value_counts(str(x).split(\";\"))).sum(axis=0)"
   ]
  },
  {
   "cell_type": "code",
   "execution_count": 51,
   "metadata": {},
   "outputs": [
    {
     "data": {
      "image/png": "[encoded data removed]",
      "text/plain": [
       "<Figure size 750x450 with 1 Axes>"
      ]
     },
     "metadata": {},
     "output_type": "display_data"
    }
   ],
   "source": [
    "# Having issue graphing the following column by 'gender': meansOfControlConcatenated\n",
    "\n",
    "plt.figure(figsize=(5,3), dpi=150)\n",
    "plt.style.use('ggplot')\n",
    "sns.countplot(data=df_control, x=df_control.index, hue=df_control)\n",
    "plt.title('Means of Control',fontdict={'fontname':'Calibri','fontsize':20})\n",
    "plt.ylabel('Total', fontdict={'fontname':'Calibri','fontsize':15})\n",
    "plt.xticks(rotation=75)\n",
    "plt.show()"
   ]
  },
  {
   "cell_type": "code",
   "execution_count": 56,
   "metadata": {},
   "outputs": [],
   "source": [
    "# alternative solution that does not appear to work\n",
    "\n",
    "df['meansOfControlConcatenated'] = df['meansOfControlConcatenated'].str.replace('Abuse', 'abuse', regex=True)\n",
    "df_control_f = df[(df.meansOfControlConcatenated.notna()) & (df.gender == 'Female')]\\\n",
    "        .meansOfControlConcatenated.apply(lambda x: pd.value_counts(str(x).split(\";\"))).sum(axis = 0)\n",
    "df_control_m = df[(df.meansOfControlConcatenated.notna()) & (df.gender == 'Male')]\\\n",
    "        .meansOfControlConcatenated.apply(lambda x: pd.value_counts(str(x).split(\";\"))).sum(axis = 0)"
   ]
  },
  {
   "cell_type": "code",
   "execution_count": 64,
   "metadata": {},
   "outputs": [
    {
     "data": {
      "image/png": "[encoded data removed]",
      "text/plain": [
       "<Figure size 750x450 with 1 Axes>"
      ]
     },
     "metadata": {},
     "output_type": "display_data"
    }
   ],
   "source": [
    "# appears to be graphed incorrectly\n",
    "\n",
    "fig = plt.figure(figsize=(5,3), dpi=150) \n",
    "plt.style.use('ggplot')\n",
    "ax = fig.add_subplot()\n",
    "width = .3\n",
    "df_control_f.plot(kind='bar', ax=ax, width=width, position=1, label='Female')\n",
    "df_control_m.plot(kind='bar', color='#183bed', ax=ax, width=width, position=0, label='Male')\n",
    "plt.title('Means of Control',fontdict={'fontname':'Calibri','fontsize':20})\n",
    "plt.xticks(rotation=85)\n",
    "plt.legend()\n",
    "plt.show()"
   ]
  },
  {
   "cell_type": "code",
   "execution_count": 62,
   "metadata": {},
   "outputs": [],
   "source": [
    "# same issue for column: typeOfExploitConcatenated\n",
    "df_exploit_f = df[(df.typeOfExploitConcatenated.notna()) & (df.gender == 'Female')]\\\n",
    "        .typeOfExploitConcatenated.apply(lambda x: pd.value_counts(str(x).split(\";\"))).sum(axis = 0)\n",
    "df_exploit_m = df[(df.typeOfExploitConcatenated.notna()) & (df.gender == 'Male')]\\\n",
    "        .typeOfExploitConcatenated.apply(lambda x: pd.value_counts(str(x).split(\";\"))).sum(axis = 0)"
   ]
  },
  {
   "cell_type": "code",
   "execution_count": 65,
   "metadata": {},
   "outputs": [
    {
     "data": {
      "image/png": "[encoded data removed]",
      "text/plain": [
       "<Figure size 750x450 with 1 Axes>"
      ]
     },
     "metadata": {},
     "output_type": "display_data"
    }
   ],
   "source": [
    "# graphed incorrectly\n",
    "\n",
    "fig = plt.figure(figsize=(5,3), dpi=150) \n",
    "plt.style.use('ggplot')\n",
    "ax = fig.add_subplot()\n",
    "width = .3\n",
    "df_exploit_f.plot(kind='bar', ax=ax, width=width, position=1, label='Female')\n",
    "df_exploit_m.plot(kind='bar', color='#183bed', ax=ax, width=width, position=0, label='Male')\n",
    "plt.title('Type of Exploitation',fontdict={'fontname':'Calibri','fontsize':20})\n",
    "plt.xticks(rotation=85)\n",
    "plt.legend()\n",
    "plt.show()"
   ]
  },
  {
   "cell_type": "code",
   "execution_count": 69,
   "metadata": {},
   "outputs": [],
   "source": [
    "# same issue for column: typeOfLabourConcatenated\n",
    "df_labour_f = df[(df.typeOfLabourConcatenated.notna()) & (df.gender == 'Female')]\\\n",
    "        .typeOfLabourConcatenated.apply(lambda x: pd.value_counts(str(x).split(\";\"))).sum(axis = 0)\n",
    "df_labour_m = df[(df.typeOfLabourConcatenated.notna()) & (df.gender == 'Male')]\\\n",
    "        .typeOfLabourConcatenated.apply(lambda x: pd.value_counts(str(x).split(\";\"))).sum(axis = 0) "
   ]
  },
  {
   "cell_type": "code",
   "execution_count": 73,
   "metadata": {},
   "outputs": [
    {
     "data": {
      "image/png": "[encoded data removed]",
      "text/plain": [
       "<Figure size 750x450 with 1 Axes>"
      ]
     },
     "metadata": {},
     "output_type": "display_data"
    }
   ],
   "source": [
    "# graphed incorrectly\n",
    "fig = plt.figure(figsize=(5,3), dpi=150) \n",
    "plt.style.use('ggplot')\n",
    "ax = fig.add_subplot()\n",
    "width = .3\n",
    "df_labour_f.plot(kind='bar', ax=ax, width=width, position=1, label='Female')\n",
    "df_labour_m.plot(kind='bar', color='#183bed', ax=ax, width=width, position=0, label='Male')\n",
    "plt.title('Type of Labour',fontdict={'fontname':'Calibri','fontsize':20})\n",
    "plt.xticks(rotation=85)\n",
    "plt.legend()\n",
    "plt.show()"
   ]
  },
  {
   "cell_type": "code",
   "execution_count": 71,
   "metadata": {},
   "outputs": [],
   "source": [
    "# same issue for column: typeOfSexConcatenated\n",
    "df_sex_f = df[(df.typeOfSexConcatenated.notna()) & (df.gender == 'Female')]\\\n",
    "        .typeOfSexConcatenated.apply(lambda x: pd.value_counts(str(x).split(\";\"))).sum(axis = 0)\n",
    "df_sex_m = df[(df.typeOfSexConcatenated.notna()) & (df.gender == 'Male')]\\\n",
    "        .typeOfSexConcatenated.apply(lambda x: pd.value_counts(str(x).split(\";\"))).sum(axis = 0)"
   ]
  },
  {
   "cell_type": "markdown",
   "metadata": {},
   "source": [
    "### This next cell shows that the graph below it is incorrect"
   ]
  },
  {
   "cell_type": "code",
   "execution_count": 136,
   "metadata": {
    "scrolled": true
   },
   "outputs": [
    {
     "data": {
      "text/plain": [
       "Prostitution               4356.0\n",
       "Pornography                 133.0\n",
       "Private sexual services      43.0\n",
       "dtype: float64"
      ]
     },
     "execution_count": 136,
     "metadata": {},
     "output_type": "execute_result"
    }
   ],
   "source": [
    "df_sex_f.head() # this shows that the below graph is incorrect"
   ]
  },
  {
   "cell_type": "code",
   "execution_count": 131,
   "metadata": {},
   "outputs": [
    {
     "data": {
      "image/png": "[encoded data removed]",
      "text/plain": [
       "<Figure size 750x450 with 1 Axes>"
      ]
     },
     "metadata": {},
     "output_type": "display_data"
    }
   ],
   "source": [
    "# graphed incorrectly\n",
    "fig = plt.figure(figsize=(5,3), dpi=150) \n",
    "plt.style.use('ggplot')\n",
    "ax = fig.add_subplot()\n",
    "width = .3\n",
    "df_sex_f.plot(kind='bar', ax=ax, width=width, position=1, label='Female')\n",
    "df_sex_m.plot(kind='bar', color='#183bed', ax=ax, width=width, position=0, label='Male')\n",
    "plt.title('Type of Sexual Exploitation',fontdict={'fontname':'Calibri','fontsize':20})\n",
    "plt.xticks(rotation=85)\n",
    "plt.legend()\n",
    "plt.show()"
   ]
  },
  {
   "cell_type": "code",
   "execution_count": 130,
   "metadata": {},
   "outputs": [],
   "source": [
    "# and so on and so forth\n",
    "df_relationship_f = df[(df.RecruiterRelationship.notna()) & (df.gender == 'Female')]\\\n",
    "        .RecruiterRelationship.apply(lambda x: pd.value_counts(str(x).split(\"; \"))).sum(axis = 0)\n",
    "df_relationship_m = df[(df.RecruiterRelationship.notna()) & (df.gender == 'Male')]\\\n",
    "        .RecruiterRelationship.apply(lambda x: pd.value_counts(str(x).split(\"; \"))).sum(axis = 0)"
   ]
  },
  {
   "cell_type": "code",
   "execution_count": 135,
   "metadata": {},
   "outputs": [
    {
     "data": {
      "image/png": "[encoded data removed]",
      "text/plain": [
       "<Figure size 750x450 with 1 Axes>"
      ]
     },
     "metadata": {},
     "output_type": "display_data"
    }
   ],
   "source": [
    "fig = plt.figure(figsize=(5,3), dpi=150) \n",
    "plt.style.use('ggplot')\n",
    "ax = fig.add_subplot()\n",
    "width = .3\n",
    "df_relationship_f.plot(kind='bar', ax=ax, width=width, position=1, label='Female')\n",
    "df_relationship_m.plot(kind='bar', color='#183bed', ax=ax, width=width, position=0, label='Male')\n",
    "plt.title('Type of Sexual Exploitation',fontdict={'fontname':'Calibri','fontsize':20})\n",
    "plt.xticks(rotation=85)\n",
    "plt.legend()\n",
    "plt.show()"
   ]
  },
  {
   "cell_type": "code",
   "execution_count": null,
   "metadata": {},
   "outputs": [],
   "source": []
  }
 ],
 "metadata": {
  "kernelspec": {
   "display_name": "Python 3",
   "language": "python",
   "name": "python3"
  },
  "language_info": {
   "codemirror_mode": {
    "name": "ipython",
    "version": 3
   },
   "file_extension": ".py",
   "mimetype": "text/x-python",
   "name": "python",
   "nbconvert_exporter": "python",
   "pygments_lexer": "ipython3",
   "version": "3.8.5"
  }
 },
 "nbformat": 4,
 "nbformat_minor": 4
}
